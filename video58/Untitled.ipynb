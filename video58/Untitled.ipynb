{
 "cells": [
  {
   "cell_type": "code",
   "execution_count": 2,
   "id": "minute-blast",
   "metadata": {},
   "outputs": [],
   "source": [
    "from collections import defaultdict"
   ]
  },
  {
   "cell_type": "code",
   "execution_count": 3,
   "id": "fitting-interaction",
   "metadata": {},
   "outputs": [],
   "source": [
    "counter = 0\n",
    "def default_value():\n",
    "    global counter\n",
    "    counter += 1\n",
    "    return 'Default value'"
   ]
  },
  {
   "cell_type": "code",
   "execution_count": 4,
   "id": "progressive-voice",
   "metadata": {},
   "outputs": [],
   "source": [
    "d = defaultdict(default_value)"
   ]
  },
  {
   "cell_type": "code",
   "execution_count": 5,
   "id": "intelligent-cowboy",
   "metadata": {},
   "outputs": [
    {
     "data": {
      "text/plain": [
       "'Default value'"
      ]
     },
     "execution_count": 5,
     "metadata": {},
     "output_type": "execute_result"
    }
   ],
   "source": [
    "d['a']"
   ]
  },
  {
   "cell_type": "code",
   "execution_count": 6,
   "id": "temporal-definition",
   "metadata": {},
   "outputs": [],
   "source": [
    "d['b'] = 100"
   ]
  },
  {
   "cell_type": "code",
   "execution_count": 7,
   "id": "dutch-creator",
   "metadata": {},
   "outputs": [
    {
     "data": {
      "text/plain": [
       "defaultdict(<function __main__.default_value()>,\n",
       "            {'a': 'Default value', 'b': 100})"
      ]
     },
     "execution_count": 7,
     "metadata": {},
     "output_type": "execute_result"
    }
   ],
   "source": [
    "d"
   ]
  },
  {
   "cell_type": "code",
   "execution_count": 8,
   "id": "controversial-viewer",
   "metadata": {},
   "outputs": [
    {
     "data": {
      "text/plain": [
       "'Default value'"
      ]
     },
     "execution_count": 8,
     "metadata": {},
     "output_type": "execute_result"
    }
   ],
   "source": [
    "d['c']"
   ]
  },
  {
   "cell_type": "code",
   "execution_count": 9,
   "id": "amino-designer",
   "metadata": {},
   "outputs": [
    {
     "data": {
      "text/plain": [
       "'Default value'"
      ]
     },
     "execution_count": 9,
     "metadata": {},
     "output_type": "execute_result"
    }
   ],
   "source": [
    "d['a']"
   ]
  },
  {
   "cell_type": "code",
   "execution_count": 10,
   "id": "stylish-dream",
   "metadata": {},
   "outputs": [
    {
     "data": {
      "text/plain": [
       "2"
      ]
     },
     "execution_count": 10,
     "metadata": {},
     "output_type": "execute_result"
    }
   ],
   "source": [
    "counter"
   ]
  },
  {
   "cell_type": "code",
   "execution_count": 11,
   "id": "grave-punishment",
   "metadata": {},
   "outputs": [],
   "source": [
    "class DefaultValue:\n",
    "    def __init__(self, default_value):\n",
    "        self._counter = 0\n",
    "        self.default_value = default_value\n",
    "        \n",
    "    @property\n",
    "    def counter(self):\n",
    "        return self._counter\n",
    "        \n",
    "    def __call__(self):\n",
    "        self._counter += 1\n",
    "        return self.default_value"
   ]
  },
  {
   "cell_type": "code",
   "execution_count": 12,
   "id": "desperate-tunnel",
   "metadata": {},
   "outputs": [],
   "source": [
    "def1 = DefaultValue('Hello World')"
   ]
  },
  {
   "cell_type": "code",
   "execution_count": 13,
   "id": "forbidden-miracle",
   "metadata": {},
   "outputs": [],
   "source": [
    "d = defaultdict(def1)"
   ]
  },
  {
   "cell_type": "code",
   "execution_count": 14,
   "id": "lightweight-racing",
   "metadata": {},
   "outputs": [
    {
     "data": {
      "text/plain": [
       "'Hello World'"
      ]
     },
     "execution_count": 14,
     "metadata": {},
     "output_type": "execute_result"
    }
   ],
   "source": [
    "d['a']"
   ]
  },
  {
   "cell_type": "code",
   "execution_count": 15,
   "id": "small-fisher",
   "metadata": {},
   "outputs": [
    {
     "data": {
      "text/plain": [
       "1"
      ]
     },
     "execution_count": 15,
     "metadata": {},
     "output_type": "execute_result"
    }
   ],
   "source": [
    "def1.counter"
   ]
  },
  {
   "cell_type": "code",
   "execution_count": 16,
   "id": "answering-mumbai",
   "metadata": {},
   "outputs": [
    {
     "data": {
      "text/plain": [
       "'Hello World'"
      ]
     },
     "execution_count": 16,
     "metadata": {},
     "output_type": "execute_result"
    }
   ],
   "source": [
    "d['a']"
   ]
  },
  {
   "cell_type": "code",
   "execution_count": 17,
   "id": "adaptive-avenue",
   "metadata": {},
   "outputs": [
    {
     "data": {
      "text/plain": [
       "1"
      ]
     },
     "execution_count": 17,
     "metadata": {},
     "output_type": "execute_result"
    }
   ],
   "source": [
    "def1.counter"
   ]
  },
  {
   "cell_type": "code",
   "execution_count": 18,
   "id": "celtic-yemen",
   "metadata": {},
   "outputs": [
    {
     "data": {
      "text/plain": [
       "'Hello World'"
      ]
     },
     "execution_count": 18,
     "metadata": {},
     "output_type": "execute_result"
    }
   ],
   "source": [
    "d['b']"
   ]
  },
  {
   "cell_type": "code",
   "execution_count": 19,
   "id": "mineral-course",
   "metadata": {},
   "outputs": [
    {
     "data": {
      "text/plain": [
       "2"
      ]
     },
     "execution_count": 19,
     "metadata": {},
     "output_type": "execute_result"
    }
   ],
   "source": [
    "def1.counter"
   ]
  },
  {
   "cell_type": "code",
   "execution_count": 20,
   "id": "mineral-prayer",
   "metadata": {},
   "outputs": [],
   "source": [
    "class defaultValue:\n",
    "    def __init__(self, default_value):\n",
    "        self._counter = 0\n",
    "        self.default_value = default_value\n",
    "        \n",
    "    @property\n",
    "    def counter(self):\n",
    "        return self._counter\n",
    "        \n",
    "    def __call__(self):\n",
    "        self._counter += 1\n",
    "        return self.default_value"
   ]
  },
  {
   "cell_type": "code",
   "execution_count": 21,
   "id": "hazardous-malpractice",
   "metadata": {},
   "outputs": [],
   "source": [
    "def1 = defaultValue(10)"
   ]
  },
  {
   "cell_type": "code",
   "execution_count": 22,
   "id": "grateful-property",
   "metadata": {},
   "outputs": [],
   "source": [
    "d = defaultdict(def1)"
   ]
  },
  {
   "cell_type": "code",
   "execution_count": 23,
   "id": "capable-round",
   "metadata": {},
   "outputs": [
    {
     "data": {
      "text/plain": [
       "10"
      ]
     },
     "execution_count": 23,
     "metadata": {},
     "output_type": "execute_result"
    }
   ],
   "source": [
    "d['a']"
   ]
  },
  {
   "cell_type": "code",
   "execution_count": 24,
   "id": "several-bubble",
   "metadata": {},
   "outputs": [
    {
     "data": {
      "text/plain": [
       "1"
      ]
     },
     "execution_count": 24,
     "metadata": {},
     "output_type": "execute_result"
    }
   ],
   "source": [
    "def1.counter"
   ]
  },
  {
   "cell_type": "code",
   "execution_count": 25,
   "id": "curious-constraint",
   "metadata": {},
   "outputs": [],
   "source": [
    "from time import perf_counter\n",
    "from functools import wraps"
   ]
  },
  {
   "cell_type": "code",
   "execution_count": 37,
   "id": "mounted-service",
   "metadata": {},
   "outputs": [],
   "source": [
    "def profiler(fn):\n",
    "    \n",
    "    _counter = 0\n",
    "    _time_elapsed = 0\n",
    "    _avg_time = 0\n",
    "    \n",
    "    @wraps(fn)\n",
    "    def inner(*args, **kwargs):\n",
    "        nonlocal _counter\n",
    "        nonlocal _time_elapsed\n",
    "        start = perf_counter()\n",
    "        result = fn(*args, **kwargs)\n",
    "        end = perf_counter()\n",
    "        _time_elapsed += (end - start)\n",
    "        _counter += 1\n",
    "        \n",
    "    def counter():\n",
    "        return _counter\n",
    "    \n",
    "    def avg_time():\n",
    "        return _time_elapsed / _counter\n",
    "    \n",
    "    inner.counter = counter\n",
    "    inner.avg_time = avg_time\n",
    "    \n",
    "    return inner\n",
    "    "
   ]
  },
  {
   "cell_type": "code",
   "execution_count": 38,
   "id": "referenced-technique",
   "metadata": {},
   "outputs": [],
   "source": [
    "from random import random\n",
    "from time import sleep"
   ]
  },
  {
   "cell_type": "code",
   "execution_count": 39,
   "id": "bacterial-worcester",
   "metadata": {},
   "outputs": [],
   "source": [
    "@profiler\n",
    "def func_1(a, b):\n",
    "    sleep(random())\n",
    "    return a, b"
   ]
  },
  {
   "cell_type": "code",
   "execution_count": 40,
   "id": "aging-alberta",
   "metadata": {},
   "outputs": [],
   "source": [
    "func_1(1, 2)"
   ]
  },
  {
   "cell_type": "code",
   "execution_count": 43,
   "id": "honey-festival",
   "metadata": {},
   "outputs": [
    {
     "data": {
      "text/plain": [
       "0.7830799000000184"
      ]
     },
     "execution_count": 43,
     "metadata": {},
     "output_type": "execute_result"
    }
   ],
   "source": [
    "func_1.avg_time()"
   ]
  },
  {
   "cell_type": "code",
   "execution_count": 45,
   "id": "exotic-congo",
   "metadata": {},
   "outputs": [
    {
     "data": {
      "text/plain": [
       "1"
      ]
     },
     "execution_count": 45,
     "metadata": {},
     "output_type": "execute_result"
    }
   ],
   "source": [
    "func_1.counter()"
   ]
  },
  {
   "cell_type": "code",
   "execution_count": 46,
   "id": "north-baltimore",
   "metadata": {},
   "outputs": [
    {
     "name": "stdout",
     "output_type": "stream",
     "text": [
      "3\n",
      "0.583411300000023\n"
     ]
    }
   ],
   "source": [
    "func_1(3, 4)\n",
    "func_1(5, 6)\n",
    "print(func_1.counter())\n",
    "print(func_1.avg_time())"
   ]
  },
  {
   "cell_type": "code",
   "execution_count": 69,
   "id": "inner-catalyst",
   "metadata": {},
   "outputs": [],
   "source": [
    "class Profiler:\n",
    "    def __init__(self, fn):\n",
    "        self._fn = fn\n",
    "        self._counter = 0\n",
    "        self._time_elapsed = 0\n",
    "        self._avg_time = 0\n",
    "        \n",
    "    @property\n",
    "    def counter(self):\n",
    "        return self._counter\n",
    "        \n",
    "    @property\n",
    "    def time_elapsed(self):\n",
    "        return self._time_elapsed\n",
    "        \n",
    "    @property\n",
    "    def avg_time(self):\n",
    "        return self.time_elapsed / self.counter\n",
    "        \n",
    "    def __call__(self, *args, **kwargs):\n",
    "        start = perf_counter()\n",
    "        result = self._fn(*args, **kwargs)\n",
    "        end = perf_counter()\n",
    "        self._time_elapsed += (end - start)\n",
    "        self._counter += 1\n",
    "        return result"
   ]
  },
  {
   "cell_type": "code",
   "execution_count": 70,
   "id": "powerful-diversity",
   "metadata": {},
   "outputs": [],
   "source": [
    "@Profiler\n",
    "def func_1(a, b):\n",
    "    sleep(random())\n",
    "    return a, b"
   ]
  },
  {
   "cell_type": "code",
   "execution_count": 71,
   "id": "agreed-assist",
   "metadata": {},
   "outputs": [
    {
     "data": {
      "text/plain": [
       "('a', 2)"
      ]
     },
     "execution_count": 71,
     "metadata": {},
     "output_type": "execute_result"
    }
   ],
   "source": [
    "func_1('a', 2)"
   ]
  },
  {
   "cell_type": "code",
   "execution_count": 72,
   "id": "unique-narrative",
   "metadata": {},
   "outputs": [
    {
     "data": {
      "text/plain": [
       "__main__.Profiler"
      ]
     },
     "execution_count": 72,
     "metadata": {},
     "output_type": "execute_result"
    }
   ],
   "source": [
    "type(func_1)"
   ]
  },
  {
   "cell_type": "code",
   "execution_count": 73,
   "id": "fifth-breast",
   "metadata": {},
   "outputs": [
    {
     "data": {
      "text/plain": [
       "{'_fn': <function __main__.func_1(a, b)>,\n",
       " '_counter': 1,\n",
       " '_time_elapsed': 0.9243131000000631,\n",
       " '_avg_time': 0}"
      ]
     },
     "execution_count": 73,
     "metadata": {},
     "output_type": "execute_result"
    }
   ],
   "source": [
    "func_1.__dict__"
   ]
  },
  {
   "cell_type": "code",
   "execution_count": 74,
   "id": "right-reset",
   "metadata": {},
   "outputs": [
    {
     "data": {
      "text/plain": [
       "1"
      ]
     },
     "execution_count": 74,
     "metadata": {},
     "output_type": "execute_result"
    }
   ],
   "source": [
    "func_1.counter"
   ]
  },
  {
   "cell_type": "code",
   "execution_count": 76,
   "id": "massive-curve",
   "metadata": {},
   "outputs": [],
   "source": [
    "for _ in range(5):\n",
    "    func_1(1,2)"
   ]
  },
  {
   "cell_type": "code",
   "execution_count": 77,
   "id": "parallel-offset",
   "metadata": {},
   "outputs": [
    {
     "data": {
      "text/plain": [
       "6"
      ]
     },
     "execution_count": 77,
     "metadata": {},
     "output_type": "execute_result"
    }
   ],
   "source": [
    "func_1.counter"
   ]
  },
  {
   "cell_type": "code",
   "execution_count": 78,
   "id": "ruled-logic",
   "metadata": {},
   "outputs": [
    {
     "data": {
      "text/plain": [
       "0.4167938166667682"
      ]
     },
     "execution_count": 78,
     "metadata": {},
     "output_type": "execute_result"
    }
   ],
   "source": [
    "func_1.avg_time"
   ]
  },
  {
   "cell_type": "code",
   "execution_count": null,
   "id": "healthy-screw",
   "metadata": {},
   "outputs": [],
   "source": []
  }
 ],
 "metadata": {
  "kernelspec": {
   "display_name": "Python 3",
   "language": "python",
   "name": "python3"
  },
  "language_info": {
   "codemirror_mode": {
    "name": "ipython",
    "version": 3
   },
   "file_extension": ".py",
   "mimetype": "text/x-python",
   "name": "python",
   "nbconvert_exporter": "python",
   "pygments_lexer": "ipython3",
   "version": "3.9.1"
  }
 },
 "nbformat": 4,
 "nbformat_minor": 5
}
