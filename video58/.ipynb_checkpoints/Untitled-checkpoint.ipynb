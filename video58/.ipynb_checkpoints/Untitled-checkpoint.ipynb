{
 "cells": [
  {
   "cell_type": "code",
   "execution_count": 1,
   "id": "minute-blast",
   "metadata": {},
   "outputs": [],
   "source": [
    "from collections import defaultdict"
   ]
  },
  {
   "cell_type": "code",
   "execution_count": 3,
   "id": "fitting-interaction",
   "metadata": {},
   "outputs": [],
   "source": [
    "counter = 0\n",
    "def default_value():\n",
    "    global counter\n",
    "    counter += 1\n",
    "    return 'Default value'"
   ]
  },
  {
   "cell_type": "code",
   "execution_count": 4,
   "id": "progressive-voice",
   "metadata": {},
   "outputs": [],
   "source": [
    "d = defaultdict(default_value)"
   ]
  },
  {
   "cell_type": "code",
   "execution_count": 5,
   "id": "intelligent-cowboy",
   "metadata": {},
   "outputs": [
    {
     "data": {
      "text/plain": [
       "'Default value'"
      ]
     },
     "execution_count": 5,
     "metadata": {},
     "output_type": "execute_result"
    }
   ],
   "source": [
    "d['a']"
   ]
  },
  {
   "cell_type": "code",
   "execution_count": 6,
   "id": "temporal-definition",
   "metadata": {},
   "outputs": [],
   "source": [
    "d['b'] = 100"
   ]
  },
  {
   "cell_type": "code",
   "execution_count": 7,
   "id": "dutch-creator",
   "metadata": {},
   "outputs": [
    {
     "data": {
      "text/plain": [
       "defaultdict(<function __main__.default_value()>,\n",
       "            {'a': 'Default value', 'b': 100})"
      ]
     },
     "execution_count": 7,
     "metadata": {},
     "output_type": "execute_result"
    }
   ],
   "source": [
    "d"
   ]
  },
  {
   "cell_type": "code",
   "execution_count": 8,
   "id": "controversial-viewer",
   "metadata": {},
   "outputs": [
    {
     "data": {
      "text/plain": [
       "'Default value'"
      ]
     },
     "execution_count": 8,
     "metadata": {},
     "output_type": "execute_result"
    }
   ],
   "source": [
    "d['c']"
   ]
  },
  {
   "cell_type": "code",
   "execution_count": 9,
   "id": "amino-designer",
   "metadata": {},
   "outputs": [
    {
     "data": {
      "text/plain": [
       "'Default value'"
      ]
     },
     "execution_count": 9,
     "metadata": {},
     "output_type": "execute_result"
    }
   ],
   "source": [
    "d['a']"
   ]
  },
  {
   "cell_type": "code",
   "execution_count": 10,
   "id": "stylish-dream",
   "metadata": {},
   "outputs": [
    {
     "data": {
      "text/plain": [
       "2"
      ]
     },
     "execution_count": 10,
     "metadata": {},
     "output_type": "execute_result"
    }
   ],
   "source": [
    "counter"
   ]
  },
  {
   "cell_type": "code",
   "execution_count": 15,
   "id": "grave-punishment",
   "metadata": {},
   "outputs": [],
   "source": [
    "class DefaultValue:\n",
    "    def __init__(self, default_value):\n",
    "        self._counter = 0\n",
    "        self.default_value = default_value\n",
    "        \n",
    "    @property\n",
    "    def counter(self):\n",
    "        return self._counter\n",
    "        \n",
    "    def __call__(self):\n",
    "        self._counter += 1\n",
    "        return self.default_value"
   ]
  },
  {
   "cell_type": "code",
   "execution_count": 16,
   "id": "desperate-tunnel",
   "metadata": {},
   "outputs": [],
   "source": [
    "def1 = DefaultValue('Hello World')"
   ]
  },
  {
   "cell_type": "code",
   "execution_count": 17,
   "id": "forbidden-miracle",
   "metadata": {},
   "outputs": [],
   "source": [
    "d = defaultdict(def1)"
   ]
  },
  {
   "cell_type": "code",
   "execution_count": 18,
   "id": "lightweight-racing",
   "metadata": {},
   "outputs": [
    {
     "data": {
      "text/plain": [
       "'Hello World'"
      ]
     },
     "execution_count": 18,
     "metadata": {},
     "output_type": "execute_result"
    }
   ],
   "source": [
    "d['a']"
   ]
  },
  {
   "cell_type": "code",
   "execution_count": 19,
   "id": "small-fisher",
   "metadata": {},
   "outputs": [
    {
     "data": {
      "text/plain": [
       "1"
      ]
     },
     "execution_count": 19,
     "metadata": {},
     "output_type": "execute_result"
    }
   ],
   "source": [
    "def1.counter"
   ]
  },
  {
   "cell_type": "code",
   "execution_count": 20,
   "id": "answering-mumbai",
   "metadata": {},
   "outputs": [
    {
     "data": {
      "text/plain": [
       "'Hello World'"
      ]
     },
     "execution_count": 20,
     "metadata": {},
     "output_type": "execute_result"
    }
   ],
   "source": [
    "d['a']"
   ]
  },
  {
   "cell_type": "code",
   "execution_count": 21,
   "id": "adaptive-avenue",
   "metadata": {},
   "outputs": [
    {
     "data": {
      "text/plain": [
       "1"
      ]
     },
     "execution_count": 21,
     "metadata": {},
     "output_type": "execute_result"
    }
   ],
   "source": [
    "def1.counter"
   ]
  },
  {
   "cell_type": "code",
   "execution_count": 22,
   "id": "celtic-yemen",
   "metadata": {},
   "outputs": [
    {
     "data": {
      "text/plain": [
       "'Hello World'"
      ]
     },
     "execution_count": 22,
     "metadata": {},
     "output_type": "execute_result"
    }
   ],
   "source": [
    "d['b']"
   ]
  },
  {
   "cell_type": "code",
   "execution_count": 23,
   "id": "mineral-course",
   "metadata": {},
   "outputs": [
    {
     "data": {
      "text/plain": [
       "2"
      ]
     },
     "execution_count": 23,
     "metadata": {},
     "output_type": "execute_result"
    }
   ],
   "source": [
    "def1.counter"
   ]
  },
  {
   "cell_type": "code",
   "execution_count": 29,
   "id": "mineral-prayer",
   "metadata": {},
   "outputs": [],
   "source": [
    "class defaultValue:\n",
    "    def __init__(self, default_value):\n",
    "        self._counter = 0\n",
    "        self.default_value = default_value\n",
    "        \n",
    "    @property\n",
    "    def counter(self):\n",
    "        return self._counter\n",
    "        \n",
    "    def __call__(self):\n",
    "        self._counter += 1\n",
    "        return self.default_value"
   ]
  },
  {
   "cell_type": "code",
   "execution_count": 30,
   "id": "hazardous-malpractice",
   "metadata": {},
   "outputs": [],
   "source": [
    "def1 = defaultValue(10)"
   ]
  },
  {
   "cell_type": "code",
   "execution_count": 31,
   "id": "grateful-property",
   "metadata": {},
   "outputs": [],
   "source": [
    "d = defaultdict(def1)"
   ]
  },
  {
   "cell_type": "code",
   "execution_count": 32,
   "id": "capable-round",
   "metadata": {},
   "outputs": [
    {
     "data": {
      "text/plain": [
       "10"
      ]
     },
     "execution_count": 32,
     "metadata": {},
     "output_type": "execute_result"
    }
   ],
   "source": [
    "d['a']"
   ]
  },
  {
   "cell_type": "code",
   "execution_count": 33,
   "id": "several-bubble",
   "metadata": {},
   "outputs": [
    {
     "data": {
      "text/plain": [
       "1"
      ]
     },
     "execution_count": 33,
     "metadata": {},
     "output_type": "execute_result"
    }
   ],
   "source": [
    "def1.counter"
   ]
  },
  {
   "cell_type": "code",
   "execution_count": 34,
   "id": "curious-constraint",
   "metadata": {},
   "outputs": [],
   "source": [
    "from time import perf_counter\n",
    "from functools import wraps"
   ]
  },
  {
   "cell_type": "code",
   "execution_count": null,
   "id": "mounted-service",
   "metadata": {},
   "outputs": [],
   "source": [
    "def profiler(fn):\n",
    "    \n",
    "    _counter = 0\n",
    "    _time_elapsed = 0\n",
    "    _avg_time = 0\n",
    "    \n",
    "    @wraps(fn)\n",
    "    def inner(*args, **kwargs):\n",
    "        "
   ]
  }
 ],
 "metadata": {
  "kernelspec": {
   "display_name": "Python 3",
   "language": "python",
   "name": "python3"
  },
  "language_info": {
   "codemirror_mode": {
    "name": "ipython",
    "version": 3
   },
   "file_extension": ".py",
   "mimetype": "text/x-python",
   "name": "python",
   "nbconvert_exporter": "python",
   "pygments_lexer": "ipython3",
   "version": "3.9.1"
  }
 },
 "nbformat": 4,
 "nbformat_minor": 5
}
