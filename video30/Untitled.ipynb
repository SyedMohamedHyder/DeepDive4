{
 "cells": [
  {
   "cell_type": "code",
   "execution_count": 1,
   "id": "satisfactory-fetish",
   "metadata": {},
   "outputs": [],
   "source": [
    "from datetime import datetime, timezone, timedelta"
   ]
  },
  {
   "cell_type": "code",
   "execution_count": 16,
   "id": "computational-genre",
   "metadata": {},
   "outputs": [],
   "source": [
    "class Timer:\n",
    "    \n",
    "    _tz = timezone.utc\n",
    "    \n",
    "    @property\n",
    "    def tz(self):\n",
    "        return self._tz\n",
    "    \n",
    "    @tz.setter\n",
    "    def tz(self, value):\n",
    "        Timer._tz = value\n",
    "        "
   ]
  },
  {
   "cell_type": "code",
   "execution_count": 17,
   "id": "unknown-scholarship",
   "metadata": {},
   "outputs": [],
   "source": [
    "t = Timer()"
   ]
  },
  {
   "cell_type": "code",
   "execution_count": 19,
   "id": "drawn-demographic",
   "metadata": {},
   "outputs": [
    {
     "data": {
      "text/plain": [
       "{}"
      ]
     },
     "execution_count": 19,
     "metadata": {},
     "output_type": "execute_result"
    }
   ],
   "source": [
    "t.__dict__"
   ]
  },
  {
   "cell_type": "code",
   "execution_count": null,
   "id": "therapeutic-council",
   "metadata": {},
   "outputs": [],
   "source": []
  },
  {
   "cell_type": "code",
   "execution_count": 23,
   "id": "tamil-bundle",
   "metadata": {},
   "outputs": [],
   "source": [
    "class TimerError(Exception):\n",
    "    pass"
   ]
  },
  {
   "cell_type": "code",
   "execution_count": null,
   "id": "electric-relation",
   "metadata": {},
   "outputs": [],
   "source": []
  },
  {
   "cell_type": "code",
   "execution_count": 49,
   "id": "discrete-chester",
   "metadata": {},
   "outputs": [],
   "source": [
    "class Timer:\n",
    "    \n",
    "    _tz = timezone.utc\n",
    "    \n",
    "    def __init__(self):\n",
    "        self._start_time = None\n",
    "        self._stop_time = None\n",
    "    \n",
    "    @classmethod\n",
    "    def set_tz(cls, offset, name):\n",
    "        cls._tz = timezone(timedelta(hours=offset), name)\n",
    "    \n",
    "    @staticmethod\n",
    "    def current_dt_utc():\n",
    "        return datetime.utcnow()\n",
    "    \n",
    "    @classmethod\n",
    "    def current_dt(cls):\n",
    "        return datetime.now(cls._tz)\n",
    "    \n",
    "    \n",
    "    def start(self):\n",
    "        self._start_time = self.current_dt_utc()\n",
    "        self._stop_time = None\n",
    "    \n",
    "    def stop(self):\n",
    "        if self._start_time is None:\n",
    "            raise TimerError('Timer must start before stop')\n",
    "        self._stop_time = self.current_dt_utc()\n",
    "    \n",
    "    @property\n",
    "    def start_time(self):\n",
    "        if self._start_time is None:\n",
    "            raise TimerError('Timer never started')\n",
    "        return self._start_time.astimezone(self._tz)\n",
    "    \n",
    "    @property\n",
    "    def stop_time(self):\n",
    "        if self._start_time is None:\n",
    "            raise TimerError('Timer never started')\n",
    "        elif self._stop_time is None:\n",
    "            raise TimerError('Timer not stopped')\n",
    "        else:\n",
    "            return self._stop_time.astimezone(self._tz)\n",
    "    \n",
    "    @property\n",
    "    def elapsed(self):\n",
    "        if self._start_time is None:\n",
    "            raise TimerError('Timer never started')\n",
    "        elif self._stop_time is None:\n",
    "            elapsed_time = self.current_dt_utc() - self._start_time\n",
    "        else:\n",
    "            elapsed_time = self._stop_time - self._start_time\n",
    "        \n",
    "        return elapsed_time.total_seconds()"
   ]
  },
  {
   "cell_type": "code",
   "execution_count": 50,
   "id": "likely-trash",
   "metadata": {},
   "outputs": [],
   "source": [
    "t1 = Timer()"
   ]
  },
  {
   "cell_type": "code",
   "execution_count": 51,
   "id": "solar-kidney",
   "metadata": {},
   "outputs": [],
   "source": [
    "t1.set_tz(3, 'MST')"
   ]
  },
  {
   "cell_type": "code",
   "execution_count": 52,
   "id": "extended-trader",
   "metadata": {},
   "outputs": [
    {
     "data": {
      "text/plain": [
       "(datetime.datetime(2021, 6, 7, 11, 40, 5, 674768),\n",
       " datetime.datetime(2021, 6, 7, 14, 40, 5, 674768, tzinfo=datetime.timezone(datetime.timedelta(seconds=10800), 'MST')))"
      ]
     },
     "execution_count": 52,
     "metadata": {},
     "output_type": "execute_result"
    }
   ],
   "source": [
    "t1.current_dt_utc(), t1.current_dt()"
   ]
  },
  {
   "cell_type": "code",
   "execution_count": 53,
   "id": "fifteen-relative",
   "metadata": {},
   "outputs": [],
   "source": [
    "t2 = Timer()"
   ]
  },
  {
   "cell_type": "code",
   "execution_count": 54,
   "id": "opposite-month",
   "metadata": {},
   "outputs": [
    {
     "data": {
      "text/plain": [
       "{'_start_time': None, '_stop_time': None}"
      ]
     },
     "execution_count": 54,
     "metadata": {},
     "output_type": "execute_result"
    }
   ],
   "source": [
    "t1.__dict__"
   ]
  },
  {
   "cell_type": "code",
   "execution_count": 55,
   "id": "consistent-vessel",
   "metadata": {},
   "outputs": [
    {
     "ename": "TimerError",
     "evalue": "Timer never started",
     "output_type": "error",
     "traceback": [
      "\u001b[1;31m---------------------------------------------------------------------------\u001b[0m",
      "\u001b[1;31mTimerError\u001b[0m                                Traceback (most recent call last)",
      "\u001b[1;32m<ipython-input-55-5e09846408cc>\u001b[0m in \u001b[0;36m<module>\u001b[1;34m\u001b[0m\n\u001b[1;32m----> 1\u001b[1;33m \u001b[0mt1\u001b[0m\u001b[1;33m.\u001b[0m\u001b[0melapsed\u001b[0m\u001b[1;33m\u001b[0m\u001b[1;33m\u001b[0m\u001b[0m\n\u001b[0m",
      "\u001b[1;32m<ipython-input-49-cbcf5906b870>\u001b[0m in \u001b[0;36melapsed\u001b[1;34m(self)\u001b[0m\n\u001b[0;32m     47\u001b[0m     \u001b[1;32mdef\u001b[0m \u001b[0melapsed\u001b[0m\u001b[1;33m(\u001b[0m\u001b[0mself\u001b[0m\u001b[1;33m)\u001b[0m\u001b[1;33m:\u001b[0m\u001b[1;33m\u001b[0m\u001b[1;33m\u001b[0m\u001b[0m\n\u001b[0;32m     48\u001b[0m         \u001b[1;32mif\u001b[0m \u001b[0mself\u001b[0m\u001b[1;33m.\u001b[0m\u001b[0m_start_time\u001b[0m \u001b[1;32mis\u001b[0m \u001b[1;32mNone\u001b[0m\u001b[1;33m:\u001b[0m\u001b[1;33m\u001b[0m\u001b[1;33m\u001b[0m\u001b[0m\n\u001b[1;32m---> 49\u001b[1;33m             \u001b[1;32mraise\u001b[0m \u001b[0mTimerError\u001b[0m\u001b[1;33m(\u001b[0m\u001b[1;34m'Timer never started'\u001b[0m\u001b[1;33m)\u001b[0m\u001b[1;33m\u001b[0m\u001b[1;33m\u001b[0m\u001b[0m\n\u001b[0m\u001b[0;32m     50\u001b[0m         \u001b[1;32melif\u001b[0m \u001b[0mself\u001b[0m\u001b[1;33m.\u001b[0m\u001b[0m_stop_time\u001b[0m \u001b[1;32mis\u001b[0m \u001b[1;32mNone\u001b[0m\u001b[1;33m:\u001b[0m\u001b[1;33m\u001b[0m\u001b[1;33m\u001b[0m\u001b[0m\n\u001b[0;32m     51\u001b[0m             \u001b[0melapsed_time\u001b[0m \u001b[1;33m=\u001b[0m \u001b[0mself\u001b[0m\u001b[1;33m.\u001b[0m\u001b[0mcurrent_dt_utc\u001b[0m\u001b[1;33m(\u001b[0m\u001b[1;33m)\u001b[0m \u001b[1;33m-\u001b[0m \u001b[0mself\u001b[0m\u001b[1;33m.\u001b[0m\u001b[0m_start_time\u001b[0m\u001b[1;33m\u001b[0m\u001b[1;33m\u001b[0m\u001b[0m\n",
      "\u001b[1;31mTimerError\u001b[0m: Timer never started"
     ]
    }
   ],
   "source": [
    "t1.elapsed"
   ]
  },
  {
   "cell_type": "code",
   "execution_count": 56,
   "id": "critical-wells",
   "metadata": {},
   "outputs": [],
   "source": [
    "t1.start()"
   ]
  },
  {
   "cell_type": "code",
   "execution_count": 57,
   "id": "distinct-culture",
   "metadata": {},
   "outputs": [
    {
     "data": {
      "text/plain": [
       "3.23915"
      ]
     },
     "execution_count": 57,
     "metadata": {},
     "output_type": "execute_result"
    }
   ],
   "source": [
    "t1.elapsed"
   ]
  },
  {
   "cell_type": "code",
   "execution_count": 58,
   "id": "competitive-permit",
   "metadata": {},
   "outputs": [
    {
     "data": {
      "text/plain": [
       "10.54585"
      ]
     },
     "execution_count": 58,
     "metadata": {},
     "output_type": "execute_result"
    }
   ],
   "source": [
    "t1.elapsed"
   ]
  },
  {
   "cell_type": "code",
   "execution_count": 59,
   "id": "absolute-final",
   "metadata": {},
   "outputs": [
    {
     "data": {
      "text/plain": [
       "datetime.datetime(2021, 6, 7, 9, 10, 11, 554637, tzinfo=datetime.timezone(datetime.timedelta(seconds=10800), 'MST'))"
      ]
     },
     "execution_count": 59,
     "metadata": {},
     "output_type": "execute_result"
    }
   ],
   "source": [
    "t1.start_time"
   ]
  },
  {
   "cell_type": "code",
   "execution_count": 60,
   "id": "quiet-promise",
   "metadata": {},
   "outputs": [
    {
     "ename": "TimerError",
     "evalue": "Timer not stopped",
     "output_type": "error",
     "traceback": [
      "\u001b[1;31m---------------------------------------------------------------------------\u001b[0m",
      "\u001b[1;31mTimerError\u001b[0m                                Traceback (most recent call last)",
      "\u001b[1;32m<ipython-input-60-80a6d6038b63>\u001b[0m in \u001b[0;36m<module>\u001b[1;34m\u001b[0m\n\u001b[1;32m----> 1\u001b[1;33m \u001b[0mt1\u001b[0m\u001b[1;33m.\u001b[0m\u001b[0mstop_time\u001b[0m\u001b[1;33m\u001b[0m\u001b[1;33m\u001b[0m\u001b[0m\n\u001b[0m",
      "\u001b[1;32m<ipython-input-49-cbcf5906b870>\u001b[0m in \u001b[0;36mstop_time\u001b[1;34m(self)\u001b[0m\n\u001b[0;32m     40\u001b[0m             \u001b[1;32mraise\u001b[0m \u001b[0mTimerError\u001b[0m\u001b[1;33m(\u001b[0m\u001b[1;34m'Timer never started'\u001b[0m\u001b[1;33m)\u001b[0m\u001b[1;33m\u001b[0m\u001b[1;33m\u001b[0m\u001b[0m\n\u001b[0;32m     41\u001b[0m         \u001b[1;32melif\u001b[0m \u001b[0mself\u001b[0m\u001b[1;33m.\u001b[0m\u001b[0m_stop_time\u001b[0m \u001b[1;32mis\u001b[0m \u001b[1;32mNone\u001b[0m\u001b[1;33m:\u001b[0m\u001b[1;33m\u001b[0m\u001b[1;33m\u001b[0m\u001b[0m\n\u001b[1;32m---> 42\u001b[1;33m             \u001b[1;32mraise\u001b[0m \u001b[0mTimerError\u001b[0m\u001b[1;33m(\u001b[0m\u001b[1;34m'Timer not stopped'\u001b[0m\u001b[1;33m)\u001b[0m\u001b[1;33m\u001b[0m\u001b[1;33m\u001b[0m\u001b[0m\n\u001b[0m\u001b[0;32m     43\u001b[0m         \u001b[1;32melse\u001b[0m\u001b[1;33m:\u001b[0m\u001b[1;33m\u001b[0m\u001b[1;33m\u001b[0m\u001b[0m\n\u001b[0;32m     44\u001b[0m             \u001b[1;32mreturn\u001b[0m \u001b[0mself\u001b[0m\u001b[1;33m.\u001b[0m\u001b[0m_stop_time\u001b[0m\u001b[1;33m.\u001b[0m\u001b[0mastimezone\u001b[0m\u001b[1;33m(\u001b[0m\u001b[0mself\u001b[0m\u001b[1;33m.\u001b[0m\u001b[0m_tz\u001b[0m\u001b[1;33m)\u001b[0m\u001b[1;33m\u001b[0m\u001b[1;33m\u001b[0m\u001b[0m\n",
      "\u001b[1;31mTimerError\u001b[0m: Timer not stopped"
     ]
    }
   ],
   "source": [
    "t1.stop_time"
   ]
  },
  {
   "cell_type": "code",
   "execution_count": 61,
   "id": "global-italian",
   "metadata": {},
   "outputs": [
    {
     "data": {
      "text/plain": [
       "38.623316"
      ]
     },
     "execution_count": 61,
     "metadata": {},
     "output_type": "execute_result"
    }
   ],
   "source": [
    "t1.elapsed"
   ]
  },
  {
   "cell_type": "code",
   "execution_count": 62,
   "id": "later-occasion",
   "metadata": {},
   "outputs": [],
   "source": [
    "t1.stop()"
   ]
  },
  {
   "cell_type": "code",
   "execution_count": 64,
   "id": "surprised-savannah",
   "metadata": {},
   "outputs": [
    {
     "data": {
      "text/plain": [
       "datetime.datetime(2021, 6, 7, 9, 11, 1, 491568, tzinfo=datetime.timezone(datetime.timedelta(seconds=10800), 'MST'))"
      ]
     },
     "execution_count": 64,
     "metadata": {},
     "output_type": "execute_result"
    }
   ],
   "source": [
    "t1.stop_time"
   ]
  },
  {
   "cell_type": "code",
   "execution_count": 65,
   "id": "discrete-spectrum",
   "metadata": {},
   "outputs": [
    {
     "data": {
      "text/plain": [
       "49.936931"
      ]
     },
     "execution_count": 65,
     "metadata": {},
     "output_type": "execute_result"
    }
   ],
   "source": [
    "t1.elapsed"
   ]
  },
  {
   "cell_type": "code",
   "execution_count": 66,
   "id": "infectious-brighton",
   "metadata": {},
   "outputs": [
    {
     "data": {
      "text/plain": [
       "49.936931"
      ]
     },
     "execution_count": 66,
     "metadata": {},
     "output_type": "execute_result"
    }
   ],
   "source": [
    "t1.elapsed"
   ]
  },
  {
   "cell_type": "code",
   "execution_count": 67,
   "id": "lucky-destination",
   "metadata": {},
   "outputs": [
    {
     "data": {
      "text/plain": [
       "{'_start_time': datetime.datetime(2021, 6, 7, 11, 40, 11, 554637),\n",
       " '_stop_time': datetime.datetime(2021, 6, 7, 11, 41, 1, 491568)}"
      ]
     },
     "execution_count": 67,
     "metadata": {},
     "output_type": "execute_result"
    }
   ],
   "source": [
    "t1.__dict__"
   ]
  },
  {
   "cell_type": "code",
   "execution_count": 68,
   "id": "polish-horizon",
   "metadata": {},
   "outputs": [
    {
     "data": {
      "text/plain": [
       "{'_start_time': None, '_stop_time': None}"
      ]
     },
     "execution_count": 68,
     "metadata": {},
     "output_type": "execute_result"
    }
   ],
   "source": [
    "t2.__dict__"
   ]
  },
  {
   "cell_type": "code",
   "execution_count": 69,
   "id": "julian-kruger",
   "metadata": {},
   "outputs": [
    {
     "data": {
      "text/plain": [
       "datetime.datetime(2021, 6, 7, 14, 42, 0, 21426, tzinfo=datetime.timezone(datetime.timedelta(seconds=10800), 'MST'))"
      ]
     },
     "execution_count": 69,
     "metadata": {},
     "output_type": "execute_result"
    }
   ],
   "source": [
    "t2.current_dt()"
   ]
  },
  {
   "cell_type": "code",
   "execution_count": 70,
   "id": "attractive-bundle",
   "metadata": {},
   "outputs": [],
   "source": [
    "t2.start()"
   ]
  },
  {
   "cell_type": "code",
   "execution_count": 71,
   "id": "sudden-anaheim",
   "metadata": {},
   "outputs": [
    {
     "data": {
      "text/plain": [
       "4.236929"
      ]
     },
     "execution_count": 71,
     "metadata": {},
     "output_type": "execute_result"
    }
   ],
   "source": [
    "t2.elapsed"
   ]
  },
  {
   "cell_type": "code",
   "execution_count": 73,
   "id": "featured-latter",
   "metadata": {},
   "outputs": [
    {
     "data": {
      "text/plain": [
       "19.030084"
      ]
     },
     "execution_count": 73,
     "metadata": {},
     "output_type": "execute_result"
    }
   ],
   "source": [
    "t2.elapsed"
   ]
  },
  {
   "cell_type": "code",
   "execution_count": 74,
   "id": "placed-collectible",
   "metadata": {},
   "outputs": [
    {
     "ename": "TimerError",
     "evalue": "Timer not stopped",
     "output_type": "error",
     "traceback": [
      "\u001b[1;31m---------------------------------------------------------------------------\u001b[0m",
      "\u001b[1;31mTimerError\u001b[0m                                Traceback (most recent call last)",
      "\u001b[1;32m<ipython-input-74-8c05c1c6d768>\u001b[0m in \u001b[0;36m<module>\u001b[1;34m\u001b[0m\n\u001b[1;32m----> 1\u001b[1;33m \u001b[0mt2\u001b[0m\u001b[1;33m.\u001b[0m\u001b[0mstop_time\u001b[0m\u001b[1;33m\u001b[0m\u001b[1;33m\u001b[0m\u001b[0m\n\u001b[0m",
      "\u001b[1;32m<ipython-input-49-cbcf5906b870>\u001b[0m in \u001b[0;36mstop_time\u001b[1;34m(self)\u001b[0m\n\u001b[0;32m     40\u001b[0m             \u001b[1;32mraise\u001b[0m \u001b[0mTimerError\u001b[0m\u001b[1;33m(\u001b[0m\u001b[1;34m'Timer never started'\u001b[0m\u001b[1;33m)\u001b[0m\u001b[1;33m\u001b[0m\u001b[1;33m\u001b[0m\u001b[0m\n\u001b[0;32m     41\u001b[0m         \u001b[1;32melif\u001b[0m \u001b[0mself\u001b[0m\u001b[1;33m.\u001b[0m\u001b[0m_stop_time\u001b[0m \u001b[1;32mis\u001b[0m \u001b[1;32mNone\u001b[0m\u001b[1;33m:\u001b[0m\u001b[1;33m\u001b[0m\u001b[1;33m\u001b[0m\u001b[0m\n\u001b[1;32m---> 42\u001b[1;33m             \u001b[1;32mraise\u001b[0m \u001b[0mTimerError\u001b[0m\u001b[1;33m(\u001b[0m\u001b[1;34m'Timer not stopped'\u001b[0m\u001b[1;33m)\u001b[0m\u001b[1;33m\u001b[0m\u001b[1;33m\u001b[0m\u001b[0m\n\u001b[0m\u001b[0;32m     43\u001b[0m         \u001b[1;32melse\u001b[0m\u001b[1;33m:\u001b[0m\u001b[1;33m\u001b[0m\u001b[1;33m\u001b[0m\u001b[0m\n\u001b[0;32m     44\u001b[0m             \u001b[1;32mreturn\u001b[0m \u001b[0mself\u001b[0m\u001b[1;33m.\u001b[0m\u001b[0m_stop_time\u001b[0m\u001b[1;33m.\u001b[0m\u001b[0mastimezone\u001b[0m\u001b[1;33m(\u001b[0m\u001b[0mself\u001b[0m\u001b[1;33m.\u001b[0m\u001b[0m_tz\u001b[0m\u001b[1;33m)\u001b[0m\u001b[1;33m\u001b[0m\u001b[1;33m\u001b[0m\u001b[0m\n",
      "\u001b[1;31mTimerError\u001b[0m: Timer not stopped"
     ]
    }
   ],
   "source": [
    "t2.stop_time"
   ]
  },
  {
   "cell_type": "code",
   "execution_count": 76,
   "id": "critical-charger",
   "metadata": {},
   "outputs": [],
   "source": [
    "t2.start()"
   ]
  },
  {
   "cell_type": "code",
   "execution_count": 77,
   "id": "julian-mounting",
   "metadata": {},
   "outputs": [
    {
     "data": {
      "text/plain": [
       "3.877217"
      ]
     },
     "execution_count": 77,
     "metadata": {},
     "output_type": "execute_result"
    }
   ],
   "source": [
    "t2.elapsed"
   ]
  },
  {
   "cell_type": "code",
   "execution_count": 78,
   "id": "changing-convertible",
   "metadata": {},
   "outputs": [],
   "source": [
    "t2.stop()"
   ]
  },
  {
   "cell_type": "code",
   "execution_count": 80,
   "id": "established-recovery",
   "metadata": {},
   "outputs": [
    {
     "data": {
      "text/plain": [
       "datetime.datetime(2021, 6, 7, 9, 13, 4, 992112, tzinfo=datetime.timezone(datetime.timedelta(seconds=10800), 'MST'))"
      ]
     },
     "execution_count": 80,
     "metadata": {},
     "output_type": "execute_result"
    }
   ],
   "source": [
    "t2.stop_time"
   ]
  },
  {
   "cell_type": "code",
   "execution_count": 81,
   "id": "planned-territory",
   "metadata": {},
   "outputs": [],
   "source": [
    "t2.start()"
   ]
  },
  {
   "cell_type": "code",
   "execution_count": 83,
   "id": "regular-particle",
   "metadata": {
    "scrolled": true
   },
   "outputs": [
    {
     "ename": "TimerError",
     "evalue": "Timer not stopped",
     "output_type": "error",
     "traceback": [
      "\u001b[1;31m---------------------------------------------------------------------------\u001b[0m",
      "\u001b[1;31mTimerError\u001b[0m                                Traceback (most recent call last)",
      "\u001b[1;32m<ipython-input-83-8c05c1c6d768>\u001b[0m in \u001b[0;36m<module>\u001b[1;34m\u001b[0m\n\u001b[1;32m----> 1\u001b[1;33m \u001b[0mt2\u001b[0m\u001b[1;33m.\u001b[0m\u001b[0mstop_time\u001b[0m\u001b[1;33m\u001b[0m\u001b[1;33m\u001b[0m\u001b[0m\n\u001b[0m",
      "\u001b[1;32m<ipython-input-49-cbcf5906b870>\u001b[0m in \u001b[0;36mstop_time\u001b[1;34m(self)\u001b[0m\n\u001b[0;32m     40\u001b[0m             \u001b[1;32mraise\u001b[0m \u001b[0mTimerError\u001b[0m\u001b[1;33m(\u001b[0m\u001b[1;34m'Timer never started'\u001b[0m\u001b[1;33m)\u001b[0m\u001b[1;33m\u001b[0m\u001b[1;33m\u001b[0m\u001b[0m\n\u001b[0;32m     41\u001b[0m         \u001b[1;32melif\u001b[0m \u001b[0mself\u001b[0m\u001b[1;33m.\u001b[0m\u001b[0m_stop_time\u001b[0m \u001b[1;32mis\u001b[0m \u001b[1;32mNone\u001b[0m\u001b[1;33m:\u001b[0m\u001b[1;33m\u001b[0m\u001b[1;33m\u001b[0m\u001b[0m\n\u001b[1;32m---> 42\u001b[1;33m             \u001b[1;32mraise\u001b[0m \u001b[0mTimerError\u001b[0m\u001b[1;33m(\u001b[0m\u001b[1;34m'Timer not stopped'\u001b[0m\u001b[1;33m)\u001b[0m\u001b[1;33m\u001b[0m\u001b[1;33m\u001b[0m\u001b[0m\n\u001b[0m\u001b[0;32m     43\u001b[0m         \u001b[1;32melse\u001b[0m\u001b[1;33m:\u001b[0m\u001b[1;33m\u001b[0m\u001b[1;33m\u001b[0m\u001b[0m\n\u001b[0;32m     44\u001b[0m             \u001b[1;32mreturn\u001b[0m \u001b[0mself\u001b[0m\u001b[1;33m.\u001b[0m\u001b[0m_stop_time\u001b[0m\u001b[1;33m.\u001b[0m\u001b[0mastimezone\u001b[0m\u001b[1;33m(\u001b[0m\u001b[0mself\u001b[0m\u001b[1;33m.\u001b[0m\u001b[0m_tz\u001b[0m\u001b[1;33m)\u001b[0m\u001b[1;33m\u001b[0m\u001b[1;33m\u001b[0m\u001b[0m\n",
      "\u001b[1;31mTimerError\u001b[0m: Timer not stopped"
     ]
    }
   ],
   "source": [
    "t2.stop_time"
   ]
  },
  {
   "cell_type": "code",
   "execution_count": 84,
   "id": "compact-senegal",
   "metadata": {},
   "outputs": [
    {
     "data": {
      "text/plain": [
       "22.672099"
      ]
     },
     "execution_count": 84,
     "metadata": {},
     "output_type": "execute_result"
    }
   ],
   "source": [
    "t2.elapsed"
   ]
  },
  {
   "cell_type": "code",
   "execution_count": 86,
   "id": "visible-brook",
   "metadata": {},
   "outputs": [],
   "source": [
    "t2.stop()"
   ]
  },
  {
   "cell_type": "code",
   "execution_count": null,
   "id": "indonesian-third",
   "metadata": {},
   "outputs": [],
   "source": []
  }
 ],
 "metadata": {
  "kernelspec": {
   "display_name": "Python 3",
   "language": "python",
   "name": "python3"
  },
  "language_info": {
   "codemirror_mode": {
    "name": "ipython",
    "version": 3
   },
   "file_extension": ".py",
   "mimetype": "text/x-python",
   "name": "python",
   "nbconvert_exporter": "python",
   "pygments_lexer": "ipython3",
   "version": "3.9.1"
  }
 },
 "nbformat": 4,
 "nbformat_minor": 5
}
