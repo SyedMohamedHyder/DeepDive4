{
 "cells": [
  {
   "cell_type": "code",
   "execution_count": 1,
   "id": "tender-section",
   "metadata": {},
   "outputs": [],
   "source": [
    "from math import sqrt\n",
    "from numbers import Real"
   ]
  },
  {
   "cell_type": "code",
   "execution_count": 38,
   "id": "challenging-deployment",
   "metadata": {},
   "outputs": [],
   "source": [
    "\n",
    "class VectorMismatch(Exception):\n",
    "    pass\n",
    "\n",
    "\n",
    "class Vector:\n",
    "    def __init__(self, *components):\n",
    "        if len(components) < 1:\n",
    "            raise ValueError('Cannot create an empty Vector')\n",
    "        for component in components:\n",
    "            if not isinstance(component, Real):\n",
    "                raise ValueError('All the components must be real numbers')\n",
    "        self._components = tuple(components)\n",
    "        \n",
    "    @property\n",
    "    def components(self):\n",
    "        return self._components\n",
    "    \n",
    "    def validate(self, other):\n",
    "        if not isinstance(other, Vector):\n",
    "            return False\n",
    "        elif len(self) != len(other):\n",
    "            raise VectorMismatch('Vectors must be of same length')\n",
    "        else:\n",
    "            return True\n",
    "    \n",
    "    def __add__(self, other):\n",
    "        if not self.validate(other):\n",
    "            return NotImplemented\n",
    "        return Vector(*(x + y \n",
    "                        for x, y in zip(self.components, other.components)))\n",
    "    \n",
    "    def __sub__(self, other):\n",
    "        if not self.validate(other):\n",
    "            return NotImplemented\n",
    "        return Vector(*(x - y \n",
    "                        for x, y in zip(self.components, other.components)))\n",
    "    \n",
    "    def __iadd__(self, other):\n",
    "        if not self.validate(other):\n",
    "            return NotImplemented\n",
    "        self._components = tuple(x + y for x, y in zip(self.components, other.components))\n",
    "        return self\n",
    "    \n",
    "    def __isub__(self, other):\n",
    "        if not self.validate(other):\n",
    "            return NotImplemented\n",
    "        self._components = tuple(x - y for x, y in zip(self.components, other.components))\n",
    "        return self\n",
    "    \n",
    "    def __mul__(self, other):\n",
    "        if isinstance(other, Real):\n",
    "            return Vector(*(other * component for component in self.components))\n",
    "        if not self.validate(other):\n",
    "            return NotImplemented\n",
    "        return sum(x * y for x, y in zip(self.components, other.components))\n",
    "    \n",
    "    def __rmul__(self, other):\n",
    "        return self*other\n",
    "    \n",
    "    def __neg__(self):\n",
    "        return Vector(*(-component for component in self.components))\n",
    "    \n",
    "    def __abs__(self):\n",
    "        return sqrt(sum(component**2 for component in self.components))\n",
    "    \n",
    "    def __eq__(self, other):\n",
    "        if isinstance(other, tuple):\n",
    "            return self.components == other\n",
    "        elif isinstance(other, Vector):\n",
    "            return self.components == other.components\n",
    "        return NotImplemented\n",
    "    \n",
    "    def __ne__(self, other):\n",
    "        return not(self == other)\n",
    "    \n",
    "    def __lt__(self, other):\n",
    "        if isinstance(other, tuple):\n",
    "            other = Vector(*other)\n",
    "        if isinstance(other, Vector):\n",
    "            return abs(self) < abs(other)\n",
    "        return NotImplemented\n",
    "    \n",
    "    def __len__(self):\n",
    "        return len(self._components)\n",
    "    \n",
    "    def __repr__(self):\n",
    "        return f'Vector{self._components}'"
   ]
  },
  {
   "cell_type": "code",
   "execution_count": 39,
   "id": "hundred-linux",
   "metadata": {},
   "outputs": [],
   "source": [
    "v1 = Vector(1, 1, 2)\n",
    "v2 = Vector(1, 1, 2)\n",
    "v3 = Vector(0, 0, 0)"
   ]
  },
  {
   "cell_type": "code",
   "execution_count": 40,
   "id": "hired-timeline",
   "metadata": {},
   "outputs": [
    {
     "data": {
      "text/plain": [
       "True"
      ]
     },
     "execution_count": 40,
     "metadata": {},
     "output_type": "execute_result"
    }
   ],
   "source": [
    "v1 == v2"
   ]
  },
  {
   "cell_type": "code",
   "execution_count": 41,
   "id": "appointed-geology",
   "metadata": {},
   "outputs": [
    {
     "data": {
      "text/plain": [
       "False"
      ]
     },
     "execution_count": 41,
     "metadata": {},
     "output_type": "execute_result"
    }
   ],
   "source": [
    "v2 == v3"
   ]
  },
  {
   "cell_type": "code",
   "execution_count": 42,
   "id": "wrong-pizza",
   "metadata": {},
   "outputs": [
    {
     "data": {
      "text/plain": [
       "True"
      ]
     },
     "execution_count": 42,
     "metadata": {},
     "output_type": "execute_result"
    }
   ],
   "source": [
    "v1 == (1, 1, 2)"
   ]
  },
  {
   "cell_type": "code",
   "execution_count": 43,
   "id": "comprehensive-beijing",
   "metadata": {},
   "outputs": [
    {
     "data": {
      "text/plain": [
       "True"
      ]
     },
     "execution_count": 43,
     "metadata": {},
     "output_type": "execute_result"
    }
   ],
   "source": [
    "(1, 1, 2) == v1"
   ]
  },
  {
   "cell_type": "code",
   "execution_count": 44,
   "id": "charming-triple",
   "metadata": {},
   "outputs": [
    {
     "data": {
      "text/plain": [
       "False"
      ]
     },
     "execution_count": 44,
     "metadata": {},
     "output_type": "execute_result"
    }
   ],
   "source": [
    "v1 == 10"
   ]
  },
  {
   "cell_type": "code",
   "execution_count": 45,
   "id": "incorporated-latter",
   "metadata": {},
   "outputs": [
    {
     "data": {
      "text/plain": [
       "False"
      ]
     },
     "execution_count": 45,
     "metadata": {},
     "output_type": "execute_result"
    }
   ],
   "source": [
    "v1 < v2"
   ]
  },
  {
   "cell_type": "code",
   "execution_count": 46,
   "id": "indirect-franchise",
   "metadata": {},
   "outputs": [
    {
     "data": {
      "text/plain": [
       "False"
      ]
     },
     "execution_count": 46,
     "metadata": {},
     "output_type": "execute_result"
    }
   ],
   "source": [
    "v1 < v3"
   ]
  },
  {
   "cell_type": "code",
   "execution_count": 48,
   "id": "expressed-hudson",
   "metadata": {},
   "outputs": [
    {
     "data": {
      "text/plain": [
       "True"
      ]
     },
     "execution_count": 48,
     "metadata": {},
     "output_type": "execute_result"
    }
   ],
   "source": [
    "v3 < v1"
   ]
  },
  {
   "cell_type": "code",
   "execution_count": 49,
   "id": "noble-payment",
   "metadata": {},
   "outputs": [
    {
     "data": {
      "text/plain": [
       "True"
      ]
     },
     "execution_count": 49,
     "metadata": {},
     "output_type": "execute_result"
    }
   ],
   "source": [
    "v1 < (10, 10)"
   ]
  },
  {
   "cell_type": "code",
   "execution_count": 53,
   "id": "three-premiere",
   "metadata": {},
   "outputs": [],
   "source": [
    "\n",
    "class VectorMismatch(Exception):\n",
    "    pass\n",
    "\n",
    "\n",
    "class Vector:\n",
    "    def __init__(self, *components):\n",
    "        if len(components) < 1:\n",
    "            raise ValueError('Cannot create an empty Vector')\n",
    "        for component in components:\n",
    "            if not isinstance(component, Real):\n",
    "                raise ValueError('All the components must be real numbers')\n",
    "        self._components = tuple(components)\n",
    "        \n",
    "    @property\n",
    "    def components(self):\n",
    "        return self._components\n",
    "    \n",
    "    def validate(self, other):\n",
    "        if not isinstance(other, Vector):\n",
    "            return False\n",
    "        elif len(self) != len(other):\n",
    "            raise VectorMismatch('Vectors must be of same length')\n",
    "        else:\n",
    "            return True\n",
    "    \n",
    "    def __add__(self, other):\n",
    "        if not self.validate(other):\n",
    "            return NotImplemented\n",
    "        return Vector(*(x + y \n",
    "                        for x, y in zip(self.components, other.components)))\n",
    "    \n",
    "    def __sub__(self, other):\n",
    "        if not self.validate(other):\n",
    "            return NotImplemented\n",
    "        return Vector(*(x - y \n",
    "                        for x, y in zip(self.components, other.components)))\n",
    "    \n",
    "    def __iadd__(self, other):\n",
    "        if not self.validate(other):\n",
    "            return NotImplemented\n",
    "        self._components = tuple(x + y for x, y in zip(self.components, other.components))\n",
    "        return self\n",
    "    \n",
    "    def __isub__(self, other):\n",
    "        if not self.validate(other):\n",
    "            return NotImplemented\n",
    "        self._components = tuple(x - y for x, y in zip(self.components, other.components))\n",
    "        return self\n",
    "    \n",
    "    def __mul__(self, other):\n",
    "        if isinstance(other, Real):\n",
    "            return Vector(*(other * component for component in self.components))\n",
    "        if not self.validate(other):\n",
    "            return NotImplemented\n",
    "        return sum(x * y for x, y in zip(self.components, other.components))\n",
    "    \n",
    "    def __rmul__(self, other):\n",
    "        return self*other\n",
    "    \n",
    "    def __neg__(self):\n",
    "        return Vector(*(-component for component in self.components))\n",
    "    \n",
    "    def __abs__(self):\n",
    "        return sqrt(sum(component**2 for component in self.components))\n",
    "    \n",
    "    def __eq__(self, other):\n",
    "        if isinstance(other, tuple):\n",
    "            return self.components == other\n",
    "        elif isinstance(other, Vector):\n",
    "            return self.components == other.components\n",
    "        return NotImplemented\n",
    "    \n",
    "    def __lt__(self, other):\n",
    "        if isinstance(other, tuple):\n",
    "            other = Vector(*other)\n",
    "        if isinstance(other, Vector):\n",
    "            return abs(self) < abs(other)\n",
    "        return NotImplemented\n",
    "    \n",
    "    def __gt__(self, other):\n",
    "        if isinstance(other, tuple):\n",
    "            other = Vector(*other)\n",
    "        if isinstance(other, Vector):\n",
    "            return abs(self) > abs(other)\n",
    "        return NotImplemented\n",
    "    \n",
    "    def __ne__(self, other):\n",
    "        return not(self == other)\n",
    "    \n",
    "    def __le__(self, other):\n",
    "        return (self == other) or (self < other)\n",
    "    \n",
    "    def __ge__(self, other):\n",
    "        return (self == other) or (self > other)\n",
    "    \n",
    "    def __len__(self):\n",
    "        return len(self._components)\n",
    "    \n",
    "    def __repr__(self):\n",
    "        return f'Vector{self._components}'"
   ]
  },
  {
   "cell_type": "code",
   "execution_count": 54,
   "id": "medical-corruption",
   "metadata": {},
   "outputs": [
    {
     "data": {
      "text/plain": [
       "False"
      ]
     },
     "execution_count": 54,
     "metadata": {},
     "output_type": "execute_result"
    }
   ],
   "source": [
    "v1 = Vector(0, 0)\n",
    "v1 > (1,1)"
   ]
  },
  {
   "cell_type": "code",
   "execution_count": 56,
   "id": "informed-perth",
   "metadata": {},
   "outputs": [
    {
     "data": {
      "text/plain": [
       "True"
      ]
     },
     "execution_count": 56,
     "metadata": {},
     "output_type": "execute_result"
    }
   ],
   "source": [
    "(1, 1) > v1"
   ]
  },
  {
   "cell_type": "code",
   "execution_count": null,
   "id": "civilian-kingdom",
   "metadata": {},
   "outputs": [],
   "source": []
  }
 ],
 "metadata": {
  "kernelspec": {
   "display_name": "Python 3",
   "language": "python",
   "name": "python3"
  },
  "language_info": {
   "codemirror_mode": {
    "name": "ipython",
    "version": 3
   },
   "file_extension": ".py",
   "mimetype": "text/x-python",
   "name": "python",
   "nbconvert_exporter": "python",
   "pygments_lexer": "ipython3",
   "version": "3.9.1"
  }
 },
 "nbformat": 4,
 "nbformat_minor": 5
}
