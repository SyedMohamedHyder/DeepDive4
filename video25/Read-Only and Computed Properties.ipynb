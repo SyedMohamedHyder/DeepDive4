{
 "cells": [
  {
   "cell_type": "markdown",
   "metadata": {},
   "source": [
    "### Read-Only and Computed Properties"
   ]
  },
  {
   "cell_type": "markdown",
   "metadata": {},
   "source": [
    "Although write-only properties are not that common, read-only properties (i.e. that define a getter but not a setter) are quite common for a number of things."
   ]
  },
  {
   "cell_type": "markdown",
   "metadata": {},
   "source": [
    "Of course, we can create read-only properties, but since nothing is private, at best we are \"suggesting\" to the users of our class they should treat the property as read-only. There's always a way to hack around that of course.\n",
    "\n",
    "But still, it's good to be able to at least explicitly indicate to a user that a property is meant to be read-only."
   ]
  },
  {
   "cell_type": "markdown",
   "metadata": {},
   "source": [
    "The use case I'm going to focus on in this video, is one of computed properties. Those are properties that may not actually have a backing variable, but are instead calculated on the fly."
   ]
  },
  {
   "cell_type": "markdown",
   "metadata": {},
   "source": [
    "Consider this simple example of a `Circle` class where we can read/write the radius of the circle, but want a computed property for the area. We don't need to store the area value, we can alway calculate it given the current radius value."
   ]
  },
  {
   "cell_type": "code",
   "execution_count": 1,
   "metadata": {},
   "outputs": [],
   "source": [
    "from math import pi\n",
    "\n",
    "class Circle:\n",
    "    def __init__(self, radius):\n",
    "        self.radius = radius\n",
    "        \n",
    "    @property\n",
    "    def area(self):\n",
    "        print('calculating area...')\n",
    "        return pi * (self.radius ** 2)"
   ]
  },
  {
   "cell_type": "code",
   "execution_count": 2,
   "metadata": {},
   "outputs": [
    {
     "name": "stdout",
     "output_type": "stream",
     "text": [
      "calculating area...\n"
     ]
    },
    {
     "data": {
      "text/plain": [
       "3.141592653589793"
      ]
     },
     "execution_count": 2,
     "metadata": {},
     "output_type": "execute_result"
    }
   ],
   "source": [
    "c = Circle(1)\n",
    "c.area"
   ]
  },
  {
   "cell_type": "markdown",
   "metadata": {},
   "source": [
    "We could certainly just use a class method `area()`, but the area is more a property of the circle, so it makes more sense to just retrive it as a property, without the extra `()` to make the call."
   ]
  },
  {
   "cell_type": "markdown",
   "metadata": {},
   "source": [
    "The advantage of how we did this is that shoudl the radius of the circle ever change, the area property will immediately reflect that."
   ]
  },
  {
   "cell_type": "code",
   "execution_count": 3,
   "metadata": {},
   "outputs": [
    {
     "name": "stdout",
     "output_type": "stream",
     "text": [
      "calculating area...\n"
     ]
    },
    {
     "data": {
      "text/plain": [
       "12.566370614359172"
      ]
     },
     "execution_count": 3,
     "metadata": {},
     "output_type": "execute_result"
    }
   ],
   "source": [
    "c.radius = 2\n",
    "c.area"
   ]
  },
  {
   "cell_type": "markdown",
   "metadata": {},
   "source": [
    "On the other hand, it's also a weakness - every time we need the area of the circle, it gets recalculated, even if the radius has not changed!"
   ]
  },
  {
   "cell_type": "code",
   "execution_count": 4,
   "metadata": {},
   "outputs": [
    {
     "name": "stdout",
     "output_type": "stream",
     "text": [
      "calculating area...\n",
      "calculating area...\n"
     ]
    },
    {
     "data": {
      "text/plain": [
       "12.566370614359172"
      ]
     },
     "execution_count": 4,
     "metadata": {},
     "output_type": "execute_result"
    }
   ],
   "source": [
    "c.area\n",
    "c.area"
   ]
  },
  {
   "cell_type": "markdown",
   "metadata": {},
   "source": [
    "So now we can use properties to fix this problem without breaking our interface!\n",
    "\n",
    "We are going to cache the area value, and only-recalculate it if the radius has changed.\n",
    "\n",
    "In order for us to know if the radius has changed, we are going to make it into a property, and the setter will keep track of whether the radius is set, in which case it will invalidate the cached area value."
   ]
  },
  {
   "cell_type": "code",
   "execution_count": 5,
   "metadata": {},
   "outputs": [],
   "source": [
    "class Circle:\n",
    "    def __init__(self, radius):\n",
    "        self.radius = radius\n",
    "        self._area = None\n",
    "        \n",
    "    @property\n",
    "    def radius(self):\n",
    "        return self._radius\n",
    "    \n",
    "    @radius.setter\n",
    "    def radius(self, value):\n",
    "        # if radius value is set we invalidate our cached _area value\n",
    "        # we could make this more intelligent and see if the radius has actually changed\n",
    "        # but keeping it simple\n",
    "        self._area = None\n",
    "        # we could even add validation here, like value has to be numeric, non-negative, etc\n",
    "        self._radius = value\n",
    "        \n",
    "    @property\n",
    "    def area(self):\n",
    "        if self._area is None:\n",
    "            # value not cached - calculate it\n",
    "            print('Calculating area...')\n",
    "            self._area = pi * (self.radius ** 2)\n",
    "        return self._area"
   ]
  },
  {
   "cell_type": "code",
   "execution_count": 6,
   "metadata": {},
   "outputs": [],
   "source": [
    "c = Circle(1)"
   ]
  },
  {
   "cell_type": "code",
   "execution_count": 7,
   "metadata": {},
   "outputs": [
    {
     "name": "stdout",
     "output_type": "stream",
     "text": [
      "Calculating area...\n"
     ]
    },
    {
     "data": {
      "text/plain": [
       "3.141592653589793"
      ]
     },
     "execution_count": 7,
     "metadata": {},
     "output_type": "execute_result"
    }
   ],
   "source": [
    "c.area"
   ]
  },
  {
   "cell_type": "code",
   "execution_count": 8,
   "metadata": {},
   "outputs": [
    {
     "data": {
      "text/plain": [
       "3.141592653589793"
      ]
     },
     "execution_count": 8,
     "metadata": {},
     "output_type": "execute_result"
    }
   ],
   "source": [
    "c.area"
   ]
  },
  {
   "cell_type": "code",
   "execution_count": 9,
   "metadata": {},
   "outputs": [],
   "source": [
    "c.radius = 2"
   ]
  },
  {
   "cell_type": "code",
   "execution_count": 10,
   "metadata": {},
   "outputs": [
    {
     "name": "stdout",
     "output_type": "stream",
     "text": [
      "Calculating area...\n"
     ]
    },
    {
     "data": {
      "text/plain": [
       "12.566370614359172"
      ]
     },
     "execution_count": 10,
     "metadata": {},
     "output_type": "execute_result"
    }
   ],
   "source": [
    "c.area"
   ]
  },
  {
   "cell_type": "code",
   "execution_count": 11,
   "metadata": {},
   "outputs": [
    {
     "data": {
      "text/plain": [
       "12.566370614359172"
      ]
     },
     "execution_count": 11,
     "metadata": {},
     "output_type": "execute_result"
    }
   ],
   "source": [
    "c.area"
   ]
  },
  {
   "cell_type": "markdown",
   "metadata": {},
   "source": [
    "There are a lot of other uses for calculate properties.\n",
    "\n",
    "Some properties may even do a lot work, like retrieving data from a database, making a call to some external API, and so on."
   ]
  },
  {
   "cell_type": "markdown",
   "metadata": {},
   "source": [
    "### Example"
   ]
  },
  {
   "cell_type": "markdown",
   "metadata": {},
   "source": [
    "Let's write a class that takes a URL, downloads the web page for that URL and provides us some metrics on that URL - like how long it took to download, the size (in bytes) of the page."
   ]
  },
  {
   "cell_type": "markdown",
   "metadata": {},
   "source": [
    "Although I am going to use the `urllib` module for this, I strongly recommend you use the `requests` 3rd party library instead: http://docs.python-requests.org"
   ]
  },
  {
   "cell_type": "code",
   "execution_count": 56,
   "metadata": {},
   "outputs": [],
   "source": [
    "import urllib\n",
    "from time import perf_counter"
   ]
  },
  {
   "cell_type": "code",
   "execution_count": 57,
   "metadata": {},
   "outputs": [],
   "source": [
    "class WebPage:\n",
    "    def __init__(self, url):\n",
    "        self.url = url\n",
    "        self._page = None\n",
    "        self._load_time_secs = None\n",
    "        self._page_size = None\n",
    "        \n",
    "    @property\n",
    "    def url(self):\n",
    "        return self._url\n",
    "    \n",
    "    @url.setter\n",
    "    def url(self, value):\n",
    "        self._url = value\n",
    "        self._page = None\n",
    "        # we'll lazy load the page - i.e. we wait until some property is requested\n",
    "        \n",
    "    @property\n",
    "    def page(self):\n",
    "        if self._page is None:\n",
    "            self.download_page()\n",
    "        return self._page\n",
    "    \n",
    "    @property\n",
    "    def page_size(self):\n",
    "        if self._page is None:\n",
    "            # need to first download the page\n",
    "            self.download_page()\n",
    "        return self._page_size\n",
    "        \n",
    "    @property\n",
    "    def time_elapsed(self):\n",
    "        if self._page is None:\n",
    "            self.download_page()\n",
    "        return self._load_time_secs\n",
    "            \n",
    "    def download_page(self):\n",
    "        self._page_size = None\n",
    "        self._load_time_secs = None\n",
    "        start_time = perf_counter()\n",
    "        with urllib.request.urlopen(self.url) as f:\n",
    "            self._page = f.read()\n",
    "        end_time = perf_counter()\n",
    "        \n",
    "        self._page_size = len(self._page)\n",
    "        self._load_time_secs = end_time - start_time"
   ]
  },
  {
   "cell_type": "code",
   "execution_count": 58,
   "metadata": {},
   "outputs": [
    {
     "name": "stdout",
     "output_type": "stream",
     "text": [
      "https://www.google.com \tsize=15_178 \telapsed=0.19 secs\n",
      "https://www.python.org \tsize=50_676 \telapsed=0.42 secs\n",
      "https://www.yahoo.com \tsize=529_747 \telapsed=0.93 secs\n"
     ]
    }
   ],
   "source": [
    "urls = [\n",
    "    'https://www.google.com',\n",
    "    'https://www.python.org',\n",
    "    'https://www.yahoo.com'\n",
    "]\n",
    "\n",
    "for url in urls:\n",
    "    page = WebPage(url)\n",
    "    print(f'{url} \\tsize={format(page.page_size, \"_\")} \\telapsed={page.time_elapsed:.2f} secs')"
   ]
  },
  {
   "cell_type": "code",
   "execution_count": 62,
   "metadata": {},
   "outputs": [],
   "source": [
    "web = WebPage(urls[0])"
   ]
  },
  {
   "cell_type": "code",
   "execution_count": 63,
   "metadata": {},
   "outputs": [
    {
     "data": {
      "text/plain": [
       "15198"
      ]
     },
     "execution_count": 63,
     "metadata": {},
     "output_type": "execute_result"
    }
   ],
   "source": [
    "web.page_size"
   ]
  },
  {
   "cell_type": "code",
   "execution_count": null,
   "metadata": {},
   "outputs": [],
   "source": []
  },
  {
   "cell_type": "code",
   "execution_count": 26,
   "metadata": {},
   "outputs": [],
   "source": [
    "from math import pi\n",
    "from numbers import Number"
   ]
  },
  {
   "cell_type": "code",
   "execution_count": null,
   "metadata": {},
   "outputs": [],
   "source": []
  },
  {
   "cell_type": "code",
   "execution_count": null,
   "metadata": {},
   "outputs": [],
   "source": []
  },
  {
   "cell_type": "code",
   "execution_count": null,
   "metadata": {},
   "outputs": [],
   "source": []
  },
  {
   "cell_type": "code",
   "execution_count": null,
   "metadata": {},
   "outputs": [],
   "source": []
  },
  {
   "cell_type": "code",
   "execution_count": null,
   "metadata": {},
   "outputs": [],
   "source": []
  },
  {
   "cell_type": "code",
   "execution_count": null,
   "metadata": {},
   "outputs": [],
   "source": []
  },
  {
   "cell_type": "code",
   "execution_count": null,
   "metadata": {},
   "outputs": [],
   "source": []
  },
  {
   "cell_type": "code",
   "execution_count": null,
   "metadata": {},
   "outputs": [],
   "source": []
  },
  {
   "cell_type": "code",
   "execution_count": null,
   "metadata": {},
   "outputs": [],
   "source": []
  },
  {
   "cell_type": "code",
   "execution_count": 27,
   "metadata": {},
   "outputs": [],
   "source": [
    "class Circle:\n",
    "    '''Circle object with all the properties of a circle'''\n",
    "    def __init__(self, radius):\n",
    "        self.radius = radius\n",
    "        \n",
    "    @property\n",
    "    def radius(self):\n",
    "        'Radius of the Circle'\n",
    "        return self._radius\n",
    "    \n",
    "    @radius.setter\n",
    "    def radius(self, radius):\n",
    "        if not isinstance(radius, Number) or radius < 0 :\n",
    "            raise ValueError('Unsupported Radius')\n",
    "        self._radius = radius\n",
    "        \n",
    "    @property\n",
    "    def area(self):\n",
    "        print('Calculating area...')\n",
    "        return pi * self.radius * self.radius"
   ]
  },
  {
   "cell_type": "code",
   "execution_count": 28,
   "metadata": {},
   "outputs": [],
   "source": [
    "c = Circle(1)"
   ]
  },
  {
   "cell_type": "code",
   "execution_count": 29,
   "metadata": {},
   "outputs": [
    {
     "data": {
      "text/plain": [
       "1"
      ]
     },
     "execution_count": 29,
     "metadata": {},
     "output_type": "execute_result"
    }
   ],
   "source": [
    "c.radius"
   ]
  },
  {
   "cell_type": "code",
   "execution_count": 30,
   "metadata": {},
   "outputs": [
    {
     "name": "stdout",
     "output_type": "stream",
     "text": [
      "Calculating area...\n"
     ]
    },
    {
     "data": {
      "text/plain": [
       "3.141592653589793"
      ]
     },
     "execution_count": 30,
     "metadata": {},
     "output_type": "execute_result"
    }
   ],
   "source": [
    "c.area"
   ]
  },
  {
   "cell_type": "code",
   "execution_count": 31,
   "metadata": {},
   "outputs": [
    {
     "ename": "ValueError",
     "evalue": "Unsupported Radius",
     "output_type": "error",
     "traceback": [
      "\u001b[1;31m---------------------------------------------------------------------------\u001b[0m",
      "\u001b[1;31mValueError\u001b[0m                                Traceback (most recent call last)",
      "\u001b[1;32m<ipython-input-31-bb68c5971ebc>\u001b[0m in \u001b[0;36m<module>\u001b[1;34m\u001b[0m\n\u001b[1;32m----> 1\u001b[1;33m \u001b[0mc\u001b[0m\u001b[1;33m.\u001b[0m\u001b[0mradius\u001b[0m \u001b[1;33m=\u001b[0m \u001b[1;34m'r'\u001b[0m\u001b[1;33m\u001b[0m\u001b[1;33m\u001b[0m\u001b[0m\n\u001b[0m",
      "\u001b[1;32m<ipython-input-27-eb3b9c20707a>\u001b[0m in \u001b[0;36mradius\u001b[1;34m(self, radius)\u001b[0m\n\u001b[0;32m     12\u001b[0m     \u001b[1;32mdef\u001b[0m \u001b[0mradius\u001b[0m\u001b[1;33m(\u001b[0m\u001b[0mself\u001b[0m\u001b[1;33m,\u001b[0m \u001b[0mradius\u001b[0m\u001b[1;33m)\u001b[0m\u001b[1;33m:\u001b[0m\u001b[1;33m\u001b[0m\u001b[1;33m\u001b[0m\u001b[0m\n\u001b[0;32m     13\u001b[0m         \u001b[1;32mif\u001b[0m \u001b[1;32mnot\u001b[0m \u001b[0misinstance\u001b[0m\u001b[1;33m(\u001b[0m\u001b[0mradius\u001b[0m\u001b[1;33m,\u001b[0m \u001b[0mNumber\u001b[0m\u001b[1;33m)\u001b[0m \u001b[1;32mor\u001b[0m \u001b[0mradius\u001b[0m \u001b[1;33m<\u001b[0m \u001b[1;36m0\u001b[0m \u001b[1;33m:\u001b[0m\u001b[1;33m\u001b[0m\u001b[1;33m\u001b[0m\u001b[0m\n\u001b[1;32m---> 14\u001b[1;33m             \u001b[1;32mraise\u001b[0m \u001b[0mValueError\u001b[0m\u001b[1;33m(\u001b[0m\u001b[1;34m'Unsupported Radius'\u001b[0m\u001b[1;33m)\u001b[0m\u001b[1;33m\u001b[0m\u001b[1;33m\u001b[0m\u001b[0m\n\u001b[0m\u001b[0;32m     15\u001b[0m         \u001b[0mself\u001b[0m\u001b[1;33m.\u001b[0m\u001b[0m_radius\u001b[0m \u001b[1;33m=\u001b[0m \u001b[0mradius\u001b[0m\u001b[1;33m\u001b[0m\u001b[1;33m\u001b[0m\u001b[0m\n\u001b[0;32m     16\u001b[0m \u001b[1;33m\u001b[0m\u001b[0m\n",
      "\u001b[1;31mValueError\u001b[0m: Unsupported Radius"
     ]
    }
   ],
   "source": [
    "c.radius = 'r'"
   ]
  },
  {
   "cell_type": "code",
   "execution_count": null,
   "metadata": {},
   "outputs": [],
   "source": []
  },
  {
   "cell_type": "code",
   "execution_count": 32,
   "metadata": {},
   "outputs": [],
   "source": [
    "c.radius = 100"
   ]
  },
  {
   "cell_type": "code",
   "execution_count": 33,
   "metadata": {},
   "outputs": [
    {
     "name": "stdout",
     "output_type": "stream",
     "text": [
      "Calculating area...\n"
     ]
    },
    {
     "data": {
      "text/plain": [
       "31415.926535897932"
      ]
     },
     "execution_count": 33,
     "metadata": {},
     "output_type": "execute_result"
    }
   ],
   "source": [
    "c.area"
   ]
  },
  {
   "cell_type": "code",
   "execution_count": 34,
   "metadata": {},
   "outputs": [
    {
     "name": "stdout",
     "output_type": "stream",
     "text": [
      "Calculating area...\n"
     ]
    },
    {
     "data": {
      "text/plain": [
       "31415.926535897932"
      ]
     },
     "execution_count": 34,
     "metadata": {},
     "output_type": "execute_result"
    }
   ],
   "source": [
    "c.area"
   ]
  },
  {
   "cell_type": "code",
   "execution_count": null,
   "metadata": {},
   "outputs": [],
   "source": []
  },
  {
   "cell_type": "code",
   "execution_count": 35,
   "metadata": {},
   "outputs": [],
   "source": [
    "from decimal import Decimal\n",
    "from fractions import Fraction"
   ]
  },
  {
   "cell_type": "code",
   "execution_count": 36,
   "metadata": {},
   "outputs": [],
   "source": [
    "c.radius = Decimal(1.3)"
   ]
  },
  {
   "cell_type": "code",
   "execution_count": null,
   "metadata": {},
   "outputs": [],
   "source": []
  },
  {
   "cell_type": "code",
   "execution_count": 38,
   "metadata": {},
   "outputs": [
    {
     "name": "stdout",
     "output_type": "stream",
     "text": [
      "Calculating area...\n"
     ]
    },
    {
     "ename": "TypeError",
     "evalue": "unsupported operand type(s) for *: 'float' and 'decimal.Decimal'",
     "output_type": "error",
     "traceback": [
      "\u001b[1;31m---------------------------------------------------------------------------\u001b[0m",
      "\u001b[1;31mTypeError\u001b[0m                                 Traceback (most recent call last)",
      "\u001b[1;32m<ipython-input-38-bd4454aae904>\u001b[0m in \u001b[0;36m<module>\u001b[1;34m\u001b[0m\n\u001b[1;32m----> 1\u001b[1;33m \u001b[0mc\u001b[0m\u001b[1;33m.\u001b[0m\u001b[0marea\u001b[0m\u001b[1;33m\u001b[0m\u001b[1;33m\u001b[0m\u001b[0m\n\u001b[0m",
      "\u001b[1;32m<ipython-input-27-eb3b9c20707a>\u001b[0m in \u001b[0;36marea\u001b[1;34m(self)\u001b[0m\n\u001b[0;32m     18\u001b[0m     \u001b[1;32mdef\u001b[0m \u001b[0marea\u001b[0m\u001b[1;33m(\u001b[0m\u001b[0mself\u001b[0m\u001b[1;33m)\u001b[0m\u001b[1;33m:\u001b[0m\u001b[1;33m\u001b[0m\u001b[1;33m\u001b[0m\u001b[0m\n\u001b[0;32m     19\u001b[0m         \u001b[0mprint\u001b[0m\u001b[1;33m(\u001b[0m\u001b[1;34m'Calculating area...'\u001b[0m\u001b[1;33m)\u001b[0m\u001b[1;33m\u001b[0m\u001b[1;33m\u001b[0m\u001b[0m\n\u001b[1;32m---> 20\u001b[1;33m         \u001b[1;32mreturn\u001b[0m \u001b[0mpi\u001b[0m \u001b[1;33m*\u001b[0m \u001b[0mself\u001b[0m\u001b[1;33m.\u001b[0m\u001b[0mradius\u001b[0m \u001b[1;33m*\u001b[0m \u001b[0mself\u001b[0m\u001b[1;33m.\u001b[0m\u001b[0mradius\u001b[0m\u001b[1;33m\u001b[0m\u001b[1;33m\u001b[0m\u001b[0m\n\u001b[0m",
      "\u001b[1;31mTypeError\u001b[0m: unsupported operand type(s) for *: 'float' and 'decimal.Decimal'"
     ]
    }
   ],
   "source": [
    "c.area"
   ]
  },
  {
   "cell_type": "code",
   "execution_count": 39,
   "metadata": {},
   "outputs": [],
   "source": [
    "c.radius = Fraction('1/5')"
   ]
  },
  {
   "cell_type": "code",
   "execution_count": 40,
   "metadata": {},
   "outputs": [
    {
     "name": "stdout",
     "output_type": "stream",
     "text": [
      "Calculating area...\n"
     ]
    },
    {
     "data": {
      "text/plain": [
       "0.12566370614359174"
      ]
     },
     "execution_count": 40,
     "metadata": {},
     "output_type": "execute_result"
    }
   ],
   "source": [
    "c.area"
   ]
  },
  {
   "cell_type": "code",
   "execution_count": null,
   "metadata": {},
   "outputs": [],
   "source": []
  },
  {
   "cell_type": "code",
   "execution_count": 37,
   "metadata": {},
   "outputs": [],
   "source": [
    "import numbers"
   ]
  },
  {
   "cell_type": "code",
   "execution_count": 25,
   "metadata": {},
   "outputs": [
    {
     "name": "stdout",
     "output_type": "stream",
     "text": [
      "Help on module numbers:\n",
      "\n",
      "NAME\n",
      "    numbers - Abstract Base Classes (ABCs) for numbers, according to PEP 3141.\n",
      "\n",
      "MODULE REFERENCE\n",
      "    https://docs.python.org/3.9/library/numbers\n",
      "    \n",
      "    The following documentation is automatically generated from the Python\n",
      "    source files.  It may be incomplete, incorrect or include features that\n",
      "    are considered implementation detail and may vary between Python\n",
      "    implementations.  When in doubt, consult the module reference at the\n",
      "    location listed above.\n",
      "\n",
      "DESCRIPTION\n",
      "    TODO: Fill out more detailed documentation on the operators.\n",
      "\n",
      "CLASSES\n",
      "    builtins.object\n",
      "        Number\n",
      "            Complex\n",
      "                Real\n",
      "                    Rational\n",
      "                        Integral\n",
      "    \n",
      "    class Complex(Number)\n",
      "     |  Complex defines the operations that work on the builtin complex type.\n",
      "     |  \n",
      "     |  In short, those are: a conversion to complex, .real, .imag, +, -,\n",
      "     |  *, /, abs(), .conjugate, ==, and !=.\n",
      "     |  \n",
      "     |  If it is given heterogeneous arguments, and doesn't have special\n",
      "     |  knowledge about them, it should fall back to the builtin complex\n",
      "     |  type as described below.\n",
      "     |  \n",
      "     |  Method resolution order:\n",
      "     |      Complex\n",
      "     |      Number\n",
      "     |      builtins.object\n",
      "     |  \n",
      "     |  Methods defined here:\n",
      "     |  \n",
      "     |  __abs__(self)\n",
      "     |      Returns the Real distance from 0. Called for abs(self).\n",
      "     |  \n",
      "     |  __add__(self, other)\n",
      "     |      self + other\n",
      "     |  \n",
      "     |  __bool__(self)\n",
      "     |      True if self != 0. Called for bool(self).\n",
      "     |  \n",
      "     |  __complex__(self)\n",
      "     |      Return a builtin complex instance. Called for complex(self).\n",
      "     |  \n",
      "     |  __eq__(self, other)\n",
      "     |      self == other\n",
      "     |  \n",
      "     |  __mul__(self, other)\n",
      "     |      self * other\n",
      "     |  \n",
      "     |  __neg__(self)\n",
      "     |      -self\n",
      "     |  \n",
      "     |  __pos__(self)\n",
      "     |      +self\n",
      "     |  \n",
      "     |  __pow__(self, exponent)\n",
      "     |      self**exponent; should promote to float or complex when necessary.\n",
      "     |  \n",
      "     |  __radd__(self, other)\n",
      "     |      other + self\n",
      "     |  \n",
      "     |  __rmul__(self, other)\n",
      "     |      other * self\n",
      "     |  \n",
      "     |  __rpow__(self, base)\n",
      "     |      base ** self\n",
      "     |  \n",
      "     |  __rsub__(self, other)\n",
      "     |      other - self\n",
      "     |  \n",
      "     |  __rtruediv__(self, other)\n",
      "     |      other / self\n",
      "     |  \n",
      "     |  __sub__(self, other)\n",
      "     |      self - other\n",
      "     |  \n",
      "     |  __truediv__(self, other)\n",
      "     |      self / other: Should promote to float when necessary.\n",
      "     |  \n",
      "     |  conjugate(self)\n",
      "     |      (x+y*i).conjugate() returns (x-y*i).\n",
      "     |  \n",
      "     |  ----------------------------------------------------------------------\n",
      "     |  Readonly properties defined here:\n",
      "     |  \n",
      "     |  imag\n",
      "     |      Retrieve the imaginary component of this number.\n",
      "     |      \n",
      "     |      This should subclass Real.\n",
      "     |  \n",
      "     |  real\n",
      "     |      Retrieve the real component of this number.\n",
      "     |      \n",
      "     |      This should subclass Real.\n",
      "     |  \n",
      "     |  ----------------------------------------------------------------------\n",
      "     |  Data and other attributes defined here:\n",
      "     |  \n",
      "     |  __abstractmethods__ = frozenset({'__abs__', '__add__', '__complex__', ...\n",
      "     |  \n",
      "     |  __hash__ = None\n",
      "    \n",
      "    class Integral(Rational)\n",
      "     |  Integral adds a conversion to int and the bit-string operations.\n",
      "     |  \n",
      "     |  Method resolution order:\n",
      "     |      Integral\n",
      "     |      Rational\n",
      "     |      Real\n",
      "     |      Complex\n",
      "     |      Number\n",
      "     |      builtins.object\n",
      "     |  \n",
      "     |  Methods defined here:\n",
      "     |  \n",
      "     |  __and__(self, other)\n",
      "     |      self & other\n",
      "     |  \n",
      "     |  __float__(self)\n",
      "     |      float(self) == float(int(self))\n",
      "     |  \n",
      "     |  __index__(self)\n",
      "     |      Called whenever an index is needed, such as in slicing\n",
      "     |  \n",
      "     |  __int__(self)\n",
      "     |      int(self)\n",
      "     |  \n",
      "     |  __invert__(self)\n",
      "     |      ~self\n",
      "     |  \n",
      "     |  __lshift__(self, other)\n",
      "     |      self << other\n",
      "     |  \n",
      "     |  __or__(self, other)\n",
      "     |      self | other\n",
      "     |  \n",
      "     |  __pow__(self, exponent, modulus=None)\n",
      "     |      self ** exponent % modulus, but maybe faster.\n",
      "     |      \n",
      "     |      Accept the modulus argument if you want to support the\n",
      "     |      3-argument version of pow(). Raise a TypeError if exponent < 0\n",
      "     |      or any argument isn't Integral. Otherwise, just implement the\n",
      "     |      2-argument version described in Complex.\n",
      "     |  \n",
      "     |  __rand__(self, other)\n",
      "     |      other & self\n",
      "     |  \n",
      "     |  __rlshift__(self, other)\n",
      "     |      other << self\n",
      "     |  \n",
      "     |  __ror__(self, other)\n",
      "     |      other | self\n",
      "     |  \n",
      "     |  __rrshift__(self, other)\n",
      "     |      other >> self\n",
      "     |  \n",
      "     |  __rshift__(self, other)\n",
      "     |      self >> other\n",
      "     |  \n",
      "     |  __rxor__(self, other)\n",
      "     |      other ^ self\n",
      "     |  \n",
      "     |  __xor__(self, other)\n",
      "     |      self ^ other\n",
      "     |  \n",
      "     |  ----------------------------------------------------------------------\n",
      "     |  Readonly properties defined here:\n",
      "     |  \n",
      "     |  denominator\n",
      "     |      Integers have a denominator of 1.\n",
      "     |  \n",
      "     |  numerator\n",
      "     |      Integers are their own numerators.\n",
      "     |  \n",
      "     |  ----------------------------------------------------------------------\n",
      "     |  Data and other attributes defined here:\n",
      "     |  \n",
      "     |  __abstractmethods__ = frozenset({'__abs__', '__add__', '__and__', '__c...\n",
      "     |  \n",
      "     |  ----------------------------------------------------------------------\n",
      "     |  Methods inherited from Real:\n",
      "     |  \n",
      "     |  __ceil__(self)\n",
      "     |      Finds the least Integral >= self.\n",
      "     |  \n",
      "     |  __complex__(self)\n",
      "     |      complex(self) == complex(float(self), 0)\n",
      "     |  \n",
      "     |  __divmod__(self, other)\n",
      "     |      divmod(self, other): The pair (self // other, self % other).\n",
      "     |      \n",
      "     |      Sometimes this can be computed faster than the pair of\n",
      "     |      operations.\n",
      "     |  \n",
      "     |  __floor__(self)\n",
      "     |      Finds the greatest Integral <= self.\n",
      "     |  \n",
      "     |  __floordiv__(self, other)\n",
      "     |      self // other: The floor() of self/other.\n",
      "     |  \n",
      "     |  __le__(self, other)\n",
      "     |      self <= other\n",
      "     |  \n",
      "     |  __lt__(self, other)\n",
      "     |      self < other\n",
      "     |      \n",
      "     |      < on Reals defines a total ordering, except perhaps for NaN.\n",
      "     |  \n",
      "     |  __mod__(self, other)\n",
      "     |      self % other\n",
      "     |  \n",
      "     |  __rdivmod__(self, other)\n",
      "     |      divmod(other, self): The pair (self // other, self % other).\n",
      "     |      \n",
      "     |      Sometimes this can be computed faster than the pair of\n",
      "     |      operations.\n",
      "     |  \n",
      "     |  __rfloordiv__(self, other)\n",
      "     |      other // self: The floor() of other/self.\n",
      "     |  \n",
      "     |  __rmod__(self, other)\n",
      "     |      other % self\n",
      "     |  \n",
      "     |  __round__(self, ndigits=None)\n",
      "     |      Rounds self to ndigits decimal places, defaulting to 0.\n",
      "     |      \n",
      "     |      If ndigits is omitted or None, returns an Integral, otherwise\n",
      "     |      returns a Real. Rounds half toward even.\n",
      "     |  \n",
      "     |  __trunc__(self)\n",
      "     |      trunc(self): Truncates self to an Integral.\n",
      "     |      \n",
      "     |      Returns an Integral i such that:\n",
      "     |        * i>0 iff self>0;\n",
      "     |        * abs(i) <= abs(self);\n",
      "     |        * for any Integral j satisfying the first two conditions,\n",
      "     |          abs(i) >= abs(j) [i.e. i has \"maximal\" abs among those].\n",
      "     |      i.e. \"truncate towards 0\".\n",
      "     |  \n",
      "     |  conjugate(self)\n",
      "     |      Conjugate is a no-op for Reals.\n",
      "     |  \n",
      "     |  ----------------------------------------------------------------------\n",
      "     |  Readonly properties inherited from Real:\n",
      "     |  \n",
      "     |  imag\n",
      "     |      Real numbers have no imaginary component.\n",
      "     |  \n",
      "     |  real\n",
      "     |      Real numbers are their real component.\n",
      "     |  \n",
      "     |  ----------------------------------------------------------------------\n",
      "     |  Methods inherited from Complex:\n",
      "     |  \n",
      "     |  __abs__(self)\n",
      "     |      Returns the Real distance from 0. Called for abs(self).\n",
      "     |  \n",
      "     |  __add__(self, other)\n",
      "     |      self + other\n",
      "     |  \n",
      "     |  __bool__(self)\n",
      "     |      True if self != 0. Called for bool(self).\n",
      "     |  \n",
      "     |  __eq__(self, other)\n",
      "     |      self == other\n",
      "     |  \n",
      "     |  __mul__(self, other)\n",
      "     |      self * other\n",
      "     |  \n",
      "     |  __neg__(self)\n",
      "     |      -self\n",
      "     |  \n",
      "     |  __pos__(self)\n",
      "     |      +self\n",
      "     |  \n",
      "     |  __radd__(self, other)\n",
      "     |      other + self\n",
      "     |  \n",
      "     |  __rmul__(self, other)\n",
      "     |      other * self\n",
      "     |  \n",
      "     |  __rpow__(self, base)\n",
      "     |      base ** self\n",
      "     |  \n",
      "     |  __rsub__(self, other)\n",
      "     |      other - self\n",
      "     |  \n",
      "     |  __rtruediv__(self, other)\n",
      "     |      other / self\n",
      "     |  \n",
      "     |  __sub__(self, other)\n",
      "     |      self - other\n",
      "     |  \n",
      "     |  __truediv__(self, other)\n",
      "     |      self / other: Should promote to float when necessary.\n",
      "     |  \n",
      "     |  ----------------------------------------------------------------------\n",
      "     |  Data and other attributes inherited from Complex:\n",
      "     |  \n",
      "     |  __hash__ = None\n",
      "    \n",
      "    class Number(builtins.object)\n",
      "     |  All numbers inherit from this class.\n",
      "     |  \n",
      "     |  If you just want to check if an argument x is a number, without\n",
      "     |  caring what kind, use isinstance(x, Number).\n",
      "     |  \n",
      "     |  Data and other attributes defined here:\n",
      "     |  \n",
      "     |  __abstractmethods__ = frozenset()\n",
      "     |  \n",
      "     |  __hash__ = None\n",
      "    \n",
      "    class Rational(Real)\n",
      "     |  .numerator and .denominator should be in lowest terms.\n",
      "     |  \n",
      "     |  Method resolution order:\n",
      "     |      Rational\n",
      "     |      Real\n",
      "     |      Complex\n",
      "     |      Number\n",
      "     |      builtins.object\n",
      "     |  \n",
      "     |  Methods defined here:\n",
      "     |  \n",
      "     |  __float__(self)\n",
      "     |      float(self) = self.numerator / self.denominator\n",
      "     |      \n",
      "     |      It's important that this conversion use the integer's \"true\"\n",
      "     |      division rather than casting one side to float before dividing\n",
      "     |      so that ratios of huge integers convert without overflowing.\n",
      "     |  \n",
      "     |  ----------------------------------------------------------------------\n",
      "     |  Readonly properties defined here:\n",
      "     |  \n",
      "     |  denominator\n",
      "     |  \n",
      "     |  numerator\n",
      "     |  \n",
      "     |  ----------------------------------------------------------------------\n",
      "     |  Data and other attributes defined here:\n",
      "     |  \n",
      "     |  __abstractmethods__ = frozenset({'__abs__', '__add__', '__ceil__', '__...\n",
      "     |  \n",
      "     |  ----------------------------------------------------------------------\n",
      "     |  Methods inherited from Real:\n",
      "     |  \n",
      "     |  __ceil__(self)\n",
      "     |      Finds the least Integral >= self.\n",
      "     |  \n",
      "     |  __complex__(self)\n",
      "     |      complex(self) == complex(float(self), 0)\n",
      "     |  \n",
      "     |  __divmod__(self, other)\n",
      "     |      divmod(self, other): The pair (self // other, self % other).\n",
      "     |      \n",
      "     |      Sometimes this can be computed faster than the pair of\n",
      "     |      operations.\n",
      "     |  \n",
      "     |  __floor__(self)\n",
      "     |      Finds the greatest Integral <= self.\n",
      "     |  \n",
      "     |  __floordiv__(self, other)\n",
      "     |      self // other: The floor() of self/other.\n",
      "     |  \n",
      "     |  __le__(self, other)\n",
      "     |      self <= other\n",
      "     |  \n",
      "     |  __lt__(self, other)\n",
      "     |      self < other\n",
      "     |      \n",
      "     |      < on Reals defines a total ordering, except perhaps for NaN.\n",
      "     |  \n",
      "     |  __mod__(self, other)\n",
      "     |      self % other\n",
      "     |  \n",
      "     |  __rdivmod__(self, other)\n",
      "     |      divmod(other, self): The pair (self // other, self % other).\n",
      "     |      \n",
      "     |      Sometimes this can be computed faster than the pair of\n",
      "     |      operations.\n",
      "     |  \n",
      "     |  __rfloordiv__(self, other)\n",
      "     |      other // self: The floor() of other/self.\n",
      "     |  \n",
      "     |  __rmod__(self, other)\n",
      "     |      other % self\n",
      "     |  \n",
      "     |  __round__(self, ndigits=None)\n",
      "     |      Rounds self to ndigits decimal places, defaulting to 0.\n",
      "     |      \n",
      "     |      If ndigits is omitted or None, returns an Integral, otherwise\n",
      "     |      returns a Real. Rounds half toward even.\n",
      "     |  \n",
      "     |  __trunc__(self)\n",
      "     |      trunc(self): Truncates self to an Integral.\n",
      "     |      \n",
      "     |      Returns an Integral i such that:\n",
      "     |        * i>0 iff self>0;\n",
      "     |        * abs(i) <= abs(self);\n",
      "     |        * for any Integral j satisfying the first two conditions,\n",
      "     |          abs(i) >= abs(j) [i.e. i has \"maximal\" abs among those].\n",
      "     |      i.e. \"truncate towards 0\".\n",
      "     |  \n",
      "     |  conjugate(self)\n",
      "     |      Conjugate is a no-op for Reals.\n",
      "     |  \n",
      "     |  ----------------------------------------------------------------------\n",
      "     |  Readonly properties inherited from Real:\n",
      "     |  \n",
      "     |  imag\n",
      "     |      Real numbers have no imaginary component.\n",
      "     |  \n",
      "     |  real\n",
      "     |      Real numbers are their real component.\n",
      "     |  \n",
      "     |  ----------------------------------------------------------------------\n",
      "     |  Methods inherited from Complex:\n",
      "     |  \n",
      "     |  __abs__(self)\n",
      "     |      Returns the Real distance from 0. Called for abs(self).\n",
      "     |  \n",
      "     |  __add__(self, other)\n",
      "     |      self + other\n",
      "     |  \n",
      "     |  __bool__(self)\n",
      "     |      True if self != 0. Called for bool(self).\n",
      "     |  \n",
      "     |  __eq__(self, other)\n",
      "     |      self == other\n",
      "     |  \n",
      "     |  __mul__(self, other)\n",
      "     |      self * other\n",
      "     |  \n",
      "     |  __neg__(self)\n",
      "     |      -self\n",
      "     |  \n",
      "     |  __pos__(self)\n",
      "     |      +self\n",
      "     |  \n",
      "     |  __pow__(self, exponent)\n",
      "     |      self**exponent; should promote to float or complex when necessary.\n",
      "     |  \n",
      "     |  __radd__(self, other)\n",
      "     |      other + self\n",
      "     |  \n",
      "     |  __rmul__(self, other)\n",
      "     |      other * self\n",
      "     |  \n",
      "     |  __rpow__(self, base)\n",
      "     |      base ** self\n",
      "     |  \n",
      "     |  __rsub__(self, other)\n",
      "     |      other - self\n",
      "     |  \n",
      "     |  __rtruediv__(self, other)\n",
      "     |      other / self\n",
      "     |  \n",
      "     |  __sub__(self, other)\n",
      "     |      self - other\n",
      "     |  \n",
      "     |  __truediv__(self, other)\n",
      "     |      self / other: Should promote to float when necessary.\n",
      "     |  \n",
      "     |  ----------------------------------------------------------------------\n",
      "     |  Data and other attributes inherited from Complex:\n",
      "     |  \n",
      "     |  __hash__ = None\n",
      "    \n",
      "    class Real(Complex)\n",
      "     |  To Complex, Real adds the operations that work on real numbers.\n",
      "     |  \n",
      "     |  In short, those are: a conversion to float, trunc(), divmod,\n",
      "     |  %, <, <=, >, and >=.\n",
      "     |  \n",
      "     |  Real also provides defaults for the derived operations.\n",
      "     |  \n",
      "     |  Method resolution order:\n",
      "     |      Real\n",
      "     |      Complex\n",
      "     |      Number\n",
      "     |      builtins.object\n",
      "     |  \n",
      "     |  Methods defined here:\n",
      "     |  \n",
      "     |  __ceil__(self)\n",
      "     |      Finds the least Integral >= self.\n",
      "     |  \n",
      "     |  __complex__(self)\n",
      "     |      complex(self) == complex(float(self), 0)\n",
      "     |  \n",
      "     |  __divmod__(self, other)\n",
      "     |      divmod(self, other): The pair (self // other, self % other).\n",
      "     |      \n",
      "     |      Sometimes this can be computed faster than the pair of\n",
      "     |      operations.\n",
      "     |  \n",
      "     |  __float__(self)\n",
      "     |      Any Real can be converted to a native float object.\n",
      "     |      \n",
      "     |      Called for float(self).\n",
      "     |  \n",
      "     |  __floor__(self)\n",
      "     |      Finds the greatest Integral <= self.\n",
      "     |  \n",
      "     |  __floordiv__(self, other)\n",
      "     |      self // other: The floor() of self/other.\n",
      "     |  \n",
      "     |  __le__(self, other)\n",
      "     |      self <= other\n",
      "     |  \n",
      "     |  __lt__(self, other)\n",
      "     |      self < other\n",
      "     |      \n",
      "     |      < on Reals defines a total ordering, except perhaps for NaN.\n",
      "     |  \n",
      "     |  __mod__(self, other)\n",
      "     |      self % other\n",
      "     |  \n",
      "     |  __rdivmod__(self, other)\n",
      "     |      divmod(other, self): The pair (self // other, self % other).\n",
      "     |      \n",
      "     |      Sometimes this can be computed faster than the pair of\n",
      "     |      operations.\n",
      "     |  \n",
      "     |  __rfloordiv__(self, other)\n",
      "     |      other // self: The floor() of other/self.\n",
      "     |  \n",
      "     |  __rmod__(self, other)\n",
      "     |      other % self\n",
      "     |  \n",
      "     |  __round__(self, ndigits=None)\n",
      "     |      Rounds self to ndigits decimal places, defaulting to 0.\n",
      "     |      \n",
      "     |      If ndigits is omitted or None, returns an Integral, otherwise\n",
      "     |      returns a Real. Rounds half toward even.\n",
      "     |  \n",
      "     |  __trunc__(self)\n",
      "     |      trunc(self): Truncates self to an Integral.\n",
      "     |      \n",
      "     |      Returns an Integral i such that:\n",
      "     |        * i>0 iff self>0;\n",
      "     |        * abs(i) <= abs(self);\n",
      "     |        * for any Integral j satisfying the first two conditions,\n",
      "     |          abs(i) >= abs(j) [i.e. i has \"maximal\" abs among those].\n",
      "     |      i.e. \"truncate towards 0\".\n",
      "     |  \n",
      "     |  conjugate(self)\n",
      "     |      Conjugate is a no-op for Reals.\n",
      "     |  \n",
      "     |  ----------------------------------------------------------------------\n",
      "     |  Readonly properties defined here:\n",
      "     |  \n",
      "     |  imag\n",
      "     |      Real numbers have no imaginary component.\n",
      "     |  \n",
      "     |  real\n",
      "     |      Real numbers are their real component.\n",
      "     |  \n",
      "     |  ----------------------------------------------------------------------\n",
      "     |  Data and other attributes defined here:\n",
      "     |  \n",
      "     |  __abstractmethods__ = frozenset({'__abs__', '__add__', '__ceil__', '__...\n",
      "     |  \n",
      "     |  ----------------------------------------------------------------------\n",
      "     |  Methods inherited from Complex:\n",
      "     |  \n",
      "     |  __abs__(self)\n",
      "     |      Returns the Real distance from 0. Called for abs(self).\n",
      "     |  \n",
      "     |  __add__(self, other)\n",
      "     |      self + other\n",
      "     |  \n",
      "     |  __bool__(self)\n",
      "     |      True if self != 0. Called for bool(self).\n",
      "     |  \n",
      "     |  __eq__(self, other)\n",
      "     |      self == other\n",
      "     |  \n",
      "     |  __mul__(self, other)\n",
      "     |      self * other\n",
      "     |  \n",
      "     |  __neg__(self)\n",
      "     |      -self\n",
      "     |  \n",
      "     |  __pos__(self)\n",
      "     |      +self\n",
      "     |  \n",
      "     |  __pow__(self, exponent)\n",
      "     |      self**exponent; should promote to float or complex when necessary.\n",
      "     |  \n",
      "     |  __radd__(self, other)\n",
      "     |      other + self\n",
      "     |  \n",
      "     |  __rmul__(self, other)\n",
      "     |      other * self\n",
      "     |  \n",
      "     |  __rpow__(self, base)\n",
      "     |      base ** self\n",
      "     |  \n",
      "     |  __rsub__(self, other)\n",
      "     |      other - self\n",
      "     |  \n",
      "     |  __rtruediv__(self, other)\n",
      "     |      other / self\n",
      "     |  \n",
      "     |  __sub__(self, other)\n",
      "     |      self - other\n",
      "     |  \n",
      "     |  __truediv__(self, other)\n",
      "     |      self / other: Should promote to float when necessary.\n",
      "     |  \n",
      "     |  ----------------------------------------------------------------------\n",
      "     |  Data and other attributes inherited from Complex:\n",
      "     |  \n",
      "     |  __hash__ = None\n",
      "\n",
      "DATA\n",
      "    __all__ = ['Number', 'Complex', 'Real', 'Rational', 'Integral']\n",
      "\n",
      "FILE\n",
      "    c:\\users\\asus\\appdata\\local\\programs\\python\\python39\\lib\\numbers.py\n",
      "\n",
      "\n"
     ]
    }
   ],
   "source": [
    "help(numbers)"
   ]
  },
  {
   "cell_type": "code",
   "execution_count": null,
   "metadata": {},
   "outputs": [],
   "source": []
  },
  {
   "cell_type": "code",
   "execution_count": 42,
   "metadata": {
    "scrolled": true
   },
   "outputs": [
    {
     "name": "stdout",
     "output_type": "stream",
     "text": [
      "Help on class Circle in module __main__:\n",
      "\n",
      "class Circle(builtins.object)\n",
      " |  Circle(radius)\n",
      " |  \n",
      " |  Circle object with all the properties of a circle\n",
      " |  \n",
      " |  Methods defined here:\n",
      " |  \n",
      " |  __init__(self, radius)\n",
      " |      Initialize self.  See help(type(self)) for accurate signature.\n",
      " |  \n",
      " |  ----------------------------------------------------------------------\n",
      " |  Readonly properties defined here:\n",
      " |  \n",
      " |  area\n",
      " |  \n",
      " |  ----------------------------------------------------------------------\n",
      " |  Data descriptors defined here:\n",
      " |  \n",
      " |  __dict__\n",
      " |      dictionary for instance variables (if defined)\n",
      " |  \n",
      " |  __weakref__\n",
      " |      list of weak references to the object (if defined)\n",
      " |  \n",
      " |  radius\n",
      " |      Radius of the Circle\n",
      "\n"
     ]
    }
   ],
   "source": [
    "help(Circle)"
   ]
  },
  {
   "cell_type": "code",
   "execution_count": null,
   "metadata": {},
   "outputs": [],
   "source": []
  },
  {
   "cell_type": "code",
   "execution_count": null,
   "metadata": {},
   "outputs": [],
   "source": []
  },
  {
   "cell_type": "code",
   "execution_count": null,
   "metadata": {},
   "outputs": [],
   "source": []
  },
  {
   "cell_type": "code",
   "execution_count": null,
   "metadata": {},
   "outputs": [],
   "source": []
  },
  {
   "cell_type": "code",
   "execution_count": 43,
   "metadata": {},
   "outputs": [],
   "source": [
    "class Circle:\n",
    "    '''Circle object with all the properties of a circle'''\n",
    "    def __init__(self, radius):\n",
    "        self.radius = radius\n",
    "        self._area = None\n",
    "        \n",
    "    @property\n",
    "    def radius(self):\n",
    "        'Radius of the Circle'\n",
    "        return self._radius\n",
    "    \n",
    "    @radius.setter\n",
    "    def radius(self, radius):\n",
    "        if not isinstance(radius, Real) or radius < 0 :\n",
    "            raise ValueError('Unsupported Radius')\n",
    "        self._radius = radius\n",
    "        self._area = None\n",
    "        \n",
    "    @property\n",
    "    def area(self):\n",
    "        if not self._area:\n",
    "            print('Calculating area...')\n",
    "            self._area = pi * self.radius * self.radius\n",
    "        return self._area"
   ]
  },
  {
   "cell_type": "code",
   "execution_count": 47,
   "metadata": {},
   "outputs": [],
   "source": [
    "c = Circle(1.1)"
   ]
  },
  {
   "cell_type": "code",
   "execution_count": 48,
   "metadata": {},
   "outputs": [
    {
     "name": "stdout",
     "output_type": "stream",
     "text": [
      "Calculating area...\n"
     ]
    },
    {
     "data": {
      "text/plain": [
       "3.8013271108436504"
      ]
     },
     "execution_count": 48,
     "metadata": {},
     "output_type": "execute_result"
    }
   ],
   "source": [
    "c.area"
   ]
  },
  {
   "cell_type": "code",
   "execution_count": 49,
   "metadata": {},
   "outputs": [],
   "source": [
    "c.radius = 1"
   ]
  },
  {
   "cell_type": "code",
   "execution_count": 50,
   "metadata": {},
   "outputs": [
    {
     "name": "stdout",
     "output_type": "stream",
     "text": [
      "Calculating area...\n"
     ]
    },
    {
     "data": {
      "text/plain": [
       "3.141592653589793"
      ]
     },
     "execution_count": 50,
     "metadata": {},
     "output_type": "execute_result"
    }
   ],
   "source": [
    "c.area"
   ]
  },
  {
   "cell_type": "code",
   "execution_count": 51,
   "metadata": {},
   "outputs": [
    {
     "data": {
      "text/plain": [
       "3.141592653589793"
      ]
     },
     "execution_count": 51,
     "metadata": {},
     "output_type": "execute_result"
    }
   ],
   "source": [
    "c.area"
   ]
  },
  {
   "cell_type": "code",
   "execution_count": 52,
   "metadata": {},
   "outputs": [
    {
     "data": {
      "text/plain": [
       "3.141592653589793"
      ]
     },
     "execution_count": 52,
     "metadata": {},
     "output_type": "execute_result"
    }
   ],
   "source": [
    "c.area"
   ]
  },
  {
   "cell_type": "code",
   "execution_count": 53,
   "metadata": {},
   "outputs": [
    {
     "ename": "AttributeError",
     "evalue": "can't set attribute",
     "output_type": "error",
     "traceback": [
      "\u001b[1;31m---------------------------------------------------------------------------\u001b[0m",
      "\u001b[1;31mAttributeError\u001b[0m                            Traceback (most recent call last)",
      "\u001b[1;32m<ipython-input-53-b28b205e5ef5>\u001b[0m in \u001b[0;36m<module>\u001b[1;34m\u001b[0m\n\u001b[1;32m----> 1\u001b[1;33m \u001b[0mc\u001b[0m\u001b[1;33m.\u001b[0m\u001b[0marea\u001b[0m \u001b[1;33m=\u001b[0m \u001b[1;36m100\u001b[0m\u001b[1;33m\u001b[0m\u001b[1;33m\u001b[0m\u001b[0m\n\u001b[0m",
      "\u001b[1;31mAttributeError\u001b[0m: can't set attribute"
     ]
    }
   ],
   "source": [
    "c.area = 100"
   ]
  },
  {
   "cell_type": "code",
   "execution_count": null,
   "metadata": {},
   "outputs": [],
   "source": []
  }
 ],
 "metadata": {
  "kernelspec": {
   "display_name": "Python 3",
   "language": "python",
   "name": "python3"
  },
  "language_info": {
   "codemirror_mode": {
    "name": "ipython",
    "version": 3
   },
   "file_extension": ".py",
   "mimetype": "text/x-python",
   "name": "python",
   "nbconvert_exporter": "python",
   "pygments_lexer": "ipython3",
   "version": "3.9.1"
  }
 },
 "nbformat": 4,
 "nbformat_minor": 2
}
