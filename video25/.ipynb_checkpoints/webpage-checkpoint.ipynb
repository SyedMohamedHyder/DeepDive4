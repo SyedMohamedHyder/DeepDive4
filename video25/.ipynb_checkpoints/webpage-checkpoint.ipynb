{
 "cells": [
  {
   "cell_type": "code",
   "execution_count": 1,
   "id": "technical-teddy",
   "metadata": {},
   "outputs": [],
   "source": [
    "import requests"
   ]
  },
  {
   "cell_type": "code",
   "execution_count": 45,
   "id": "economic-range",
   "metadata": {},
   "outputs": [],
   "source": [
    "class Webpage:\n",
    "    def __init__(self, url):\n",
    "        self.url = url\n",
    "        self._page = None\n",
    "        \n",
    "    @property\n",
    "    def url(self):\n",
    "        return self._url\n",
    "    \n",
    "    @url.setter\n",
    "    def url(self, value):\n",
    "        self._url = value\n",
    "        self._page = None\n",
    "        \n",
    "    @property\n",
    "    def page(self):\n",
    "        if self._page is None:\n",
    "            self.download_page()\n",
    "        return self._page\n",
    "    \n",
    "    @property\n",
    "    def size(self):\n",
    "        if self._page is None:\n",
    "            self.download_page()\n",
    "        return self._page_size\n",
    "    \n",
    "    @property\n",
    "    def load_time(self):\n",
    "        if self._page is None:\n",
    "            self.download_page()\n",
    "        return self._page_load_time\n",
    "    \n",
    "    \n",
    "    def download_page(self):\n",
    "        response = requests.get(self.url)\n",
    "        self._page = response.content\n",
    "        self._page_size = len(self._page)\n",
    "        self._page_load_time = response.elapsed.total_seconds()\n",
    "        \n",
    "    def __repr__(self):\n",
    "        return f'WebPage({self.url})'"
   ]
  },
  {
   "cell_type": "code",
   "execution_count": 46,
   "id": "noted-discount",
   "metadata": {},
   "outputs": [],
   "source": [
    "urls = [\n",
    "    'https://www.google.com',\n",
    "    'https://www.github.com',\n",
    "    'https://www.python.org'\n",
    "]"
   ]
  },
  {
   "cell_type": "code",
   "execution_count": 47,
   "id": "funky-trainer",
   "metadata": {},
   "outputs": [
    {
     "name": "stdout",
     "output_type": "stream",
     "text": [
      "https://www.google.com \tsize=15_230 \telapsed=0.438721 secs\n",
      "https://www.github.com \tsize=228_104 \telapsed=0.132687 secs\n",
      "https://www.python.org \tsize=50_676 \telapsed=0.130251 secs\n"
     ]
    }
   ],
   "source": [
    "for url in urls:\n",
    "    page = Webpage(url)\n",
    "    print(f'{url} \\tsize={format(page.size, \"_\")} \\telapsed={page.load_time} secs')"
   ]
  },
  {
   "cell_type": "code",
   "execution_count": 54,
   "id": "driving-opposition",
   "metadata": {},
   "outputs": [],
   "source": [
    "web = Webpage(urls[0])"
   ]
  },
  {
   "cell_type": "code",
   "execution_count": 55,
   "id": "daily-honor",
   "metadata": {},
   "outputs": [
    {
     "data": {
      "text/plain": [
       "15245"
      ]
     },
     "execution_count": 55,
     "metadata": {},
     "output_type": "execute_result"
    }
   ],
   "source": [
    "web.size"
   ]
  },
  {
   "cell_type": "code",
   "execution_count": 51,
   "id": "charitable-makeup",
   "metadata": {
    "scrolled": true
   },
   "outputs": [
    {
     "data": {
      "text/plain": [
       "'15_212'"
      ]
     },
     "execution_count": 51,
     "metadata": {},
     "output_type": "execute_result"
    }
   ],
   "source": [
    "format(web.size, '_')"
   ]
  },
  {
   "cell_type": "code",
   "execution_count": 52,
   "id": "virtual-astrology",
   "metadata": {},
   "outputs": [
    {
     "data": {
      "text/plain": [
       "50676"
      ]
     },
     "execution_count": 52,
     "metadata": {},
     "output_type": "execute_result"
    }
   ],
   "source": [
    "page.size"
   ]
  },
  {
   "cell_type": "code",
   "execution_count": 53,
   "id": "liked-output",
   "metadata": {},
   "outputs": [
    {
     "data": {
      "text/plain": [
       "0.446866"
      ]
     },
     "execution_count": 53,
     "metadata": {},
     "output_type": "execute_result"
    }
   ],
   "source": [
    "web.load_time"
   ]
  },
  {
   "cell_type": "code",
   "execution_count": null,
   "id": "quality-study",
   "metadata": {},
   "outputs": [],
   "source": []
  }
 ],
 "metadata": {
  "kernelspec": {
   "display_name": "Python 3",
   "language": "python",
   "name": "python3"
  },
  "language_info": {
   "codemirror_mode": {
    "name": "ipython",
    "version": 3
   },
   "file_extension": ".py",
   "mimetype": "text/x-python",
   "name": "python",
   "nbconvert_exporter": "python",
   "pygments_lexer": "ipython3",
   "version": "3.9.1"
  }
 },
 "nbformat": 4,
 "nbformat_minor": 5
}
