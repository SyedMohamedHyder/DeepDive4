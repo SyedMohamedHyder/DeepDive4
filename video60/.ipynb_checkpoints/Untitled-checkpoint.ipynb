{
 "cells": [
  {
   "cell_type": "code",
   "execution_count": 13,
   "id": "automotive-oklahoma",
   "metadata": {},
   "outputs": [],
   "source": [
    "import ctypes"
   ]
  },
  {
   "cell_type": "code",
   "execution_count": 14,
   "id": "otherwise-factory",
   "metadata": {},
   "outputs": [],
   "source": [
    "def ref_count(address):\n",
    "    return ctypes.c_long.from_address(address).value"
   ]
  },
  {
   "cell_type": "code",
   "execution_count": 15,
   "id": "through-earthquake",
   "metadata": {},
   "outputs": [],
   "source": [
    "class Person:\n",
    "    def __init__(self, name):\n",
    "        self.name = name\n",
    "        \n",
    "    def __repr__(self):\n",
    "        return f'Person(name={self.name})'\n",
    "    \n",
    "    def __del__(self):\n",
    "        print('__del__ was called...')"
   ]
  },
  {
   "cell_type": "code",
   "execution_count": 16,
   "id": "trained-orange",
   "metadata": {},
   "outputs": [],
   "source": [
    "p = Person('Hyder')"
   ]
  },
  {
   "cell_type": "code",
   "execution_count": 17,
   "id": "unsigned-calibration",
   "metadata": {},
   "outputs": [
    {
     "name": "stdout",
     "output_type": "stream",
     "text": [
      "__del__ was called...\n"
     ]
    }
   ],
   "source": [
    "p = None"
   ]
  },
  {
   "cell_type": "code",
   "execution_count": 22,
   "id": "placed-charles",
   "metadata": {},
   "outputs": [],
   "source": [
    "p = Person('Hyder')"
   ]
  },
  {
   "cell_type": "code",
   "execution_count": 23,
   "id": "fabulous-marks",
   "metadata": {},
   "outputs": [
    {
     "name": "stdout",
     "output_type": "stream",
     "text": [
      "__del__ was called...\n"
     ]
    }
   ],
   "source": [
    "del p"
   ]
  },
  {
   "cell_type": "code",
   "execution_count": 24,
   "id": "right-television",
   "metadata": {},
   "outputs": [],
   "source": [
    "class Person:\n",
    "    def __init__(self, name):\n",
    "        self.name = name\n",
    "        \n",
    "    def __repr__(self):\n",
    "        return f'Person(name={self.name})'\n",
    "    \n",
    "    def __del__(self):\n",
    "        raise ValueError('Something went bump...')"
   ]
  },
  {
   "cell_type": "code",
   "execution_count": 25,
   "id": "prospective-claim",
   "metadata": {},
   "outputs": [],
   "source": [
    "p = Person('Hyder')"
   ]
  },
  {
   "cell_type": "code",
   "execution_count": 26,
   "id": "correct-christmas",
   "metadata": {},
   "outputs": [
    {
     "name": "stderr",
     "output_type": "stream",
     "text": [
      "Exception ignored in: <function Person.__del__ at 0x00000225C1D0BF70>\n",
      "Traceback (most recent call last):\n",
      "  File \"<ipython-input-24-ea3faae5dcc3>\", line 9, in __del__\n",
      "ValueError: Something went bump...\n"
     ]
    }
   ],
   "source": [
    "del p"
   ]
  },
  {
   "cell_type": "code",
   "execution_count": 27,
   "id": "interim-breach",
   "metadata": {},
   "outputs": [
    {
     "name": "stderr",
     "output_type": "stream",
     "text": [
      "Exception ignored in: <function Person.__del__ at 0x00000225C1D0BF70>\n",
      "Traceback (most recent call last):\n",
      "  File \"<ipython-input-24-ea3faae5dcc3>\", line 9, in __del__\n",
      "ValueError: Something went bump...\n"
     ]
    },
    {
     "name": "stdout",
     "output_type": "stream",
     "text": [
      "Everything went fine\n"
     ]
    }
   ],
   "source": [
    "p = Person('Hyder')\n",
    "\n",
    "try:\n",
    "    del p\n",
    "except ValueError as ex:\n",
    "    print(ex)\n",
    "else:\n",
    "    print('Everything went fine')"
   ]
  },
  {
   "cell_type": "code",
   "execution_count": 28,
   "id": "surprised-wiring",
   "metadata": {},
   "outputs": [],
   "source": [
    "import sys"
   ]
  },
  {
   "cell_type": "code",
   "execution_count": 33,
   "id": "based-enclosure",
   "metadata": {},
   "outputs": [],
   "source": [
    "class ErrToFile:\n",
    "    def __init__(self, fname):\n",
    "        self._fname = fname\n",
    "        \n",
    "    def __enter__(self):\n",
    "        self._current_stderr = sys.stderr\n",
    "        self._file = open(self._fname, 'w')\n",
    "        sys.stderr = self._file\n",
    "        \n",
    "    def __exit__(self, exc_type, exc_val, exc_tb):\n",
    "        sys.stderr = self._current_stderr\n",
    "        self._file.close()"
   ]
  },
  {
   "cell_type": "code",
   "execution_count": 34,
   "id": "considerable-theta",
   "metadata": {},
   "outputs": [
    {
     "name": "stdout",
     "output_type": "stream",
     "text": [
      "Everything went fine\n"
     ]
    }
   ],
   "source": [
    "with ErrToFile('err.txt'):\n",
    "    p = Person('Hyder')\n",
    "\n",
    "    try:\n",
    "        del p\n",
    "    except ValueError as ex:\n",
    "        print(ex)\n",
    "    else:\n",
    "        print('Everything went fine')"
   ]
  },
  {
   "cell_type": "code",
   "execution_count": 35,
   "id": "intermediate-stretch",
   "metadata": {},
   "outputs": [
    {
     "name": "stdout",
     "output_type": "stream",
     "text": [
      "Exception ignored in: <function Person.__del__ at 0x00000225C1D0BF70>\n",
      "Traceback (most recent call last):\n",
      "  File \"<ipython-input-24-ea3faae5dcc3>\", line 9, in __del__\n",
      "ValueError: Something went bump...\n",
      "\n"
     ]
    }
   ],
   "source": [
    "with open('err.txt', 'r') as file:\n",
    "    print(file.read())"
   ]
  },
  {
   "cell_type": "code",
   "execution_count": null,
   "id": "spanish-union",
   "metadata": {},
   "outputs": [],
   "source": []
  }
 ],
 "metadata": {
  "kernelspec": {
   "display_name": "Python 3",
   "language": "python",
   "name": "python3"
  },
  "language_info": {
   "codemirror_mode": {
    "name": "ipython",
    "version": 3
   },
   "file_extension": ".py",
   "mimetype": "text/x-python",
   "name": "python",
   "nbconvert_exporter": "python",
   "pygments_lexer": "ipython3",
   "version": "3.9.1"
  }
 },
 "nbformat": 4,
 "nbformat_minor": 5
}
