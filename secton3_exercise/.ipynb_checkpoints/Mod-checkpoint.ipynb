{
 "cells": [
  {
   "cell_type": "code",
   "execution_count": 1,
   "id": "daily-terrain",
   "metadata": {},
   "outputs": [
    {
     "name": "stdout",
     "output_type": "stream",
     "text": [
      "Help on class int in module builtins:\n",
      "\n",
      "class int(object)\n",
      " |  int([x]) -> integer\n",
      " |  int(x, base=10) -> integer\n",
      " |  \n",
      " |  Convert a number or string to an integer, or return 0 if no arguments\n",
      " |  are given.  If x is a number, return x.__int__().  For floating point\n",
      " |  numbers, this truncates towards zero.\n",
      " |  \n",
      " |  If x is not a number or if base is given, then x must be a string,\n",
      " |  bytes, or bytearray instance representing an integer literal in the\n",
      " |  given base.  The literal can be preceded by '+' or '-' and be surrounded\n",
      " |  by whitespace.  The base defaults to 10.  Valid bases are 0 and 2-36.\n",
      " |  Base 0 means to interpret the base from the string as an integer literal.\n",
      " |  >>> int('0b100', base=0)\n",
      " |  4\n",
      " |  \n",
      " |  Built-in subclasses:\n",
      " |      bool\n",
      " |  \n",
      " |  Methods defined here:\n",
      " |  \n",
      " |  __abs__(self, /)\n",
      " |      abs(self)\n",
      " |  \n",
      " |  __add__(self, value, /)\n",
      " |      Return self+value.\n",
      " |  \n",
      " |  __and__(self, value, /)\n",
      " |      Return self&value.\n",
      " |  \n",
      " |  __bool__(self, /)\n",
      " |      self != 0\n",
      " |  \n",
      " |  __ceil__(...)\n",
      " |      Ceiling of an Integral returns itself.\n",
      " |  \n",
      " |  __divmod__(self, value, /)\n",
      " |      Return divmod(self, value).\n",
      " |  \n",
      " |  __eq__(self, value, /)\n",
      " |      Return self==value.\n",
      " |  \n",
      " |  __float__(self, /)\n",
      " |      float(self)\n",
      " |  \n",
      " |  __floor__(...)\n",
      " |      Flooring an Integral returns itself.\n",
      " |  \n",
      " |  __floordiv__(self, value, /)\n",
      " |      Return self//value.\n",
      " |  \n",
      " |  __format__(self, format_spec, /)\n",
      " |      Default object formatter.\n",
      " |  \n",
      " |  __ge__(self, value, /)\n",
      " |      Return self>=value.\n",
      " |  \n",
      " |  __getattribute__(self, name, /)\n",
      " |      Return getattr(self, name).\n",
      " |  \n",
      " |  __getnewargs__(self, /)\n",
      " |  \n",
      " |  __gt__(self, value, /)\n",
      " |      Return self>value.\n",
      " |  \n",
      " |  __hash__(self, /)\n",
      " |      Return hash(self).\n",
      " |  \n",
      " |  __index__(self, /)\n",
      " |      Return self converted to an integer, if self is suitable for use as an index into a list.\n",
      " |  \n",
      " |  __int__(self, /)\n",
      " |      int(self)\n",
      " |  \n",
      " |  __invert__(self, /)\n",
      " |      ~self\n",
      " |  \n",
      " |  __le__(self, value, /)\n",
      " |      Return self<=value.\n",
      " |  \n",
      " |  __lshift__(self, value, /)\n",
      " |      Return self<<value.\n",
      " |  \n",
      " |  __lt__(self, value, /)\n",
      " |      Return self<value.\n",
      " |  \n",
      " |  __mod__(self, value, /)\n",
      " |      Return self%value.\n",
      " |  \n",
      " |  __mul__(self, value, /)\n",
      " |      Return self*value.\n",
      " |  \n",
      " |  __ne__(self, value, /)\n",
      " |      Return self!=value.\n",
      " |  \n",
      " |  __neg__(self, /)\n",
      " |      -self\n",
      " |  \n",
      " |  __or__(self, value, /)\n",
      " |      Return self|value.\n",
      " |  \n",
      " |  __pos__(self, /)\n",
      " |      +self\n",
      " |  \n",
      " |  __pow__(self, value, mod=None, /)\n",
      " |      Return pow(self, value, mod).\n",
      " |  \n",
      " |  __radd__(self, value, /)\n",
      " |      Return value+self.\n",
      " |  \n",
      " |  __rand__(self, value, /)\n",
      " |      Return value&self.\n",
      " |  \n",
      " |  __rdivmod__(self, value, /)\n",
      " |      Return divmod(value, self).\n",
      " |  \n",
      " |  __repr__(self, /)\n",
      " |      Return repr(self).\n",
      " |  \n",
      " |  __rfloordiv__(self, value, /)\n",
      " |      Return value//self.\n",
      " |  \n",
      " |  __rlshift__(self, value, /)\n",
      " |      Return value<<self.\n",
      " |  \n",
      " |  __rmod__(self, value, /)\n",
      " |      Return value%self.\n",
      " |  \n",
      " |  __rmul__(self, value, /)\n",
      " |      Return value*self.\n",
      " |  \n",
      " |  __ror__(self, value, /)\n",
      " |      Return value|self.\n",
      " |  \n",
      " |  __round__(...)\n",
      " |      Rounding an Integral returns itself.\n",
      " |      Rounding with an ndigits argument also returns an integer.\n",
      " |  \n",
      " |  __rpow__(self, value, mod=None, /)\n",
      " |      Return pow(value, self, mod).\n",
      " |  \n",
      " |  __rrshift__(self, value, /)\n",
      " |      Return value>>self.\n",
      " |  \n",
      " |  __rshift__(self, value, /)\n",
      " |      Return self>>value.\n",
      " |  \n",
      " |  __rsub__(self, value, /)\n",
      " |      Return value-self.\n",
      " |  \n",
      " |  __rtruediv__(self, value, /)\n",
      " |      Return value/self.\n",
      " |  \n",
      " |  __rxor__(self, value, /)\n",
      " |      Return value^self.\n",
      " |  \n",
      " |  __sizeof__(self, /)\n",
      " |      Returns size in memory, in bytes.\n",
      " |  \n",
      " |  __sub__(self, value, /)\n",
      " |      Return self-value.\n",
      " |  \n",
      " |  __truediv__(self, value, /)\n",
      " |      Return self/value.\n",
      " |  \n",
      " |  __trunc__(...)\n",
      " |      Truncating an Integral returns itself.\n",
      " |  \n",
      " |  __xor__(self, value, /)\n",
      " |      Return self^value.\n",
      " |  \n",
      " |  as_integer_ratio(self, /)\n",
      " |      Return integer ratio.\n",
      " |      \n",
      " |      Return a pair of integers, whose ratio is exactly equal to the original int\n",
      " |      and with a positive denominator.\n",
      " |      \n",
      " |      >>> (10).as_integer_ratio()\n",
      " |      (10, 1)\n",
      " |      >>> (-10).as_integer_ratio()\n",
      " |      (-10, 1)\n",
      " |      >>> (0).as_integer_ratio()\n",
      " |      (0, 1)\n",
      " |  \n",
      " |  bit_length(self, /)\n",
      " |      Number of bits necessary to represent self in binary.\n",
      " |      \n",
      " |      >>> bin(37)\n",
      " |      '0b100101'\n",
      " |      >>> (37).bit_length()\n",
      " |      6\n",
      " |  \n",
      " |  conjugate(...)\n",
      " |      Returns self, the complex conjugate of any int.\n",
      " |  \n",
      " |  to_bytes(self, /, length, byteorder, *, signed=False)\n",
      " |      Return an array of bytes representing an integer.\n",
      " |      \n",
      " |      length\n",
      " |        Length of bytes object to use.  An OverflowError is raised if the\n",
      " |        integer is not representable with the given number of bytes.\n",
      " |      byteorder\n",
      " |        The byte order used to represent the integer.  If byteorder is 'big',\n",
      " |        the most significant byte is at the beginning of the byte array.  If\n",
      " |        byteorder is 'little', the most significant byte is at the end of the\n",
      " |        byte array.  To request the native byte order of the host system, use\n",
      " |        `sys.byteorder' as the byte order value.\n",
      " |      signed\n",
      " |        Determines whether two's complement is used to represent the integer.\n",
      " |        If signed is False and a negative integer is given, an OverflowError\n",
      " |        is raised.\n",
      " |  \n",
      " |  ----------------------------------------------------------------------\n",
      " |  Class methods defined here:\n",
      " |  \n",
      " |  from_bytes(bytes, byteorder, *, signed=False) from builtins.type\n",
      " |      Return the integer represented by the given array of bytes.\n",
      " |      \n",
      " |      bytes\n",
      " |        Holds the array of bytes to convert.  The argument must either\n",
      " |        support the buffer protocol or be an iterable object producing bytes.\n",
      " |        Bytes and bytearray are examples of built-in objects that support the\n",
      " |        buffer protocol.\n",
      " |      byteorder\n",
      " |        The byte order used to represent the integer.  If byteorder is 'big',\n",
      " |        the most significant byte is at the beginning of the byte array.  If\n",
      " |        byteorder is 'little', the most significant byte is at the end of the\n",
      " |        byte array.  To request the native byte order of the host system, use\n",
      " |        `sys.byteorder' as the byte order value.\n",
      " |      signed\n",
      " |        Indicates whether two's complement is used to represent the integer.\n",
      " |  \n",
      " |  ----------------------------------------------------------------------\n",
      " |  Static methods defined here:\n",
      " |  \n",
      " |  __new__(*args, **kwargs) from builtins.type\n",
      " |      Create and return a new object.  See help(type) for accurate signature.\n",
      " |  \n",
      " |  ----------------------------------------------------------------------\n",
      " |  Data descriptors defined here:\n",
      " |  \n",
      " |  denominator\n",
      " |      the denominator of a rational number in lowest terms\n",
      " |  \n",
      " |  imag\n",
      " |      the imaginary part of a complex number\n",
      " |  \n",
      " |  numerator\n",
      " |      the numerator of a rational number in lowest terms\n",
      " |  \n",
      " |  real\n",
      " |      the real part of a complex number\n",
      "\n"
     ]
    }
   ],
   "source": [
    "help(int)"
   ]
  },
  {
   "cell_type": "code",
   "execution_count": 2,
   "id": "informative-school",
   "metadata": {},
   "outputs": [],
   "source": [
    "class Person:\n",
    "    def __init__(self, id_):\n",
    "        self._id = id_\n",
    "        \n",
    "    def __int__(self):\n",
    "        return self._id"
   ]
  },
  {
   "cell_type": "code",
   "execution_count": 3,
   "id": "average-dryer",
   "metadata": {},
   "outputs": [],
   "source": [
    "p = Person(1000.5)"
   ]
  },
  {
   "cell_type": "code",
   "execution_count": 4,
   "id": "naked-devon",
   "metadata": {},
   "outputs": [
    {
     "ename": "TypeError",
     "evalue": "__int__ returned non-int (type float)",
     "output_type": "error",
     "traceback": [
      "\u001b[1;31m---------------------------------------------------------------------------\u001b[0m",
      "\u001b[1;31mTypeError\u001b[0m                                 Traceback (most recent call last)",
      "\u001b[1;32m<ipython-input-4-8c5eddeec646>\u001b[0m in \u001b[0;36m<module>\u001b[1;34m\u001b[0m\n\u001b[1;32m----> 1\u001b[1;33m \u001b[0mint\u001b[0m\u001b[1;33m(\u001b[0m\u001b[0mp\u001b[0m\u001b[1;33m)\u001b[0m\u001b[1;33m\u001b[0m\u001b[1;33m\u001b[0m\u001b[0m\n\u001b[0m",
      "\u001b[1;31mTypeError\u001b[0m: __int__ returned non-int (type float)"
     ]
    }
   ],
   "source": [
    "int(p)"
   ]
  },
  {
   "cell_type": "code",
   "execution_count": 5,
   "id": "accepting-muscle",
   "metadata": {},
   "outputs": [],
   "source": [
    "p = Person(-10)"
   ]
  },
  {
   "cell_type": "code",
   "execution_count": 6,
   "id": "metric-walker",
   "metadata": {},
   "outputs": [
    {
     "data": {
      "text/plain": [
       "-10"
      ]
     },
     "execution_count": 6,
     "metadata": {},
     "output_type": "execute_result"
    }
   ],
   "source": [
    "int(p)"
   ]
  },
  {
   "cell_type": "code",
   "execution_count": 12,
   "id": "essential-geology",
   "metadata": {},
   "outputs": [],
   "source": [
    "class ModMismatch(ValueError):\n",
    "    pass\n",
    "\n",
    "\n",
    "class Mod:\n",
    "    def __init__(self, value, modulus):\n",
    "        if not isinstance(value, int):\n",
    "            raise ValueError('Value shoud be an integer')\n",
    "        if not (isinstance(modulus, int) and modulus > 0):\n",
    "            raise ValueError('Modulus must be a positive integer')\n",
    "        self._value = value\n",
    "        self._modulus = modulus\n",
    "        \n",
    "    @property\n",
    "    def value(self):\n",
    "        return self._value % self._modulus\n",
    "    \n",
    "    @property\n",
    "    def modulus(self):\n",
    "        return self._modulus\n",
    "    \n",
    "    def __eq__(self, other):\n",
    "        if isinstance(other, Mod):\n",
    "            if not(self.modulus == other.modulus):\n",
    "                raise ModMismatch('Modulus of the objects must be equal for comparision')\n",
    "            return self.value == other.value\n",
    "        elif isinstance(other, int):\n",
    "            return self.value == other % self.modulus\n",
    "        else:\n",
    "            return NotImplemented\n",
    "        \n",
    "    def __repr__(self):\n",
    "        return f'Mod(value={self.value}, modulus={self.modulus})'\n",
    "        \n",
    "        "
   ]
  },
  {
   "cell_type": "code",
   "execution_count": 23,
   "id": "focal-converter",
   "metadata": {},
   "outputs": [],
   "source": [
    "m1 = Mod(8, 3)"
   ]
  },
  {
   "cell_type": "code",
   "execution_count": 14,
   "id": "pleased-representative",
   "metadata": {},
   "outputs": [
    {
     "data": {
      "text/plain": [
       "Mod(value=2, modulus=3)"
      ]
     },
     "execution_count": 14,
     "metadata": {},
     "output_type": "execute_result"
    }
   ],
   "source": [
    "m1"
   ]
  },
  {
   "cell_type": "code",
   "execution_count": 15,
   "id": "clinical-commander",
   "metadata": {},
   "outputs": [
    {
     "ename": "ValueError",
     "evalue": "Value shoud be an integer",
     "output_type": "error",
     "traceback": [
      "\u001b[1;31m---------------------------------------------------------------------------\u001b[0m",
      "\u001b[1;31mValueError\u001b[0m                                Traceback (most recent call last)",
      "\u001b[1;32m<ipython-input-15-1bca49194700>\u001b[0m in \u001b[0;36m<module>\u001b[1;34m\u001b[0m\n\u001b[1;32m----> 1\u001b[1;33m \u001b[0mMod\u001b[0m\u001b[1;33m(\u001b[0m\u001b[1;36m10.5\u001b[0m\u001b[1;33m,\u001b[0m \u001b[1;36m1\u001b[0m\u001b[1;33m)\u001b[0m\u001b[1;33m\u001b[0m\u001b[1;33m\u001b[0m\u001b[0m\n\u001b[0m",
      "\u001b[1;32m<ipython-input-12-88df47f8b89b>\u001b[0m in \u001b[0;36m__init__\u001b[1;34m(self, value, modulus)\u001b[0m\n\u001b[0;32m      6\u001b[0m     \u001b[1;32mdef\u001b[0m \u001b[0m__init__\u001b[0m\u001b[1;33m(\u001b[0m\u001b[0mself\u001b[0m\u001b[1;33m,\u001b[0m \u001b[0mvalue\u001b[0m\u001b[1;33m,\u001b[0m \u001b[0mmodulus\u001b[0m\u001b[1;33m)\u001b[0m\u001b[1;33m:\u001b[0m\u001b[1;33m\u001b[0m\u001b[1;33m\u001b[0m\u001b[0m\n\u001b[0;32m      7\u001b[0m         \u001b[1;32mif\u001b[0m \u001b[1;32mnot\u001b[0m \u001b[0misinstance\u001b[0m\u001b[1;33m(\u001b[0m\u001b[0mvalue\u001b[0m\u001b[1;33m,\u001b[0m \u001b[0mint\u001b[0m\u001b[1;33m)\u001b[0m\u001b[1;33m:\u001b[0m\u001b[1;33m\u001b[0m\u001b[1;33m\u001b[0m\u001b[0m\n\u001b[1;32m----> 8\u001b[1;33m             \u001b[1;32mraise\u001b[0m \u001b[0mValueError\u001b[0m\u001b[1;33m(\u001b[0m\u001b[1;34m'Value shoud be an integer'\u001b[0m\u001b[1;33m)\u001b[0m\u001b[1;33m\u001b[0m\u001b[1;33m\u001b[0m\u001b[0m\n\u001b[0m\u001b[0;32m      9\u001b[0m         \u001b[1;32mif\u001b[0m \u001b[1;32mnot\u001b[0m \u001b[1;33m(\u001b[0m\u001b[0misinstance\u001b[0m\u001b[1;33m(\u001b[0m\u001b[0mmodulus\u001b[0m\u001b[1;33m,\u001b[0m \u001b[0mint\u001b[0m\u001b[1;33m)\u001b[0m \u001b[1;32mand\u001b[0m \u001b[0mmodulus\u001b[0m \u001b[1;33m>\u001b[0m \u001b[1;36m0\u001b[0m\u001b[1;33m)\u001b[0m\u001b[1;33m:\u001b[0m\u001b[1;33m\u001b[0m\u001b[1;33m\u001b[0m\u001b[0m\n\u001b[0;32m     10\u001b[0m             \u001b[1;32mraise\u001b[0m \u001b[0mValueError\u001b[0m\u001b[1;33m(\u001b[0m\u001b[1;34m'Modulus must be a positive integer'\u001b[0m\u001b[1;33m)\u001b[0m\u001b[1;33m\u001b[0m\u001b[1;33m\u001b[0m\u001b[0m\n",
      "\u001b[1;31mValueError\u001b[0m: Value shoud be an integer"
     ]
    }
   ],
   "source": [
    "Mod(10.5, 1)"
   ]
  },
  {
   "cell_type": "code",
   "execution_count": 16,
   "id": "digital-mother",
   "metadata": {},
   "outputs": [
    {
     "ename": "ValueError",
     "evalue": "Modulus must be a positive integer",
     "output_type": "error",
     "traceback": [
      "\u001b[1;31m---------------------------------------------------------------------------\u001b[0m",
      "\u001b[1;31mValueError\u001b[0m                                Traceback (most recent call last)",
      "\u001b[1;32m<ipython-input-16-68b3a2165c8f>\u001b[0m in \u001b[0;36m<module>\u001b[1;34m\u001b[0m\n\u001b[1;32m----> 1\u001b[1;33m \u001b[0mMod\u001b[0m\u001b[1;33m(\u001b[0m\u001b[1;36m10\u001b[0m\u001b[1;33m,\u001b[0m \u001b[1;36m1.5\u001b[0m\u001b[1;33m)\u001b[0m\u001b[1;33m\u001b[0m\u001b[1;33m\u001b[0m\u001b[0m\n\u001b[0m",
      "\u001b[1;32m<ipython-input-12-88df47f8b89b>\u001b[0m in \u001b[0;36m__init__\u001b[1;34m(self, value, modulus)\u001b[0m\n\u001b[0;32m      8\u001b[0m             \u001b[1;32mraise\u001b[0m \u001b[0mValueError\u001b[0m\u001b[1;33m(\u001b[0m\u001b[1;34m'Value shoud be an integer'\u001b[0m\u001b[1;33m)\u001b[0m\u001b[1;33m\u001b[0m\u001b[1;33m\u001b[0m\u001b[0m\n\u001b[0;32m      9\u001b[0m         \u001b[1;32mif\u001b[0m \u001b[1;32mnot\u001b[0m \u001b[1;33m(\u001b[0m\u001b[0misinstance\u001b[0m\u001b[1;33m(\u001b[0m\u001b[0mmodulus\u001b[0m\u001b[1;33m,\u001b[0m \u001b[0mint\u001b[0m\u001b[1;33m)\u001b[0m \u001b[1;32mand\u001b[0m \u001b[0mmodulus\u001b[0m \u001b[1;33m>\u001b[0m \u001b[1;36m0\u001b[0m\u001b[1;33m)\u001b[0m\u001b[1;33m:\u001b[0m\u001b[1;33m\u001b[0m\u001b[1;33m\u001b[0m\u001b[0m\n\u001b[1;32m---> 10\u001b[1;33m             \u001b[1;32mraise\u001b[0m \u001b[0mValueError\u001b[0m\u001b[1;33m(\u001b[0m\u001b[1;34m'Modulus must be a positive integer'\u001b[0m\u001b[1;33m)\u001b[0m\u001b[1;33m\u001b[0m\u001b[1;33m\u001b[0m\u001b[0m\n\u001b[0m\u001b[0;32m     11\u001b[0m         \u001b[0mself\u001b[0m\u001b[1;33m.\u001b[0m\u001b[0m_value\u001b[0m \u001b[1;33m=\u001b[0m \u001b[0mvalue\u001b[0m\u001b[1;33m\u001b[0m\u001b[1;33m\u001b[0m\u001b[0m\n\u001b[0;32m     12\u001b[0m         \u001b[0mself\u001b[0m\u001b[1;33m.\u001b[0m\u001b[0m_modulus\u001b[0m \u001b[1;33m=\u001b[0m \u001b[0mmodulus\u001b[0m\u001b[1;33m\u001b[0m\u001b[1;33m\u001b[0m\u001b[0m\n",
      "\u001b[1;31mValueError\u001b[0m: Modulus must be a positive integer"
     ]
    }
   ],
   "source": [
    "Mod(10, 1.5)"
   ]
  },
  {
   "cell_type": "code",
   "execution_count": 17,
   "id": "needed-gibraltar",
   "metadata": {},
   "outputs": [
    {
     "ename": "ValueError",
     "evalue": "Modulus must be a positive integer",
     "output_type": "error",
     "traceback": [
      "\u001b[1;31m---------------------------------------------------------------------------\u001b[0m",
      "\u001b[1;31mValueError\u001b[0m                                Traceback (most recent call last)",
      "\u001b[1;32m<ipython-input-17-becbc91fac59>\u001b[0m in \u001b[0;36m<module>\u001b[1;34m\u001b[0m\n\u001b[1;32m----> 1\u001b[1;33m \u001b[0mMod\u001b[0m\u001b[1;33m(\u001b[0m\u001b[1;36m10\u001b[0m\u001b[1;33m,\u001b[0m \u001b[1;33m-\u001b[0m\u001b[1;36m1\u001b[0m\u001b[1;33m)\u001b[0m\u001b[1;33m\u001b[0m\u001b[1;33m\u001b[0m\u001b[0m\n\u001b[0m",
      "\u001b[1;32m<ipython-input-12-88df47f8b89b>\u001b[0m in \u001b[0;36m__init__\u001b[1;34m(self, value, modulus)\u001b[0m\n\u001b[0;32m      8\u001b[0m             \u001b[1;32mraise\u001b[0m \u001b[0mValueError\u001b[0m\u001b[1;33m(\u001b[0m\u001b[1;34m'Value shoud be an integer'\u001b[0m\u001b[1;33m)\u001b[0m\u001b[1;33m\u001b[0m\u001b[1;33m\u001b[0m\u001b[0m\n\u001b[0;32m      9\u001b[0m         \u001b[1;32mif\u001b[0m \u001b[1;32mnot\u001b[0m \u001b[1;33m(\u001b[0m\u001b[0misinstance\u001b[0m\u001b[1;33m(\u001b[0m\u001b[0mmodulus\u001b[0m\u001b[1;33m,\u001b[0m \u001b[0mint\u001b[0m\u001b[1;33m)\u001b[0m \u001b[1;32mand\u001b[0m \u001b[0mmodulus\u001b[0m \u001b[1;33m>\u001b[0m \u001b[1;36m0\u001b[0m\u001b[1;33m)\u001b[0m\u001b[1;33m:\u001b[0m\u001b[1;33m\u001b[0m\u001b[1;33m\u001b[0m\u001b[0m\n\u001b[1;32m---> 10\u001b[1;33m             \u001b[1;32mraise\u001b[0m \u001b[0mValueError\u001b[0m\u001b[1;33m(\u001b[0m\u001b[1;34m'Modulus must be a positive integer'\u001b[0m\u001b[1;33m)\u001b[0m\u001b[1;33m\u001b[0m\u001b[1;33m\u001b[0m\u001b[0m\n\u001b[0m\u001b[0;32m     11\u001b[0m         \u001b[0mself\u001b[0m\u001b[1;33m.\u001b[0m\u001b[0m_value\u001b[0m \u001b[1;33m=\u001b[0m \u001b[0mvalue\u001b[0m\u001b[1;33m\u001b[0m\u001b[1;33m\u001b[0m\u001b[0m\n\u001b[0;32m     12\u001b[0m         \u001b[0mself\u001b[0m\u001b[1;33m.\u001b[0m\u001b[0m_modulus\u001b[0m \u001b[1;33m=\u001b[0m \u001b[0mmodulus\u001b[0m\u001b[1;33m\u001b[0m\u001b[1;33m\u001b[0m\u001b[0m\n",
      "\u001b[1;31mValueError\u001b[0m: Modulus must be a positive integer"
     ]
    }
   ],
   "source": [
    "Mod(10, -1)"
   ]
  },
  {
   "cell_type": "code",
   "execution_count": 18,
   "id": "atlantic-operator",
   "metadata": {},
   "outputs": [
    {
     "data": {
      "text/plain": [
       "True"
      ]
     },
     "execution_count": 18,
     "metadata": {},
     "output_type": "execute_result"
    }
   ],
   "source": [
    "m1 == 2"
   ]
  },
  {
   "cell_type": "code",
   "execution_count": 19,
   "id": "suitable-cotton",
   "metadata": {},
   "outputs": [
    {
     "data": {
      "text/plain": [
       "True"
      ]
     },
     "execution_count": 19,
     "metadata": {},
     "output_type": "execute_result"
    }
   ],
   "source": [
    "m1 == Mod(11, 3)"
   ]
  },
  {
   "cell_type": "code",
   "execution_count": 20,
   "id": "acoustic-glucose",
   "metadata": {},
   "outputs": [
    {
     "data": {
      "text/plain": [
       "False"
      ]
     },
     "execution_count": 20,
     "metadata": {},
     "output_type": "execute_result"
    }
   ],
   "source": [
    "m1 == Mod(10, 3)"
   ]
  },
  {
   "cell_type": "code",
   "execution_count": 21,
   "id": "independent-approach",
   "metadata": {},
   "outputs": [
    {
     "data": {
      "text/plain": [
       "False"
      ]
     },
     "execution_count": 21,
     "metadata": {},
     "output_type": "execute_result"
    }
   ],
   "source": [
    "m1 == 'Hello'"
   ]
  },
  {
   "cell_type": "code",
   "execution_count": 25,
   "id": "quick-component",
   "metadata": {},
   "outputs": [
    {
     "ename": "ModMismatch",
     "evalue": "Modulus of the objects must be equal for comparision",
     "output_type": "error",
     "traceback": [
      "\u001b[1;31m---------------------------------------------------------------------------\u001b[0m",
      "\u001b[1;31mModMismatch\u001b[0m                               Traceback (most recent call last)",
      "\u001b[1;32m<ipython-input-25-f32cc642caf8>\u001b[0m in \u001b[0;36m<module>\u001b[1;34m\u001b[0m\n\u001b[1;32m----> 1\u001b[1;33m \u001b[0mm1\u001b[0m \u001b[1;33m==\u001b[0m \u001b[0mMod\u001b[0m\u001b[1;33m(\u001b[0m\u001b[1;36m10\u001b[0m\u001b[1;33m,\u001b[0m \u001b[1;36m2\u001b[0m\u001b[1;33m)\u001b[0m\u001b[1;33m\u001b[0m\u001b[1;33m\u001b[0m\u001b[0m\n\u001b[0m",
      "\u001b[1;32m<ipython-input-12-88df47f8b89b>\u001b[0m in \u001b[0;36m__eq__\u001b[1;34m(self, other)\u001b[0m\n\u001b[0;32m     23\u001b[0m         \u001b[1;32mif\u001b[0m \u001b[0misinstance\u001b[0m\u001b[1;33m(\u001b[0m\u001b[0mother\u001b[0m\u001b[1;33m,\u001b[0m \u001b[0mMod\u001b[0m\u001b[1;33m)\u001b[0m\u001b[1;33m:\u001b[0m\u001b[1;33m\u001b[0m\u001b[1;33m\u001b[0m\u001b[0m\n\u001b[0;32m     24\u001b[0m             \u001b[1;32mif\u001b[0m \u001b[1;32mnot\u001b[0m\u001b[1;33m(\u001b[0m\u001b[0mself\u001b[0m\u001b[1;33m.\u001b[0m\u001b[0mmodulus\u001b[0m \u001b[1;33m==\u001b[0m \u001b[0mother\u001b[0m\u001b[1;33m.\u001b[0m\u001b[0mmodulus\u001b[0m\u001b[1;33m)\u001b[0m\u001b[1;33m:\u001b[0m\u001b[1;33m\u001b[0m\u001b[1;33m\u001b[0m\u001b[0m\n\u001b[1;32m---> 25\u001b[1;33m                 \u001b[1;32mraise\u001b[0m \u001b[0mModMismatch\u001b[0m\u001b[1;33m(\u001b[0m\u001b[1;34m'Modulus of the objects must be equal for comparision'\u001b[0m\u001b[1;33m)\u001b[0m\u001b[1;33m\u001b[0m\u001b[1;33m\u001b[0m\u001b[0m\n\u001b[0m\u001b[0;32m     26\u001b[0m             \u001b[1;32mreturn\u001b[0m \u001b[0mself\u001b[0m\u001b[1;33m.\u001b[0m\u001b[0mvalue\u001b[0m \u001b[1;33m==\u001b[0m \u001b[0mother\u001b[0m\u001b[1;33m.\u001b[0m\u001b[0mvalue\u001b[0m\u001b[1;33m\u001b[0m\u001b[1;33m\u001b[0m\u001b[0m\n\u001b[0;32m     27\u001b[0m         \u001b[1;32melif\u001b[0m \u001b[0misinstance\u001b[0m\u001b[1;33m(\u001b[0m\u001b[0mother\u001b[0m\u001b[1;33m,\u001b[0m \u001b[0mint\u001b[0m\u001b[1;33m)\u001b[0m\u001b[1;33m:\u001b[0m\u001b[1;33m\u001b[0m\u001b[1;33m\u001b[0m\u001b[0m\n",
      "\u001b[1;31mModMismatch\u001b[0m: Modulus of the objects must be equal for comparision"
     ]
    }
   ],
   "source": [
    "m1 == Mod(10, 2)"
   ]
  },
  {
   "cell_type": "code",
   "execution_count": 26,
   "id": "undefined-worthy",
   "metadata": {},
   "outputs": [
    {
     "data": {
      "text/plain": [
       "True"
      ]
     },
     "execution_count": 26,
     "metadata": {},
     "output_type": "execute_result"
    }
   ],
   "source": [
    "m1 == 11"
   ]
  },
  {
   "cell_type": "code",
   "execution_count": 27,
   "id": "personalized-rapid",
   "metadata": {},
   "outputs": [],
   "source": [
    "class ModMismatch(ValueError):\n",
    "    pass\n",
    "\n",
    "\n",
    "class Mod:\n",
    "    def __init__(self, value, modulus):\n",
    "        if not isinstance(value, int):\n",
    "            raise ValueError('Value shoud be an integer')\n",
    "        if not (isinstance(modulus, int) and modulus > 0):\n",
    "            raise ValueError('Modulus must be a positive integer')\n",
    "        self._value = value\n",
    "        self._modulus = modulus\n",
    "        \n",
    "    @property\n",
    "    def value(self):\n",
    "        return self._value % self._modulus\n",
    "    \n",
    "    @property\n",
    "    def modulus(self):\n",
    "        return self._modulus\n",
    "    \n",
    "    def __eq__(self, other):\n",
    "        if isinstance(other, Mod):\n",
    "            if not(self.modulus == other.modulus):\n",
    "                raise ModMismatch('Modulus of the objects must be equal for comparision')\n",
    "            return self.value == other.value\n",
    "        elif isinstance(other, int):\n",
    "            return self.value == other % self.modulus\n",
    "        else:\n",
    "            return NotImplemented\n",
    "    \n",
    "    def __hash__(self):\n",
    "        return hash((self.value, self.modulus))\n",
    "    \n",
    "    def __repr__(self):\n",
    "        return f'Mod(value={self.value}, modulus={self.modulus})'\n",
    "        "
   ]
  },
  {
   "cell_type": "code",
   "execution_count": 28,
   "id": "descending-folder",
   "metadata": {},
   "outputs": [],
   "source": [
    "d = {\n",
    "    Mod(1, 3),\n",
    "    Mod(8, 11),\n",
    "    Mod(2, 3),\n",
    "    Mod(8, 3)\n",
    "}"
   ]
  },
  {
   "cell_type": "code",
   "execution_count": 29,
   "id": "armed-fifth",
   "metadata": {},
   "outputs": [
    {
     "data": {
      "text/plain": [
       "{Mod(value=1, modulus=3), Mod(value=2, modulus=3), Mod(value=8, modulus=11)}"
      ]
     },
     "execution_count": 29,
     "metadata": {},
     "output_type": "execute_result"
    }
   ],
   "source": [
    "d"
   ]
  },
  {
   "cell_type": "code",
   "execution_count": 35,
   "id": "aggressive-norman",
   "metadata": {},
   "outputs": [],
   "source": [
    "d = {\n",
    "    Mod(1, 3) : 1,\n",
    "    Mod(8, 11): 2,\n",
    "    Mod(2, 3): 3,\n",
    "    Mod(8, 3): 4,\n",
    "}"
   ]
  },
  {
   "cell_type": "code",
   "execution_count": 36,
   "id": "handed-german",
   "metadata": {},
   "outputs": [
    {
     "data": {
      "text/plain": [
       "{Mod(value=1, modulus=3): 1,\n",
       " Mod(value=8, modulus=11): 2,\n",
       " Mod(value=2, modulus=3): 4}"
      ]
     },
     "execution_count": 36,
     "metadata": {},
     "output_type": "execute_result"
    }
   ],
   "source": [
    "d"
   ]
  },
  {
   "cell_type": "code",
   "execution_count": 37,
   "id": "weekly-leather",
   "metadata": {},
   "outputs": [
    {
     "data": {
      "text/plain": [
       "4"
      ]
     },
     "execution_count": 37,
     "metadata": {},
     "output_type": "execute_result"
    }
   ],
   "source": [
    "d[Mod(11, 3)]"
   ]
  },
  {
   "cell_type": "code",
   "execution_count": 39,
   "id": "italic-working",
   "metadata": {},
   "outputs": [],
   "source": [
    "class ModMismatch(ValueError):\n",
    "    pass\n",
    "\n",
    "\n",
    "class Mod:\n",
    "    def __init__(self, value, modulus):\n",
    "        if not isinstance(value, int):\n",
    "            raise ValueError('Value shoud be an integer')\n",
    "        if not (isinstance(modulus, int) and modulus > 0):\n",
    "            raise ValueError('Modulus must be a positive integer')\n",
    "        self._value = value\n",
    "        self._modulus = modulus\n",
    "        \n",
    "    @property\n",
    "    def value(self):\n",
    "        return self._value % self._modulus\n",
    "    \n",
    "    @property\n",
    "    def modulus(self):\n",
    "        return self._modulus\n",
    "    \n",
    "    def __int__(self):\n",
    "        return self.value\n",
    "    \n",
    "    def __eq__(self, other):\n",
    "        if isinstance(other, Mod):\n",
    "            if not(self.modulus == other.modulus):\n",
    "                raise ModMismatch('Modulus of the objects must be equal for comparision')\n",
    "            return self.value == other.value\n",
    "        elif isinstance(other, int):\n",
    "            return self.value == other % self.modulus\n",
    "        else:\n",
    "            return NotImplemented\n",
    "    \n",
    "    def __hash__(self):\n",
    "        return hash((self.value, self.modulus))\n",
    "    \n",
    "    def __repr__(self):\n",
    "        return f'Mod(value={self.value}, modulus={self.modulus})'\n",
    "        "
   ]
  },
  {
   "cell_type": "code",
   "execution_count": 40,
   "id": "single-bulgarian",
   "metadata": {},
   "outputs": [],
   "source": [
    "m1 = Mod(8, 3)\n",
    "m2 = Mod(13, 11)"
   ]
  },
  {
   "cell_type": "code",
   "execution_count": 41,
   "id": "liked-folder",
   "metadata": {},
   "outputs": [
    {
     "ename": "ModMismatch",
     "evalue": "Modulus of the objects must be equal for comparision",
     "output_type": "error",
     "traceback": [
      "\u001b[1;31m---------------------------------------------------------------------------\u001b[0m",
      "\u001b[1;31mModMismatch\u001b[0m                               Traceback (most recent call last)",
      "\u001b[1;32m<ipython-input-41-35a5a0a5940c>\u001b[0m in \u001b[0;36m<module>\u001b[1;34m\u001b[0m\n\u001b[1;32m----> 1\u001b[1;33m \u001b[0mm1\u001b[0m \u001b[1;33m==\u001b[0m \u001b[0mm2\u001b[0m\u001b[1;33m\u001b[0m\u001b[1;33m\u001b[0m\u001b[0m\n\u001b[0m",
      "\u001b[1;32m<ipython-input-39-7d2056a75dc0>\u001b[0m in \u001b[0;36m__eq__\u001b[1;34m(self, other)\u001b[0m\n\u001b[0;32m     26\u001b[0m         \u001b[1;32mif\u001b[0m \u001b[0misinstance\u001b[0m\u001b[1;33m(\u001b[0m\u001b[0mother\u001b[0m\u001b[1;33m,\u001b[0m \u001b[0mMod\u001b[0m\u001b[1;33m)\u001b[0m\u001b[1;33m:\u001b[0m\u001b[1;33m\u001b[0m\u001b[1;33m\u001b[0m\u001b[0m\n\u001b[0;32m     27\u001b[0m             \u001b[1;32mif\u001b[0m \u001b[1;32mnot\u001b[0m\u001b[1;33m(\u001b[0m\u001b[0mself\u001b[0m\u001b[1;33m.\u001b[0m\u001b[0mmodulus\u001b[0m \u001b[1;33m==\u001b[0m \u001b[0mother\u001b[0m\u001b[1;33m.\u001b[0m\u001b[0mmodulus\u001b[0m\u001b[1;33m)\u001b[0m\u001b[1;33m:\u001b[0m\u001b[1;33m\u001b[0m\u001b[1;33m\u001b[0m\u001b[0m\n\u001b[1;32m---> 28\u001b[1;33m                 \u001b[1;32mraise\u001b[0m \u001b[0mModMismatch\u001b[0m\u001b[1;33m(\u001b[0m\u001b[1;34m'Modulus of the objects must be equal for comparision'\u001b[0m\u001b[1;33m)\u001b[0m\u001b[1;33m\u001b[0m\u001b[1;33m\u001b[0m\u001b[0m\n\u001b[0m\u001b[0;32m     29\u001b[0m             \u001b[1;32mreturn\u001b[0m \u001b[0mself\u001b[0m\u001b[1;33m.\u001b[0m\u001b[0mvalue\u001b[0m \u001b[1;33m==\u001b[0m \u001b[0mother\u001b[0m\u001b[1;33m.\u001b[0m\u001b[0mvalue\u001b[0m\u001b[1;33m\u001b[0m\u001b[1;33m\u001b[0m\u001b[0m\n\u001b[0;32m     30\u001b[0m         \u001b[1;32melif\u001b[0m \u001b[0misinstance\u001b[0m\u001b[1;33m(\u001b[0m\u001b[0mother\u001b[0m\u001b[1;33m,\u001b[0m \u001b[0mint\u001b[0m\u001b[1;33m)\u001b[0m\u001b[1;33m:\u001b[0m\u001b[1;33m\u001b[0m\u001b[1;33m\u001b[0m\u001b[0m\n",
      "\u001b[1;31mModMismatch\u001b[0m: Modulus of the objects must be equal for comparision"
     ]
    }
   ],
   "source": [
    "m1 == m2"
   ]
  },
  {
   "cell_type": "code",
   "execution_count": 43,
   "id": "occupied-exercise",
   "metadata": {},
   "outputs": [
    {
     "data": {
      "text/plain": [
       "(2, 2)"
      ]
     },
     "execution_count": 43,
     "metadata": {},
     "output_type": "execute_result"
    }
   ],
   "source": [
    "int(m1), int(m2)"
   ]
  },
  {
   "cell_type": "code",
   "execution_count": 44,
   "id": "smooth-lawrence",
   "metadata": {},
   "outputs": [
    {
     "data": {
      "text/plain": [
       "(Mod(value=2, modulus=3), Mod(value=2, modulus=11))"
      ]
     },
     "execution_count": 44,
     "metadata": {},
     "output_type": "execute_result"
    }
   ],
   "source": [
    "m1, m2"
   ]
  },
  {
   "cell_type": "code",
   "execution_count": 64,
   "id": "fatal-strain",
   "metadata": {},
   "outputs": [],
   "source": [
    "class ModMismatch(ValueError):\n",
    "    pass\n",
    "\n",
    "\n",
    "class Mod:\n",
    "    def __init__(self, value, modulus):\n",
    "        if not isinstance(value, int):\n",
    "            raise ValueError('Value shoud be an integer')\n",
    "        if not (isinstance(modulus, int) and modulus > 0):\n",
    "            raise ValueError('Modulus must be a positive integer')\n",
    "        self._value = value\n",
    "        self._modulus = modulus\n",
    "        \n",
    "    @property\n",
    "    def value(self):\n",
    "        return self._value % self._modulus\n",
    "    \n",
    "    @property\n",
    "    def modulus(self):\n",
    "        return self._modulus\n",
    "    \n",
    "    def validate(self, other):\n",
    "        if isinstance(other, Mod):\n",
    "            if not(self.modulus == other.modulus):\n",
    "                raise ModMismatch('Modulus of the objects must be equal for comparision')\n",
    "            return other\n",
    "        elif isinstance(other, int):\n",
    "            return Mod(other, self.modulus)\n",
    "        else:\n",
    "            return False\n",
    "    \n",
    "    def __int__(self):\n",
    "        return self.value\n",
    "    \n",
    "    def __eq__(self, other):\n",
    "        other = self.validate(other)\n",
    "        if other:\n",
    "            return self.value == other.value\n",
    "        else:\n",
    "            return NotImplemented\n",
    "        \n",
    "    def __add__(self, other):\n",
    "        other = self.validate(other)\n",
    "        if other:\n",
    "            return Mod(self.value + other.value, self.modulus)\n",
    "        else:\n",
    "            return NotImplemented\n",
    "    \n",
    "    def __hash__(self):\n",
    "        return hash((self.value, self.modulus))\n",
    "    \n",
    "    def __repr__(self):\n",
    "        return f'Mod(value={self.value}, modulus={self.modulus})'\n",
    "        "
   ]
  },
  {
   "cell_type": "code",
   "execution_count": 65,
   "id": "lightweight-stage",
   "metadata": {},
   "outputs": [],
   "source": [
    "m1 = Mod(8, 3)"
   ]
  },
  {
   "cell_type": "code",
   "execution_count": 66,
   "id": "lovely-novel",
   "metadata": {},
   "outputs": [
    {
     "data": {
      "text/plain": [
       "True"
      ]
     },
     "execution_count": 66,
     "metadata": {},
     "output_type": "execute_result"
    }
   ],
   "source": [
    "m1 == 2"
   ]
  },
  {
   "cell_type": "code",
   "execution_count": 67,
   "id": "peripheral-haven",
   "metadata": {},
   "outputs": [
    {
     "ename": "ModMismatch",
     "evalue": "Modulus of the objects must be equal for comparision",
     "output_type": "error",
     "traceback": [
      "\u001b[1;31m---------------------------------------------------------------------------\u001b[0m",
      "\u001b[1;31mModMismatch\u001b[0m                               Traceback (most recent call last)",
      "\u001b[1;32m<ipython-input-67-2c09c28f9dc5>\u001b[0m in \u001b[0;36m<module>\u001b[1;34m\u001b[0m\n\u001b[1;32m----> 1\u001b[1;33m \u001b[0mm1\u001b[0m \u001b[1;33m==\u001b[0m \u001b[0mMod\u001b[0m\u001b[1;33m(\u001b[0m\u001b[1;36m13\u001b[0m\u001b[1;33m,\u001b[0m \u001b[1;36m11\u001b[0m\u001b[1;33m)\u001b[0m\u001b[1;33m\u001b[0m\u001b[1;33m\u001b[0m\u001b[0m\n\u001b[0m",
      "\u001b[1;32m<ipython-input-64-e126fcfedcbd>\u001b[0m in \u001b[0;36m__eq__\u001b[1;34m(self, other)\u001b[0m\n\u001b[0;32m     34\u001b[0m \u001b[1;33m\u001b[0m\u001b[0m\n\u001b[0;32m     35\u001b[0m     \u001b[1;32mdef\u001b[0m \u001b[0m__eq__\u001b[0m\u001b[1;33m(\u001b[0m\u001b[0mself\u001b[0m\u001b[1;33m,\u001b[0m \u001b[0mother\u001b[0m\u001b[1;33m)\u001b[0m\u001b[1;33m:\u001b[0m\u001b[1;33m\u001b[0m\u001b[1;33m\u001b[0m\u001b[0m\n\u001b[1;32m---> 36\u001b[1;33m         \u001b[0mother\u001b[0m \u001b[1;33m=\u001b[0m \u001b[0mself\u001b[0m\u001b[1;33m.\u001b[0m\u001b[0mvalidate\u001b[0m\u001b[1;33m(\u001b[0m\u001b[0mother\u001b[0m\u001b[1;33m)\u001b[0m\u001b[1;33m\u001b[0m\u001b[1;33m\u001b[0m\u001b[0m\n\u001b[0m\u001b[0;32m     37\u001b[0m         \u001b[1;32mif\u001b[0m \u001b[0mother\u001b[0m\u001b[1;33m:\u001b[0m\u001b[1;33m\u001b[0m\u001b[1;33m\u001b[0m\u001b[0m\n\u001b[0;32m     38\u001b[0m             \u001b[1;32mreturn\u001b[0m \u001b[0mself\u001b[0m\u001b[1;33m.\u001b[0m\u001b[0mvalue\u001b[0m \u001b[1;33m==\u001b[0m \u001b[0mother\u001b[0m\u001b[1;33m.\u001b[0m\u001b[0mvalue\u001b[0m\u001b[1;33m\u001b[0m\u001b[1;33m\u001b[0m\u001b[0m\n",
      "\u001b[1;32m<ipython-input-64-e126fcfedcbd>\u001b[0m in \u001b[0;36mvalidate\u001b[1;34m(self, other)\u001b[0m\n\u001b[0;32m     23\u001b[0m         \u001b[1;32mif\u001b[0m \u001b[0misinstance\u001b[0m\u001b[1;33m(\u001b[0m\u001b[0mother\u001b[0m\u001b[1;33m,\u001b[0m \u001b[0mMod\u001b[0m\u001b[1;33m)\u001b[0m\u001b[1;33m:\u001b[0m\u001b[1;33m\u001b[0m\u001b[1;33m\u001b[0m\u001b[0m\n\u001b[0;32m     24\u001b[0m             \u001b[1;32mif\u001b[0m \u001b[1;32mnot\u001b[0m\u001b[1;33m(\u001b[0m\u001b[0mself\u001b[0m\u001b[1;33m.\u001b[0m\u001b[0mmodulus\u001b[0m \u001b[1;33m==\u001b[0m \u001b[0mother\u001b[0m\u001b[1;33m.\u001b[0m\u001b[0mmodulus\u001b[0m\u001b[1;33m)\u001b[0m\u001b[1;33m:\u001b[0m\u001b[1;33m\u001b[0m\u001b[1;33m\u001b[0m\u001b[0m\n\u001b[1;32m---> 25\u001b[1;33m                 \u001b[1;32mraise\u001b[0m \u001b[0mModMismatch\u001b[0m\u001b[1;33m(\u001b[0m\u001b[1;34m'Modulus of the objects must be equal for comparision'\u001b[0m\u001b[1;33m)\u001b[0m\u001b[1;33m\u001b[0m\u001b[1;33m\u001b[0m\u001b[0m\n\u001b[0m\u001b[0;32m     26\u001b[0m             \u001b[1;32mreturn\u001b[0m \u001b[0mother\u001b[0m\u001b[1;33m\u001b[0m\u001b[1;33m\u001b[0m\u001b[0m\n\u001b[0;32m     27\u001b[0m         \u001b[1;32melif\u001b[0m \u001b[0misinstance\u001b[0m\u001b[1;33m(\u001b[0m\u001b[0mother\u001b[0m\u001b[1;33m,\u001b[0m \u001b[0mint\u001b[0m\u001b[1;33m)\u001b[0m\u001b[1;33m:\u001b[0m\u001b[1;33m\u001b[0m\u001b[1;33m\u001b[0m\u001b[0m\n",
      "\u001b[1;31mModMismatch\u001b[0m: Modulus of the objects must be equal for comparision"
     ]
    }
   ],
   "source": [
    "m1 == Mod(13, 11)"
   ]
  },
  {
   "cell_type": "code",
   "execution_count": 68,
   "id": "bottom-cabin",
   "metadata": {},
   "outputs": [
    {
     "data": {
      "text/plain": [
       "True"
      ]
     },
     "execution_count": 68,
     "metadata": {},
     "output_type": "execute_result"
    }
   ],
   "source": [
    "m1 == Mod(11, 3)"
   ]
  },
  {
   "cell_type": "code",
   "execution_count": 69,
   "id": "ultimate-morris",
   "metadata": {},
   "outputs": [
    {
     "data": {
      "text/plain": [
       "False"
      ]
     },
     "execution_count": 69,
     "metadata": {},
     "output_type": "execute_result"
    }
   ],
   "source": [
    "m1 == 12"
   ]
  },
  {
   "cell_type": "code",
   "execution_count": 70,
   "id": "corrected-ferry",
   "metadata": {},
   "outputs": [],
   "source": [
    "m1 = Mod(10, 2)\n",
    "m2 = Mod(2, 3)\n",
    "m3 = Mod(8, 3)"
   ]
  },
  {
   "cell_type": "code",
   "execution_count": 71,
   "id": "oriented-silly",
   "metadata": {},
   "outputs": [
    {
     "data": {
      "text/plain": [
       "(Mod(value=0, modulus=2), Mod(value=2, modulus=3), Mod(value=2, modulus=3))"
      ]
     },
     "execution_count": 71,
     "metadata": {},
     "output_type": "execute_result"
    }
   ],
   "source": [
    "m1, m2, m3"
   ]
  },
  {
   "cell_type": "code",
   "execution_count": 72,
   "id": "advisory-point",
   "metadata": {},
   "outputs": [
    {
     "data": {
      "text/plain": [
       "Mod(value=0, modulus=2)"
      ]
     },
     "execution_count": 72,
     "metadata": {},
     "output_type": "execute_result"
    }
   ],
   "source": [
    "m1 + 2"
   ]
  },
  {
   "cell_type": "code",
   "execution_count": 73,
   "id": "signal-jacksonville",
   "metadata": {},
   "outputs": [
    {
     "data": {
      "text/plain": [
       "Mod(value=1, modulus=3)"
      ]
     },
     "execution_count": 73,
     "metadata": {},
     "output_type": "execute_result"
    }
   ],
   "source": [
    "m2 + m3"
   ]
  },
  {
   "cell_type": "code",
   "execution_count": 74,
   "id": "regulated-kernel",
   "metadata": {},
   "outputs": [
    {
     "data": {
      "text/plain": [
       "Mod(value=0, modulus=3)"
      ]
     },
     "execution_count": 74,
     "metadata": {},
     "output_type": "execute_result"
    }
   ],
   "source": [
    "m3 + 13"
   ]
  },
  {
   "cell_type": "code",
   "execution_count": 75,
   "id": "complex-sellers",
   "metadata": {},
   "outputs": [
    {
     "ename": "TypeError",
     "evalue": "unsupported operand type(s) for +: 'int' and 'Mod'",
     "output_type": "error",
     "traceback": [
      "\u001b[1;31m---------------------------------------------------------------------------\u001b[0m",
      "\u001b[1;31mTypeError\u001b[0m                                 Traceback (most recent call last)",
      "\u001b[1;32m<ipython-input-75-fefad4eb8ecd>\u001b[0m in \u001b[0;36m<module>\u001b[1;34m\u001b[0m\n\u001b[1;32m----> 1\u001b[1;33m \u001b[1;36m13\u001b[0m \u001b[1;33m+\u001b[0m \u001b[0mm3\u001b[0m\u001b[1;33m\u001b[0m\u001b[1;33m\u001b[0m\u001b[0m\n\u001b[0m",
      "\u001b[1;31mTypeError\u001b[0m: unsupported operand type(s) for +: 'int' and 'Mod'"
     ]
    }
   ],
   "source": [
    "13 + m3"
   ]
  },
  {
   "cell_type": "code",
   "execution_count": null,
   "id": "official-bidder",
   "metadata": {},
   "outputs": [],
   "source": []
  },
  {
   "cell_type": "code",
   "execution_count": null,
   "id": "resistant-employer",
   "metadata": {},
   "outputs": [],
   "source": []
  },
  {
   "cell_type": "code",
   "execution_count": null,
   "id": "commercial-civilian",
   "metadata": {},
   "outputs": [],
   "source": []
  },
  {
   "cell_type": "code",
   "execution_count": 88,
   "id": "removed-albuquerque",
   "metadata": {},
   "outputs": [],
   "source": [
    "class ModMismatch(ValueError):\n",
    "    pass\n",
    "\n",
    "\n",
    "class Mod:\n",
    "    def __init__(self, value, modulus):\n",
    "        if not isinstance(value, int):\n",
    "            raise ValueError('Value shoud be an integer')\n",
    "        if not (isinstance(modulus, int) and modulus > 0):\n",
    "            raise ValueError('Modulus must be a positive integer')\n",
    "        self._value = value\n",
    "        self._modulus = modulus\n",
    "        \n",
    "    @property\n",
    "    def value(self):\n",
    "        return self._value % self._modulus\n",
    "    \n",
    "    @property\n",
    "    def modulus(self):\n",
    "        return self._modulus\n",
    "    \n",
    "    def validate(self, other):\n",
    "        if isinstance(other, Mod):\n",
    "            if not(self.modulus == other.modulus):\n",
    "                raise ModMismatch('Modulus of the objects must be equal for comparision')\n",
    "            return other\n",
    "        elif isinstance(other, int):\n",
    "            return Mod(other, self.modulus)\n",
    "        else:\n",
    "            return False\n",
    "    \n",
    "    def __int__(self):\n",
    "        return self.value\n",
    "    \n",
    "    def __eq__(self, other):\n",
    "        other = self.validate(other)\n",
    "        if other:\n",
    "            return self.value == other.value\n",
    "        else:\n",
    "            return NotImplemented\n",
    "        \n",
    "    def __add__(self, other):\n",
    "        print('__add__')\n",
    "        other = self.validate(other)\n",
    "        if other:\n",
    "            return Mod(self.value + other.value, self.modulus)\n",
    "        else:\n",
    "            return NotImplemented\n",
    "        \n",
    "    def __radd__(self, other):\n",
    "        print('__radd__')\n",
    "        return self + other\n",
    "    \n",
    "    def __hash__(self):\n",
    "        return hash((self.value, self.modulus))\n",
    "    \n",
    "    def __repr__(self):\n",
    "        return f'Mod(value={self.value}, modulus={self.modulus})'\n",
    "        "
   ]
  },
  {
   "cell_type": "code",
   "execution_count": 90,
   "id": "robust-blackjack",
   "metadata": {},
   "outputs": [],
   "source": [
    "m3  = Mod(8, 3)"
   ]
  },
  {
   "cell_type": "code",
   "execution_count": 91,
   "id": "spectacular-possibility",
   "metadata": {},
   "outputs": [
    {
     "name": "stdout",
     "output_type": "stream",
     "text": [
      "__add__\n"
     ]
    },
    {
     "data": {
      "text/plain": [
       "Mod(value=2, modulus=3)"
      ]
     },
     "execution_count": 91,
     "metadata": {},
     "output_type": "execute_result"
    }
   ],
   "source": [
    "m3 + 12"
   ]
  },
  {
   "cell_type": "code",
   "execution_count": 92,
   "id": "excellent-texture",
   "metadata": {},
   "outputs": [
    {
     "name": "stdout",
     "output_type": "stream",
     "text": [
      "__radd__\n",
      "__add__\n"
     ]
    },
    {
     "data": {
      "text/plain": [
       "Mod(value=2, modulus=3)"
      ]
     },
     "execution_count": 92,
     "metadata": {},
     "output_type": "execute_result"
    }
   ],
   "source": [
    "12 + m3"
   ]
  },
  {
   "cell_type": "code",
   "execution_count": 93,
   "id": "smart-confusion",
   "metadata": {},
   "outputs": [
    {
     "name": "stdout",
     "output_type": "stream",
     "text": [
      "__radd__\n",
      "__add__\n"
     ]
    },
    {
     "ename": "TypeError",
     "evalue": "unsupported operand type(s) for +: 'Mod' and 'tuple'",
     "output_type": "error",
     "traceback": [
      "\u001b[1;31m---------------------------------------------------------------------------\u001b[0m",
      "\u001b[1;31mTypeError\u001b[0m                                 Traceback (most recent call last)",
      "\u001b[1;32m<ipython-input-93-3e35c39392e7>\u001b[0m in \u001b[0;36m<module>\u001b[1;34m\u001b[0m\n\u001b[1;32m----> 1\u001b[1;33m \u001b[1;33m(\u001b[0m\u001b[1;36m1\u001b[0m\u001b[1;33m,\u001b[0m \u001b[1;36m1\u001b[0m\u001b[1;33m)\u001b[0m \u001b[1;33m+\u001b[0m \u001b[0mm3\u001b[0m\u001b[1;33m\u001b[0m\u001b[1;33m\u001b[0m\u001b[0m\n\u001b[0m",
      "\u001b[1;32m<ipython-input-88-a10d44b41dc1>\u001b[0m in \u001b[0;36m__radd__\u001b[1;34m(self, other)\u001b[0m\n\u001b[0;32m     50\u001b[0m     \u001b[1;32mdef\u001b[0m \u001b[0m__radd__\u001b[0m\u001b[1;33m(\u001b[0m\u001b[0mself\u001b[0m\u001b[1;33m,\u001b[0m \u001b[0mother\u001b[0m\u001b[1;33m)\u001b[0m\u001b[1;33m:\u001b[0m\u001b[1;33m\u001b[0m\u001b[1;33m\u001b[0m\u001b[0m\n\u001b[0;32m     51\u001b[0m         \u001b[0mprint\u001b[0m\u001b[1;33m(\u001b[0m\u001b[1;34m'__radd__'\u001b[0m\u001b[1;33m)\u001b[0m\u001b[1;33m\u001b[0m\u001b[1;33m\u001b[0m\u001b[0m\n\u001b[1;32m---> 52\u001b[1;33m         \u001b[1;32mreturn\u001b[0m \u001b[0mself\u001b[0m \u001b[1;33m+\u001b[0m \u001b[0mother\u001b[0m\u001b[1;33m\u001b[0m\u001b[1;33m\u001b[0m\u001b[0m\n\u001b[0m\u001b[0;32m     53\u001b[0m \u001b[1;33m\u001b[0m\u001b[0m\n\u001b[0;32m     54\u001b[0m     \u001b[1;32mdef\u001b[0m \u001b[0m__hash__\u001b[0m\u001b[1;33m(\u001b[0m\u001b[0mself\u001b[0m\u001b[1;33m)\u001b[0m\u001b[1;33m:\u001b[0m\u001b[1;33m\u001b[0m\u001b[1;33m\u001b[0m\u001b[0m\n",
      "\u001b[1;31mTypeError\u001b[0m: unsupported operand type(s) for +: 'Mod' and 'tuple'"
     ]
    }
   ],
   "source": [
    "(1, 1) + m3"
   ]
  },
  {
   "cell_type": "code",
   "execution_count": 94,
   "id": "grateful-banking",
   "metadata": {},
   "outputs": [],
   "source": [
    "class ModMismatch(ValueError):\n",
    "    pass\n",
    "\n",
    "\n",
    "class Mod:\n",
    "    def __init__(self, value, modulus):\n",
    "        if not isinstance(value, int):\n",
    "            raise ValueError('Value shoud be an integer')\n",
    "        if not (isinstance(modulus, int) and modulus > 0):\n",
    "            raise ValueError('Modulus must be a positive integer')\n",
    "        self._value = value\n",
    "        self._modulus = modulus\n",
    "        \n",
    "    @property\n",
    "    def value(self):\n",
    "        return self._value % self._modulus\n",
    "    \n",
    "    @property\n",
    "    def modulus(self):\n",
    "        return self._modulus\n",
    "    \n",
    "    def validate(self, other):\n",
    "        if isinstance(other, Mod):\n",
    "            if not(self.modulus == other.modulus):\n",
    "                raise ModMismatch('Modulus of the objects must be equal for comparision')\n",
    "            return other\n",
    "        elif isinstance(other, int):\n",
    "            return Mod(other, self.modulus)\n",
    "        else:\n",
    "            return False\n",
    "    \n",
    "    def __int__(self):\n",
    "        return self.value\n",
    "    \n",
    "    def __eq__(self, other):\n",
    "        other = self.validate(other)\n",
    "        if other:\n",
    "            return self.value == other.value\n",
    "        else:\n",
    "            return NotImplemented\n",
    "        \n",
    "    def __add__(self, other):\n",
    "        other = self.validate(other)\n",
    "        if other:\n",
    "            return Mod(self.value + other.value, self.modulus)\n",
    "        else:\n",
    "            return NotImplemented\n",
    "        \n",
    "    def __sub__(self, other):\n",
    "        other = self.validate(other)\n",
    "        if other:\n",
    "            return Mod(self.value - other.value, self.modulus)\n",
    "        else:\n",
    "            return NotImplemented\n",
    "        \n",
    "    def __radd__(self, other):\n",
    "        return self + other\n",
    "    \n",
    "    def __hash__(self):\n",
    "        return hash((self.value, self.modulus))\n",
    "    \n",
    "    def __repr__(self):\n",
    "        return f'Mod(value={self.value}, modulus={self.modulus})'\n",
    "        "
   ]
  },
  {
   "cell_type": "code",
   "execution_count": 95,
   "id": "sharp-surface",
   "metadata": {},
   "outputs": [],
   "source": [
    "m1 = Mod(1, 3)\n",
    "m2 = Mod(0, 3)"
   ]
  },
  {
   "cell_type": "code",
   "execution_count": 101,
   "id": "institutional-cartridge",
   "metadata": {},
   "outputs": [
    {
     "data": {
      "text/plain": [
       "Mod(value=2, modulus=3)"
      ]
     },
     "execution_count": 101,
     "metadata": {},
     "output_type": "execute_result"
    }
   ],
   "source": [
    "Mod(-1, 3)"
   ]
  },
  {
   "cell_type": "code",
   "execution_count": 102,
   "id": "square-joining",
   "metadata": {},
   "outputs": [
    {
     "data": {
      "text/plain": [
       "Mod(value=0, modulus=3)"
      ]
     },
     "execution_count": 102,
     "metadata": {},
     "output_type": "execute_result"
    }
   ],
   "source": [
    "m1 - 10"
   ]
  },
  {
   "cell_type": "code",
   "execution_count": 103,
   "id": "solid-istanbul",
   "metadata": {},
   "outputs": [
    {
     "ename": "TypeError",
     "evalue": "unsupported operand type(s) for -: 'int' and 'Mod'",
     "output_type": "error",
     "traceback": [
      "\u001b[1;31m---------------------------------------------------------------------------\u001b[0m",
      "\u001b[1;31mTypeError\u001b[0m                                 Traceback (most recent call last)",
      "\u001b[1;32m<ipython-input-103-03f435decc4d>\u001b[0m in \u001b[0;36m<module>\u001b[1;34m\u001b[0m\n\u001b[1;32m----> 1\u001b[1;33m \u001b[1;36m10\u001b[0m \u001b[1;33m-\u001b[0m \u001b[0mm2\u001b[0m\u001b[1;33m\u001b[0m\u001b[1;33m\u001b[0m\u001b[0m\n\u001b[0m",
      "\u001b[1;31mTypeError\u001b[0m: unsupported operand type(s) for -: 'int' and 'Mod'"
     ]
    }
   ],
   "source": [
    "10 - m2"
   ]
  },
  {
   "cell_type": "code",
   "execution_count": 104,
   "id": "related-berry",
   "metadata": {},
   "outputs": [],
   "source": [
    "class ModMismatch(ValueError):\n",
    "    pass\n",
    "\n",
    "\n",
    "class Mod:\n",
    "    def __init__(self, value, modulus):\n",
    "        if not isinstance(value, int):\n",
    "            raise ValueError('Value shoud be an integer')\n",
    "        if not (isinstance(modulus, int) and modulus > 0):\n",
    "            raise ValueError('Modulus must be a positive integer')\n",
    "        self._value = value\n",
    "        self._modulus = modulus\n",
    "        \n",
    "    @property\n",
    "    def value(self):\n",
    "        return self._value % self._modulus\n",
    "    \n",
    "    @property\n",
    "    def modulus(self):\n",
    "        return self._modulus\n",
    "    \n",
    "    def validate(self, other):\n",
    "        if isinstance(other, Mod):\n",
    "            if not(self.modulus == other.modulus):\n",
    "                raise ModMismatch('Modulus of the objects must be equal for comparision')\n",
    "            return other\n",
    "        elif isinstance(other, int):\n",
    "            return Mod(other, self.modulus)\n",
    "        else:\n",
    "            return False\n",
    "    \n",
    "    def __int__(self):\n",
    "        return self.value\n",
    "    \n",
    "    def __eq__(self, other):\n",
    "        other = self.validate(other)\n",
    "        if other:\n",
    "            return self.value == other.value\n",
    "        else:\n",
    "            return NotImplemented\n",
    "        \n",
    "    def __add__(self, other):\n",
    "        other = self.validate(other)\n",
    "        if other:\n",
    "            return Mod(self.value + other.value, self.modulus)\n",
    "        else:\n",
    "            return NotImplemented\n",
    "        \n",
    "    def __sub__(self, other):\n",
    "        other = self.validate(other)\n",
    "        if other:\n",
    "            return Mod(self.value - other.value, self.modulus)\n",
    "        else:\n",
    "            return NotImplemented\n",
    "        \n",
    "    def __radd__(self, other):\n",
    "        return self + other\n",
    "    \n",
    "    def __rsub__(self, other):\n",
    "        return self - other\n",
    "    \n",
    "    def __hash__(self):\n",
    "        return hash((self.value, self.modulus))\n",
    "    \n",
    "    def __repr__(self):\n",
    "        return f'Mod(value={self.value}, modulus={self.modulus})'\n",
    "        "
   ]
  },
  {
   "cell_type": "code",
   "execution_count": 105,
   "id": "ancient-energy",
   "metadata": {},
   "outputs": [],
   "source": [
    "m1 = Mod(1, 3)"
   ]
  },
  {
   "cell_type": "code",
   "execution_count": 106,
   "id": "competent-absence",
   "metadata": {},
   "outputs": [
    {
     "data": {
      "text/plain": [
       "Mod(value=0, modulus=3)"
      ]
     },
     "execution_count": 106,
     "metadata": {},
     "output_type": "execute_result"
    }
   ],
   "source": [
    "1 - m1"
   ]
  },
  {
   "cell_type": "code",
   "execution_count": 107,
   "id": "hollow-necklace",
   "metadata": {},
   "outputs": [],
   "source": [
    "m2 = Mod(1, 4)"
   ]
  },
  {
   "cell_type": "code",
   "execution_count": 108,
   "id": "electoral-observer",
   "metadata": {},
   "outputs": [
    {
     "ename": "ModMismatch",
     "evalue": "Modulus of the objects must be equal for comparision",
     "output_type": "error",
     "traceback": [
      "\u001b[1;31m---------------------------------------------------------------------------\u001b[0m",
      "\u001b[1;31mModMismatch\u001b[0m                               Traceback (most recent call last)",
      "\u001b[1;32m<ipython-input-108-1af3d4e13731>\u001b[0m in \u001b[0;36m<module>\u001b[1;34m\u001b[0m\n\u001b[1;32m----> 1\u001b[1;33m \u001b[0mm1\u001b[0m \u001b[1;33m-\u001b[0m \u001b[0mm2\u001b[0m\u001b[1;33m\u001b[0m\u001b[1;33m\u001b[0m\u001b[0m\n\u001b[0m",
      "\u001b[1;32m<ipython-input-104-cbe6e5c55005>\u001b[0m in \u001b[0;36m__sub__\u001b[1;34m(self, other)\u001b[0m\n\u001b[0;32m     48\u001b[0m \u001b[1;33m\u001b[0m\u001b[0m\n\u001b[0;32m     49\u001b[0m     \u001b[1;32mdef\u001b[0m \u001b[0m__sub__\u001b[0m\u001b[1;33m(\u001b[0m\u001b[0mself\u001b[0m\u001b[1;33m,\u001b[0m \u001b[0mother\u001b[0m\u001b[1;33m)\u001b[0m\u001b[1;33m:\u001b[0m\u001b[1;33m\u001b[0m\u001b[1;33m\u001b[0m\u001b[0m\n\u001b[1;32m---> 50\u001b[1;33m         \u001b[0mother\u001b[0m \u001b[1;33m=\u001b[0m \u001b[0mself\u001b[0m\u001b[1;33m.\u001b[0m\u001b[0mvalidate\u001b[0m\u001b[1;33m(\u001b[0m\u001b[0mother\u001b[0m\u001b[1;33m)\u001b[0m\u001b[1;33m\u001b[0m\u001b[1;33m\u001b[0m\u001b[0m\n\u001b[0m\u001b[0;32m     51\u001b[0m         \u001b[1;32mif\u001b[0m \u001b[0mother\u001b[0m\u001b[1;33m:\u001b[0m\u001b[1;33m\u001b[0m\u001b[1;33m\u001b[0m\u001b[0m\n\u001b[0;32m     52\u001b[0m             \u001b[1;32mreturn\u001b[0m \u001b[0mMod\u001b[0m\u001b[1;33m(\u001b[0m\u001b[0mself\u001b[0m\u001b[1;33m.\u001b[0m\u001b[0mvalue\u001b[0m \u001b[1;33m-\u001b[0m \u001b[0mother\u001b[0m\u001b[1;33m.\u001b[0m\u001b[0mvalue\u001b[0m\u001b[1;33m,\u001b[0m \u001b[0mself\u001b[0m\u001b[1;33m.\u001b[0m\u001b[0mmodulus\u001b[0m\u001b[1;33m)\u001b[0m\u001b[1;33m\u001b[0m\u001b[1;33m\u001b[0m\u001b[0m\n",
      "\u001b[1;32m<ipython-input-104-cbe6e5c55005>\u001b[0m in \u001b[0;36mvalidate\u001b[1;34m(self, other)\u001b[0m\n\u001b[0;32m     23\u001b[0m         \u001b[1;32mif\u001b[0m \u001b[0misinstance\u001b[0m\u001b[1;33m(\u001b[0m\u001b[0mother\u001b[0m\u001b[1;33m,\u001b[0m \u001b[0mMod\u001b[0m\u001b[1;33m)\u001b[0m\u001b[1;33m:\u001b[0m\u001b[1;33m\u001b[0m\u001b[1;33m\u001b[0m\u001b[0m\n\u001b[0;32m     24\u001b[0m             \u001b[1;32mif\u001b[0m \u001b[1;32mnot\u001b[0m\u001b[1;33m(\u001b[0m\u001b[0mself\u001b[0m\u001b[1;33m.\u001b[0m\u001b[0mmodulus\u001b[0m \u001b[1;33m==\u001b[0m \u001b[0mother\u001b[0m\u001b[1;33m.\u001b[0m\u001b[0mmodulus\u001b[0m\u001b[1;33m)\u001b[0m\u001b[1;33m:\u001b[0m\u001b[1;33m\u001b[0m\u001b[1;33m\u001b[0m\u001b[0m\n\u001b[1;32m---> 25\u001b[1;33m                 \u001b[1;32mraise\u001b[0m \u001b[0mModMismatch\u001b[0m\u001b[1;33m(\u001b[0m\u001b[1;34m'Modulus of the objects must be equal for comparision'\u001b[0m\u001b[1;33m)\u001b[0m\u001b[1;33m\u001b[0m\u001b[1;33m\u001b[0m\u001b[0m\n\u001b[0m\u001b[0;32m     26\u001b[0m             \u001b[1;32mreturn\u001b[0m \u001b[0mother\u001b[0m\u001b[1;33m\u001b[0m\u001b[1;33m\u001b[0m\u001b[0m\n\u001b[0;32m     27\u001b[0m         \u001b[1;32melif\u001b[0m \u001b[0misinstance\u001b[0m\u001b[1;33m(\u001b[0m\u001b[0mother\u001b[0m\u001b[1;33m,\u001b[0m \u001b[0mint\u001b[0m\u001b[1;33m)\u001b[0m\u001b[1;33m:\u001b[0m\u001b[1;33m\u001b[0m\u001b[1;33m\u001b[0m\u001b[0m\n",
      "\u001b[1;31mModMismatch\u001b[0m: Modulus of the objects must be equal for comparision"
     ]
    }
   ],
   "source": [
    "m1 - m2"
   ]
  },
  {
   "cell_type": "code",
   "execution_count": 109,
   "id": "variable-preference",
   "metadata": {},
   "outputs": [
    {
     "ename": "TypeError",
     "evalue": "unsupported operand type(s) for -: 'Mod' and 'str'",
     "output_type": "error",
     "traceback": [
      "\u001b[1;31m---------------------------------------------------------------------------\u001b[0m",
      "\u001b[1;31mTypeError\u001b[0m                                 Traceback (most recent call last)",
      "\u001b[1;32m<ipython-input-109-975800d82039>\u001b[0m in \u001b[0;36m<module>\u001b[1;34m\u001b[0m\n\u001b[1;32m----> 1\u001b[1;33m \u001b[1;34m'hello'\u001b[0m \u001b[1;33m-\u001b[0m  \u001b[0mMod\u001b[0m\u001b[1;33m(\u001b[0m\u001b[1;36m1\u001b[0m\u001b[1;33m,\u001b[0m \u001b[1;36m3\u001b[0m\u001b[1;33m)\u001b[0m\u001b[1;33m\u001b[0m\u001b[1;33m\u001b[0m\u001b[0m\n\u001b[0m",
      "\u001b[1;32m<ipython-input-104-cbe6e5c55005>\u001b[0m in \u001b[0;36m__rsub__\u001b[1;34m(self, other)\u001b[0m\n\u001b[0;32m     58\u001b[0m \u001b[1;33m\u001b[0m\u001b[0m\n\u001b[0;32m     59\u001b[0m     \u001b[1;32mdef\u001b[0m \u001b[0m__rsub__\u001b[0m\u001b[1;33m(\u001b[0m\u001b[0mself\u001b[0m\u001b[1;33m,\u001b[0m \u001b[0mother\u001b[0m\u001b[1;33m)\u001b[0m\u001b[1;33m:\u001b[0m\u001b[1;33m\u001b[0m\u001b[1;33m\u001b[0m\u001b[0m\n\u001b[1;32m---> 60\u001b[1;33m         \u001b[1;32mreturn\u001b[0m \u001b[0mself\u001b[0m \u001b[1;33m-\u001b[0m \u001b[0mother\u001b[0m\u001b[1;33m\u001b[0m\u001b[1;33m\u001b[0m\u001b[0m\n\u001b[0m\u001b[0;32m     61\u001b[0m \u001b[1;33m\u001b[0m\u001b[0m\n\u001b[0;32m     62\u001b[0m     \u001b[1;32mdef\u001b[0m \u001b[0m__hash__\u001b[0m\u001b[1;33m(\u001b[0m\u001b[0mself\u001b[0m\u001b[1;33m)\u001b[0m\u001b[1;33m:\u001b[0m\u001b[1;33m\u001b[0m\u001b[1;33m\u001b[0m\u001b[0m\n",
      "\u001b[1;31mTypeError\u001b[0m: unsupported operand type(s) for -: 'Mod' and 'str'"
     ]
    }
   ],
   "source": [
    "'hello' -  Mod(1, 3)"
   ]
  },
  {
   "cell_type": "code",
   "execution_count": 113,
   "id": "relevant-karaoke",
   "metadata": {},
   "outputs": [],
   "source": [
    "class ModMismatch(ValueError):\n",
    "    pass\n",
    "\n",
    "\n",
    "class Mod:\n",
    "    def __init__(self, value, modulus):\n",
    "        if not isinstance(value, int):\n",
    "            raise ValueError('Value shoud be an integer')\n",
    "        if not (isinstance(modulus, int) and modulus > 0):\n",
    "            raise ValueError('Modulus must be a positive integer')\n",
    "        self._value = value\n",
    "        self._modulus = modulus\n",
    "        \n",
    "    @property\n",
    "    def value(self):\n",
    "        return self._value % self._modulus\n",
    "    \n",
    "    @property\n",
    "    def modulus(self):\n",
    "        return self._modulus\n",
    "    \n",
    "    def validate(self, other):\n",
    "        if isinstance(other, Mod):\n",
    "            if not(self.modulus == other.modulus):\n",
    "                raise ModMismatch('Modulus of the objects must be equal for comparision')\n",
    "            return other\n",
    "        elif isinstance(other, int):\n",
    "            return Mod(other, self.modulus)\n",
    "        else:\n",
    "            return False\n",
    "    \n",
    "    def __int__(self):\n",
    "        return self.value\n",
    "    \n",
    "    def __eq__(self, other):\n",
    "        other = self.validate(other)\n",
    "        if other:\n",
    "            return self.value == other.value\n",
    "        else:\n",
    "            return NotImplemented\n",
    "        \n",
    "    def __add__(self, other):\n",
    "        other = self.validate(other)\n",
    "        if other:\n",
    "            return Mod(self.value + other.value, self.modulus)\n",
    "        else:\n",
    "            return NotImplemented\n",
    "        \n",
    "    def __sub__(self, other):\n",
    "        other = self.validate(other)\n",
    "        if other:\n",
    "            return Mod(self.value - other.value, self.modulus)\n",
    "        else:\n",
    "            return NotImplemented\n",
    "        \n",
    "    def __mul__(self, other):\n",
    "        other = self.validate(other)\n",
    "        if other:\n",
    "            return Mod(self.value * other.value, self.modulus)\n",
    "        else:\n",
    "            return NotImplemented\n",
    "        \n",
    "    def __radd__(self, other):\n",
    "        return self + other\n",
    "    \n",
    "    def __rsub__(self, other):\n",
    "        return self - other\n",
    "    \n",
    "    def __rmul__(self, other):\n",
    "        return self * other\n",
    "    \n",
    "    def __hash__(self):\n",
    "        return hash((self.value, self.modulus))\n",
    "    \n",
    "    def __repr__(self):\n",
    "        return f'Mod(value={self.value}, modulus={self.modulus})'\n",
    "        \n",
    "    "
   ]
  },
  {
   "cell_type": "code",
   "execution_count": 114,
   "id": "ideal-scientist",
   "metadata": {},
   "outputs": [],
   "source": [
    "m1 = Mod(1, 2)\n",
    "m2 = Mod(11, 2)\n",
    "m3 = Mod(4, 5)"
   ]
  },
  {
   "cell_type": "code",
   "execution_count": 115,
   "id": "excellent-shower",
   "metadata": {},
   "outputs": [
    {
     "data": {
      "text/plain": [
       "Mod(value=1, modulus=2)"
      ]
     },
     "execution_count": 115,
     "metadata": {},
     "output_type": "execute_result"
    }
   ],
   "source": [
    "m1 * m2"
   ]
  },
  {
   "cell_type": "code",
   "execution_count": 116,
   "id": "assigned-kinase",
   "metadata": {},
   "outputs": [
    {
     "data": {
      "text/plain": [
       "Mod(value=0, modulus=2)"
      ]
     },
     "execution_count": 116,
     "metadata": {},
     "output_type": "execute_result"
    }
   ],
   "source": [
    "m1 + m2"
   ]
  },
  {
   "cell_type": "code",
   "execution_count": 117,
   "id": "gentle-representation",
   "metadata": {},
   "outputs": [
    {
     "ename": "ModMismatch",
     "evalue": "Modulus of the objects must be equal for comparision",
     "output_type": "error",
     "traceback": [
      "\u001b[1;31m---------------------------------------------------------------------------\u001b[0m",
      "\u001b[1;31mModMismatch\u001b[0m                               Traceback (most recent call last)",
      "\u001b[1;32m<ipython-input-117-381ebf95f871>\u001b[0m in \u001b[0;36m<module>\u001b[1;34m\u001b[0m\n\u001b[1;32m----> 1\u001b[1;33m \u001b[0mm3\u001b[0m \u001b[1;33m*\u001b[0m \u001b[0mm1\u001b[0m\u001b[1;33m\u001b[0m\u001b[1;33m\u001b[0m\u001b[0m\n\u001b[0m",
      "\u001b[1;32m<ipython-input-113-a4ae6bcf9859>\u001b[0m in \u001b[0;36m__mul__\u001b[1;34m(self, other)\u001b[0m\n\u001b[0;32m     55\u001b[0m \u001b[1;33m\u001b[0m\u001b[0m\n\u001b[0;32m     56\u001b[0m     \u001b[1;32mdef\u001b[0m \u001b[0m__mul__\u001b[0m\u001b[1;33m(\u001b[0m\u001b[0mself\u001b[0m\u001b[1;33m,\u001b[0m \u001b[0mother\u001b[0m\u001b[1;33m)\u001b[0m\u001b[1;33m:\u001b[0m\u001b[1;33m\u001b[0m\u001b[1;33m\u001b[0m\u001b[0m\n\u001b[1;32m---> 57\u001b[1;33m         \u001b[0mother\u001b[0m \u001b[1;33m=\u001b[0m \u001b[0mself\u001b[0m\u001b[1;33m.\u001b[0m\u001b[0mvalidate\u001b[0m\u001b[1;33m(\u001b[0m\u001b[0mother\u001b[0m\u001b[1;33m)\u001b[0m\u001b[1;33m\u001b[0m\u001b[1;33m\u001b[0m\u001b[0m\n\u001b[0m\u001b[0;32m     58\u001b[0m         \u001b[1;32mif\u001b[0m \u001b[0mother\u001b[0m\u001b[1;33m:\u001b[0m\u001b[1;33m\u001b[0m\u001b[1;33m\u001b[0m\u001b[0m\n\u001b[0;32m     59\u001b[0m             \u001b[1;32mreturn\u001b[0m \u001b[0mMod\u001b[0m\u001b[1;33m(\u001b[0m\u001b[0mself\u001b[0m\u001b[1;33m.\u001b[0m\u001b[0mvalue\u001b[0m \u001b[1;33m*\u001b[0m \u001b[0mother\u001b[0m\u001b[1;33m.\u001b[0m\u001b[0mvalue\u001b[0m\u001b[1;33m,\u001b[0m \u001b[0mself\u001b[0m\u001b[1;33m.\u001b[0m\u001b[0mmodulus\u001b[0m\u001b[1;33m)\u001b[0m\u001b[1;33m\u001b[0m\u001b[1;33m\u001b[0m\u001b[0m\n",
      "\u001b[1;32m<ipython-input-113-a4ae6bcf9859>\u001b[0m in \u001b[0;36mvalidate\u001b[1;34m(self, other)\u001b[0m\n\u001b[0;32m     23\u001b[0m         \u001b[1;32mif\u001b[0m \u001b[0misinstance\u001b[0m\u001b[1;33m(\u001b[0m\u001b[0mother\u001b[0m\u001b[1;33m,\u001b[0m \u001b[0mMod\u001b[0m\u001b[1;33m)\u001b[0m\u001b[1;33m:\u001b[0m\u001b[1;33m\u001b[0m\u001b[1;33m\u001b[0m\u001b[0m\n\u001b[0;32m     24\u001b[0m             \u001b[1;32mif\u001b[0m \u001b[1;32mnot\u001b[0m\u001b[1;33m(\u001b[0m\u001b[0mself\u001b[0m\u001b[1;33m.\u001b[0m\u001b[0mmodulus\u001b[0m \u001b[1;33m==\u001b[0m \u001b[0mother\u001b[0m\u001b[1;33m.\u001b[0m\u001b[0mmodulus\u001b[0m\u001b[1;33m)\u001b[0m\u001b[1;33m:\u001b[0m\u001b[1;33m\u001b[0m\u001b[1;33m\u001b[0m\u001b[0m\n\u001b[1;32m---> 25\u001b[1;33m                 \u001b[1;32mraise\u001b[0m \u001b[0mModMismatch\u001b[0m\u001b[1;33m(\u001b[0m\u001b[1;34m'Modulus of the objects must be equal for comparision'\u001b[0m\u001b[1;33m)\u001b[0m\u001b[1;33m\u001b[0m\u001b[1;33m\u001b[0m\u001b[0m\n\u001b[0m\u001b[0;32m     26\u001b[0m             \u001b[1;32mreturn\u001b[0m \u001b[0mother\u001b[0m\u001b[1;33m\u001b[0m\u001b[1;33m\u001b[0m\u001b[0m\n\u001b[0;32m     27\u001b[0m         \u001b[1;32melif\u001b[0m \u001b[0misinstance\u001b[0m\u001b[1;33m(\u001b[0m\u001b[0mother\u001b[0m\u001b[1;33m,\u001b[0m \u001b[0mint\u001b[0m\u001b[1;33m)\u001b[0m\u001b[1;33m:\u001b[0m\u001b[1;33m\u001b[0m\u001b[1;33m\u001b[0m\u001b[0m\n",
      "\u001b[1;31mModMismatch\u001b[0m: Modulus of the objects must be equal for comparision"
     ]
    }
   ],
   "source": [
    "m3 * m1"
   ]
  },
  {
   "cell_type": "code",
   "execution_count": 118,
   "id": "advised-assault",
   "metadata": {},
   "outputs": [
    {
     "data": {
      "text/plain": [
       "Mod(value=0, modulus=2)"
      ]
     },
     "execution_count": 118,
     "metadata": {},
     "output_type": "execute_result"
    }
   ],
   "source": [
    "10 *  m1"
   ]
  },
  {
   "cell_type": "code",
   "execution_count": 123,
   "id": "tropical-middle",
   "metadata": {},
   "outputs": [],
   "source": [
    "class ModMismatch(ValueError):\n",
    "    pass\n",
    "\n",
    "\n",
    "class Mod:\n",
    "    def __init__(self, value, modulus):\n",
    "        if not isinstance(value, int):\n",
    "            raise ValueError('Value shoud be an integer')\n",
    "        if not (isinstance(modulus, int) and modulus > 0):\n",
    "            raise ValueError('Modulus must be a positive integer')\n",
    "        self._value = value\n",
    "        self._modulus = modulus\n",
    "        \n",
    "    @property\n",
    "    def value(self):\n",
    "        return self._value % self._modulus\n",
    "    \n",
    "    @property\n",
    "    def modulus(self):\n",
    "        return self._modulus\n",
    "    \n",
    "    def validate(self, other):\n",
    "        if isinstance(other, Mod):\n",
    "            if not(self.modulus == other.modulus):\n",
    "                raise ModMismatch('Modulus of the objects must be equal for comparision')\n",
    "            return other\n",
    "        elif isinstance(other, int):\n",
    "            return Mod(other, self.modulus)\n",
    "        else:\n",
    "            return False\n",
    "    \n",
    "    def __int__(self):\n",
    "        return self.value\n",
    "    \n",
    "    def __eq__(self, other):\n",
    "        other = self.validate(other)\n",
    "        if other:\n",
    "            return self.value == other.value\n",
    "        else:\n",
    "            return NotImplemented\n",
    "        \n",
    "    def __add__(self, other):\n",
    "        other = self.validate(other)\n",
    "        if other:\n",
    "            return Mod(self.value + other.value, self.modulus)\n",
    "        else:\n",
    "            return NotImplemented\n",
    "        \n",
    "    def __sub__(self, other):\n",
    "        other = self.validate(other)\n",
    "        if other:\n",
    "            return Mod(self.value - other.value, self.modulus)\n",
    "        else:\n",
    "            return NotImplemented\n",
    "        \n",
    "    def __mul__(self, other):\n",
    "        other = self.validate(other)\n",
    "        if other:\n",
    "            return Mod(self.value * other.value, self.modulus)\n",
    "        else:\n",
    "            return NotImplemented\n",
    "        \n",
    "    def __pow__(self, other):\n",
    "        other = self.validate(other)\n",
    "        if other:\n",
    "            return Mod(self.value ** other.value, self.modulus)\n",
    "        else:\n",
    "            return NotImplemented\n",
    "        \n",
    "    def __radd__(self, other):\n",
    "        return self + other\n",
    "    \n",
    "    def __rsub__(self, other):\n",
    "        return self - other\n",
    "    \n",
    "    def __rmul__(self, other):\n",
    "        return self * other\n",
    "    \n",
    "    def __hash__(self):\n",
    "        return hash((self.value, self.modulus))\n",
    "    \n",
    "    def __repr__(self):\n",
    "        return f'Mod(value={self.value}, modulus={self.modulus})'\n",
    "        \n",
    "    "
   ]
  },
  {
   "cell_type": "code",
   "execution_count": 124,
   "id": "composed-insight",
   "metadata": {},
   "outputs": [],
   "source": [
    "m1 = Mod(10, 3)"
   ]
  },
  {
   "cell_type": "code",
   "execution_count": 125,
   "id": "disciplinary-export",
   "metadata": {},
   "outputs": [
    {
     "data": {
      "text/plain": [
       "Mod(value=1, modulus=3)"
      ]
     },
     "execution_count": 125,
     "metadata": {},
     "output_type": "execute_result"
    }
   ],
   "source": [
    "m1"
   ]
  },
  {
   "cell_type": "code",
   "execution_count": 126,
   "id": "burning-lotus",
   "metadata": {},
   "outputs": [
    {
     "data": {
      "text/plain": [
       "Mod(value=1, modulus=3)"
      ]
     },
     "execution_count": 126,
     "metadata": {},
     "output_type": "execute_result"
    }
   ],
   "source": [
    "m1 ** 1000"
   ]
  },
  {
   "cell_type": "code",
   "execution_count": 127,
   "id": "breeding-investing",
   "metadata": {},
   "outputs": [],
   "source": [
    "m2 = Mod(8, 3)"
   ]
  },
  {
   "cell_type": "code",
   "execution_count": 128,
   "id": "norman-ancient",
   "metadata": {},
   "outputs": [
    {
     "data": {
      "text/plain": [
       "Mod(value=2, modulus=3)"
      ]
     },
     "execution_count": 128,
     "metadata": {},
     "output_type": "execute_result"
    }
   ],
   "source": [
    "m2"
   ]
  },
  {
   "cell_type": "code",
   "execution_count": 129,
   "id": "dedicated-reflection",
   "metadata": {},
   "outputs": [
    {
     "data": {
      "text/plain": [
       "Mod(value=2, modulus=3)"
      ]
     },
     "execution_count": 129,
     "metadata": {},
     "output_type": "execute_result"
    }
   ],
   "source": [
    "m2 ** m1"
   ]
  },
  {
   "cell_type": "code",
   "execution_count": 130,
   "id": "creative-reservation",
   "metadata": {},
   "outputs": [
    {
     "data": {
      "text/plain": [
       "Mod(value=2, modulus=3)"
      ]
     },
     "execution_count": 130,
     "metadata": {},
     "output_type": "execute_result"
    }
   ],
   "source": [
    "m2 ** 10"
   ]
  },
  {
   "cell_type": "code",
   "execution_count": 131,
   "id": "complex-celebration",
   "metadata": {},
   "outputs": [
    {
     "data": {
      "text/plain": [
       "Mod(value=1, modulus=3)"
      ]
     },
     "execution_count": 131,
     "metadata": {},
     "output_type": "execute_result"
    }
   ],
   "source": [
    "m2 ** m2"
   ]
  },
  {
   "cell_type": "code",
   "execution_count": 132,
   "id": "linear-volunteer",
   "metadata": {},
   "outputs": [
    {
     "ename": "TypeError",
     "evalue": "unsupported operand type(s) for ** or pow(): 'int' and 'Mod'",
     "output_type": "error",
     "traceback": [
      "\u001b[1;31m---------------------------------------------------------------------------\u001b[0m",
      "\u001b[1;31mTypeError\u001b[0m                                 Traceback (most recent call last)",
      "\u001b[1;32m<ipython-input-132-a22e8cd882c2>\u001b[0m in \u001b[0;36m<module>\u001b[1;34m\u001b[0m\n\u001b[1;32m----> 1\u001b[1;33m \u001b[1;36m10\u001b[0m \u001b[1;33m**\u001b[0m \u001b[0mm1\u001b[0m\u001b[1;33m\u001b[0m\u001b[1;33m\u001b[0m\u001b[0m\n\u001b[0m",
      "\u001b[1;31mTypeError\u001b[0m: unsupported operand type(s) for ** or pow(): 'int' and 'Mod'"
     ]
    }
   ],
   "source": [
    "10 ** m1"
   ]
  },
  {
   "cell_type": "code",
   "execution_count": 137,
   "id": "wound-welsh",
   "metadata": {},
   "outputs": [],
   "source": [
    "class ModMismatch(ValueError):\n",
    "    pass\n",
    "\n",
    "\n",
    "class Mod:\n",
    "    def __init__(self, value, modulus):\n",
    "        if not isinstance(value, int):\n",
    "            raise ValueError('Value shoud be an integer')\n",
    "        if not (isinstance(modulus, int) and modulus > 0):\n",
    "            raise ValueError('Modulus must be a positive integer')\n",
    "        self._value = value\n",
    "        self._modulus = modulus\n",
    "        \n",
    "    @property\n",
    "    def value(self):\n",
    "        return self._value % self._modulus\n",
    "    \n",
    "    @property\n",
    "    def modulus(self):\n",
    "        return self._modulus\n",
    "    \n",
    "    def validate(self, other):\n",
    "        if isinstance(other, Mod):\n",
    "            if not(self.modulus == other.modulus):\n",
    "                raise ModMismatch('Modulus of the objects must be equal for comparision')\n",
    "            return other\n",
    "        elif isinstance(other, int):\n",
    "            return Mod(other, self.modulus)\n",
    "        else:\n",
    "            return False\n",
    "    \n",
    "    def __int__(self):\n",
    "        return self.value\n",
    "    \n",
    "    def __eq__(self, other):\n",
    "        other = self.validate(other)\n",
    "        if other:\n",
    "            return self.value == other.value\n",
    "        else:\n",
    "            return NotImplemented\n",
    "        \n",
    "    def __add__(self, other):\n",
    "        other = self.validate(other)\n",
    "        if other:\n",
    "            return Mod(self.value + other.value, self.modulus)\n",
    "        else:\n",
    "            return NotImplemented\n",
    "        \n",
    "    def __sub__(self, other):\n",
    "        other = self.validate(other)\n",
    "        if other:\n",
    "            return Mod(self.value - other.value, self.modulus)\n",
    "        else:\n",
    "            return NotImplemented\n",
    "        \n",
    "    def __mul__(self, other):\n",
    "        other = self.validate(other)\n",
    "        if other:\n",
    "            return Mod(self.value * other.value, self.modulus)\n",
    "        else:\n",
    "            return NotImplemented\n",
    "        \n",
    "    def __pow__(self, other):\n",
    "        other = self.validate(other)\n",
    "        if other:\n",
    "            return Mod(self.value ** other.value, self.modulus)\n",
    "        else:\n",
    "            return NotImplemented\n",
    "        \n",
    "    def __iadd__(self, other):\n",
    "        other = self.validate(other)\n",
    "        if other:\n",
    "            self._value = self.value + other.value\n",
    "            return self\n",
    "        else:\n",
    "            return NotImplemented\n",
    "        \n",
    "    def __radd__(self, other):\n",
    "        return self + other\n",
    "    \n",
    "    def __rsub__(self, other):\n",
    "        return self - other\n",
    "    \n",
    "    def __rmul__(self, other):\n",
    "        return self * other\n",
    "    \n",
    "    def __hash__(self):\n",
    "        return hash((self.value, self.modulus))\n",
    "    \n",
    "    def __repr__(self):\n",
    "        return f'Mod(value={self.value}, modulus={self.modulus})'\n",
    "        \n",
    "    "
   ]
  },
  {
   "cell_type": "code",
   "execution_count": 138,
   "id": "following-gravity",
   "metadata": {},
   "outputs": [],
   "source": [
    "m1 = Mod(1, 3)"
   ]
  },
  {
   "cell_type": "code",
   "execution_count": 139,
   "id": "suitable-projection",
   "metadata": {},
   "outputs": [
    {
     "name": "stdout",
     "output_type": "stream",
     "text": [
      "2775951145280\n",
      "Mod(value=0, modulus=3)\n",
      "2775951145280\n"
     ]
    }
   ],
   "source": [
    "print(id(m1))\n",
    "m1 += 2\n",
    "print(m1)\n",
    "print(id(m1))"
   ]
  },
  {
   "cell_type": "code",
   "execution_count": 140,
   "id": "smart-national",
   "metadata": {},
   "outputs": [
    {
     "name": "stdout",
     "output_type": "stream",
     "text": [
      "2775951145280\n",
      "Mod(value=0, modulus=3)\n",
      "2775951145280\n"
     ]
    }
   ],
   "source": [
    "print(id(m1))\n",
    "m1 += Mod(3, 3)\n",
    "print(m1)\n",
    "print(id(m1))"
   ]
  },
  {
   "cell_type": "code",
   "execution_count": 141,
   "id": "thirty-turtle",
   "metadata": {},
   "outputs": [],
   "source": [
    "class ModMismatch(ValueError):\n",
    "    pass\n",
    "\n",
    "\n",
    "class Mod:\n",
    "    def __init__(self, value, modulus):\n",
    "        if not isinstance(value, int):\n",
    "            raise ValueError('Value shoud be an integer')\n",
    "        if not (isinstance(modulus, int) and modulus > 0):\n",
    "            raise ValueError('Modulus must be a positive integer')\n",
    "        self._value = value\n",
    "        self._modulus = modulus\n",
    "        \n",
    "    @property\n",
    "    def value(self):\n",
    "        return self._value % self._modulus\n",
    "    \n",
    "    @property\n",
    "    def modulus(self):\n",
    "        return self._modulus\n",
    "    \n",
    "    def validate(self, other):\n",
    "        if isinstance(other, Mod):\n",
    "            if not(self.modulus == other.modulus):\n",
    "                raise ModMismatch('Modulus of the objects must be equal for comparision')\n",
    "            return other\n",
    "        elif isinstance(other, int):\n",
    "            return Mod(other, self.modulus)\n",
    "        else:\n",
    "            return False\n",
    "    \n",
    "    def __int__(self):\n",
    "        return self.value\n",
    "    \n",
    "    def __eq__(self, other):\n",
    "        other = self.validate(other)\n",
    "        if other:\n",
    "            return self.value == other.value\n",
    "        else:\n",
    "            return NotImplemented\n",
    "        \n",
    "    def __add__(self, other):\n",
    "        other = self.validate(other)\n",
    "        if other:\n",
    "            return Mod(self.value + other.value, self.modulus)\n",
    "        else:\n",
    "            return NotImplemented\n",
    "        \n",
    "    def __sub__(self, other):\n",
    "        other = self.validate(other)\n",
    "        if other:\n",
    "            return Mod(self.value - other.value, self.modulus)\n",
    "        else:\n",
    "            return NotImplemented\n",
    "        \n",
    "    def __mul__(self, other):\n",
    "        other = self.validate(other)\n",
    "        if other:\n",
    "            return Mod(self.value * other.value, self.modulus)\n",
    "        else:\n",
    "            return NotImplemented\n",
    "        \n",
    "    def __pow__(self, other):\n",
    "        other = self.validate(other)\n",
    "        if other:\n",
    "            return Mod(self.value ** other.value, self.modulus)\n",
    "        else:\n",
    "            return NotImplemented\n",
    "        \n",
    "    def __iadd__(self, other):\n",
    "        other = self.validate(other)\n",
    "        if other:\n",
    "            self._value = self.value + other.value\n",
    "            return self\n",
    "        else:\n",
    "            return NotImplemented\n",
    "        \n",
    "    def __isub__(self, other):\n",
    "        other = self.validate(other)\n",
    "        if other:\n",
    "            self._value = self.value - other.value\n",
    "            return self\n",
    "        else:\n",
    "            return NotImplemented\n",
    "        \n",
    "    def __imul__(self, other):\n",
    "        other = self.validate(other)\n",
    "        if other:\n",
    "            self._value = self.value * other.value\n",
    "            return self\n",
    "        else:\n",
    "            return NotImplemented\n",
    "        \n",
    "    def __radd__(self, other):\n",
    "        return self + other\n",
    "    \n",
    "    def __rsub__(self, other):\n",
    "        return self - other\n",
    "    \n",
    "    def __rmul__(self, other):\n",
    "        return self * other\n",
    "    \n",
    "    def __hash__(self):\n",
    "        return hash((self.value, self.modulus))\n",
    "    \n",
    "    def __repr__(self):\n",
    "        return f'Mod(value={self.value}, modulus={self.modulus})'\n",
    "        \n",
    "    "
   ]
  },
  {
   "cell_type": "code",
   "execution_count": 146,
   "id": "smooth-steel",
   "metadata": {},
   "outputs": [],
   "source": [
    "m1 = Mod(1, 3)\n",
    "m2 = Mod(2, 3)"
   ]
  },
  {
   "cell_type": "code",
   "execution_count": 147,
   "id": "coastal-ethiopia",
   "metadata": {},
   "outputs": [
    {
     "name": "stdout",
     "output_type": "stream",
     "text": [
      "2775950701040\n",
      "Mod(value=2, modulus=3)\n",
      "2775950701040\n"
     ]
    }
   ],
   "source": [
    "print(id(m1))\n",
    "m1 *= m2\n",
    "print(m1)\n",
    "print(id(m1))"
   ]
  },
  {
   "cell_type": "code",
   "execution_count": 148,
   "id": "reduced-analyst",
   "metadata": {},
   "outputs": [
    {
     "data": {
      "text/plain": [
       "Mod(value=2, modulus=3)"
      ]
     },
     "execution_count": 148,
     "metadata": {},
     "output_type": "execute_result"
    }
   ],
   "source": [
    "m1"
   ]
  },
  {
   "cell_type": "code",
   "execution_count": 150,
   "id": "specific-timothy",
   "metadata": {},
   "outputs": [
    {
     "name": "stdout",
     "output_type": "stream",
     "text": [
      "2775950701040\n",
      "Mod(value=1, modulus=3)\n",
      "2775950701040\n"
     ]
    }
   ],
   "source": [
    "print(id(m1))\n",
    "m1 -= m2\n",
    "print(m1)\n",
    "print(id(m1))"
   ]
  },
  {
   "cell_type": "code",
   "execution_count": 151,
   "id": "laden-discount",
   "metadata": {},
   "outputs": [],
   "source": [
    "m1 += 2"
   ]
  },
  {
   "cell_type": "code",
   "execution_count": 152,
   "id": "advisory-davis",
   "metadata": {},
   "outputs": [
    {
     "data": {
      "text/plain": [
       "Mod(value=0, modulus=3)"
      ]
     },
     "execution_count": 152,
     "metadata": {},
     "output_type": "execute_result"
    }
   ],
   "source": [
    "m1"
   ]
  },
  {
   "cell_type": "code",
   "execution_count": 153,
   "id": "disturbed-credits",
   "metadata": {},
   "outputs": [],
   "source": [
    "class ModMismatch(ValueError):\n",
    "    pass\n",
    "\n",
    "\n",
    "class Mod:\n",
    "    def __init__(self, value, modulus):\n",
    "        if not isinstance(value, int):\n",
    "            raise ValueError('Value shoud be an integer')\n",
    "        if not (isinstance(modulus, int) and modulus > 0):\n",
    "            raise ValueError('Modulus must be a positive integer')\n",
    "        self._value = value\n",
    "        self._modulus = modulus\n",
    "        \n",
    "    @property\n",
    "    def value(self):\n",
    "        return self._value % self._modulus\n",
    "    \n",
    "    @property\n",
    "    def modulus(self):\n",
    "        return self._modulus\n",
    "    \n",
    "    def validate(self, other):\n",
    "        if isinstance(other, Mod):\n",
    "            if not(self.modulus == other.modulus):\n",
    "                raise ModMismatch('Modulus of the objects must be equal for comparision')\n",
    "            return other\n",
    "        elif isinstance(other, int):\n",
    "            return Mod(other, self.modulus)\n",
    "        else:\n",
    "            return False\n",
    "    \n",
    "    def __int__(self):\n",
    "        return self.value\n",
    "    \n",
    "    def __eq__(self, other):\n",
    "        other = self.validate(other)\n",
    "        if other:\n",
    "            return self.value == other.value\n",
    "        else:\n",
    "            return NotImplemented\n",
    "        \n",
    "    def __add__(self, other):\n",
    "        other = self.validate(other)\n",
    "        if other:\n",
    "            return Mod(self.value + other.value, self.modulus)\n",
    "        else:\n",
    "            return NotImplemented\n",
    "        \n",
    "    def __sub__(self, other):\n",
    "        other = self.validate(other)\n",
    "        if other:\n",
    "            return Mod(self.value - other.value, self.modulus)\n",
    "        else:\n",
    "            return NotImplemented\n",
    "        \n",
    "    def __mul__(self, other):\n",
    "        other = self.validate(other)\n",
    "        if other:\n",
    "            return Mod(self.value * other.value, self.modulus)\n",
    "        else:\n",
    "            return NotImplemented\n",
    "        \n",
    "    def __pow__(self, other):\n",
    "        other = self.validate(other)\n",
    "        if other:\n",
    "            return Mod(self.value ** other.value, self.modulus)\n",
    "        else:\n",
    "            return NotImplemented\n",
    "        \n",
    "    def __iadd__(self, other):\n",
    "        other = self.validate(other)\n",
    "        if other:\n",
    "            self._value = self.value + other.value\n",
    "            return self\n",
    "        else:\n",
    "            return NotImplemented\n",
    "        \n",
    "    def __isub__(self, other):\n",
    "        other = self.validate(other)\n",
    "        if other:\n",
    "            self._value = self.value - other.value\n",
    "            return self\n",
    "        else:\n",
    "            return NotImplemented\n",
    "        \n",
    "    def __imul__(self, other):\n",
    "        other = self.validate(other)\n",
    "        if other:\n",
    "            self._value = self.value * other.value\n",
    "            return self\n",
    "        else:\n",
    "            return NotImplemented\n",
    "        \n",
    "    def __ipow__(self, other):\n",
    "        other = self.validate(other)\n",
    "        if other:\n",
    "            self._value = self.value ** other.value\n",
    "            return self\n",
    "        else:\n",
    "            return NotImplemented\n",
    "        \n",
    "    def __radd__(self, other):\n",
    "        return self + other\n",
    "    \n",
    "    def __rsub__(self, other):\n",
    "        return self - other\n",
    "    \n",
    "    def __rmul__(self, other):\n",
    "        return self * other\n",
    "    \n",
    "    def __hash__(self):\n",
    "        return hash((self.value, self.modulus))\n",
    "    \n",
    "    def __repr__(self):\n",
    "        return f'Mod(value={self.value}, modulus={self.modulus})'\n",
    "        \n",
    "    "
   ]
  },
  {
   "cell_type": "code",
   "execution_count": 154,
   "id": "subject-mistress",
   "metadata": {},
   "outputs": [],
   "source": [
    "m1 = Mod(1, 3)\n",
    "m2 = Mod(2, 3)"
   ]
  },
  {
   "cell_type": "code",
   "execution_count": 155,
   "id": "hidden-image",
   "metadata": {},
   "outputs": [
    {
     "name": "stdout",
     "output_type": "stream",
     "text": [
      "2775948697120\n",
      "Mod(value=1, modulus=3)\n",
      "2775948697120\n"
     ]
    }
   ],
   "source": [
    "print(id(m1))\n",
    "m1 **= m2\n",
    "print(m1)\n",
    "print(id(m1))"
   ]
  },
  {
   "cell_type": "code",
   "execution_count": 156,
   "id": "outer-journalism",
   "metadata": {},
   "outputs": [],
   "source": [
    "class ModMismatch(ValueError):\n",
    "    pass\n",
    "\n",
    "\n",
    "class Mod:\n",
    "    def __init__(self, value, modulus):\n",
    "        if not isinstance(value, int):\n",
    "            raise ValueError('Value shoud be an integer')\n",
    "        if not (isinstance(modulus, int) and modulus > 0):\n",
    "            raise ValueError('Modulus must be a positive integer')\n",
    "        self._value = value\n",
    "        self._modulus = modulus\n",
    "        \n",
    "    @property\n",
    "    def value(self):\n",
    "        return self._value % self._modulus\n",
    "    \n",
    "    @property\n",
    "    def modulus(self):\n",
    "        return self._modulus\n",
    "    \n",
    "    def validate(self, other):\n",
    "        if isinstance(other, Mod):\n",
    "            if not(self.modulus == other.modulus):\n",
    "                raise ModMismatch('Modulus of the objects must be equal for comparision')\n",
    "            return other\n",
    "        elif isinstance(other, int):\n",
    "            return Mod(other, self.modulus)\n",
    "        else:\n",
    "            return False\n",
    "    \n",
    "    def __int__(self):\n",
    "        return self.value\n",
    "    \n",
    "    def __eq__(self, other):\n",
    "        other = self.validate(other)\n",
    "        if other:\n",
    "            return self.value == other.value\n",
    "        else:\n",
    "            return NotImplemented\n",
    "        \n",
    "    def __lt__(self, other):\n",
    "        other = self.validate(other)\n",
    "        if other:\n",
    "            return self.value < other.value\n",
    "        else:\n",
    "            return NotImplemented\n",
    "        \n",
    "    def __gt__(self, other):\n",
    "        other = self.validate(other)\n",
    "        if other:\n",
    "            return self.value > other.value\n",
    "        else:\n",
    "            return NotImplemented\n",
    "        \n",
    "    def __le__(self, other):\n",
    "        return self == other or self < other\n",
    "    \n",
    "    def __ge__(self, other):\n",
    "        return self == other or self > other\n",
    "        \n",
    "    def __ne__(self, other):\n",
    "        return not(self == other)\n",
    "        \n",
    "    def __add__(self, other):\n",
    "        other = self.validate(other)\n",
    "        if other:\n",
    "            return Mod(self.value + other.value, self.modulus)\n",
    "        else:\n",
    "            return NotImplemented\n",
    "        \n",
    "    def __sub__(self, other):\n",
    "        other = self.validate(other)\n",
    "        if other:\n",
    "            return Mod(self.value - other.value, self.modulus)\n",
    "        else:\n",
    "            return NotImplemented\n",
    "        \n",
    "    def __mul__(self, other):\n",
    "        other = self.validate(other)\n",
    "        if other:\n",
    "            return Mod(self.value * other.value, self.modulus)\n",
    "        else:\n",
    "            return NotImplemented\n",
    "        \n",
    "    def __pow__(self, other):\n",
    "        other = self.validate(other)\n",
    "        if other:\n",
    "            return Mod(self.value ** other.value, self.modulus)\n",
    "        else:\n",
    "            return NotImplemented\n",
    "        \n",
    "    def __iadd__(self, other):\n",
    "        other = self.validate(other)\n",
    "        if other:\n",
    "            self._value = self.value + other.value\n",
    "            return self\n",
    "        else:\n",
    "            return NotImplemented\n",
    "        \n",
    "    def __isub__(self, other):\n",
    "        other = self.validate(other)\n",
    "        if other:\n",
    "            self._value = self.value - other.value\n",
    "            return self\n",
    "        else:\n",
    "            return NotImplemented\n",
    "        \n",
    "    def __imul__(self, other):\n",
    "        other = self.validate(other)\n",
    "        if other:\n",
    "            self._value = self.value * other.value\n",
    "            return self\n",
    "        else:\n",
    "            return NotImplemented\n",
    "        \n",
    "    def __ipow__(self, other):\n",
    "        other = self.validate(other)\n",
    "        if other:\n",
    "            self._value = self.value ** other.value\n",
    "            return self\n",
    "        else:\n",
    "            return NotImplemented\n",
    "        \n",
    "    def __radd__(self, other):\n",
    "        return self + other\n",
    "    \n",
    "    def __rsub__(self, other):\n",
    "        return self - other\n",
    "    \n",
    "    def __rmul__(self, other):\n",
    "        return self * other\n",
    "    \n",
    "    def __hash__(self):\n",
    "        return hash((self.value, self.modulus))\n",
    "    \n",
    "    def __repr__(self):\n",
    "        return f'Mod(value={self.value}, modulus={self.modulus})'\n",
    "        \n",
    "    "
   ]
  },
  {
   "cell_type": "code",
   "execution_count": 157,
   "id": "processed-labor",
   "metadata": {},
   "outputs": [],
   "source": [
    "m1 = Mod(1, 3)\n",
    "m2 = Mod(2, 3)\n",
    "m3 = Mod(4, 3)\n",
    "m4 = Mod(1, 2)"
   ]
  },
  {
   "cell_type": "code",
   "execution_count": 158,
   "id": "revised-sleeping",
   "metadata": {},
   "outputs": [
    {
     "data": {
      "text/plain": [
       "True"
      ]
     },
     "execution_count": 158,
     "metadata": {},
     "output_type": "execute_result"
    }
   ],
   "source": [
    "m1 == m3"
   ]
  },
  {
   "cell_type": "code",
   "execution_count": 159,
   "id": "direct-forest",
   "metadata": {},
   "outputs": [
    {
     "data": {
      "text/plain": [
       "False"
      ]
     },
     "execution_count": 159,
     "metadata": {},
     "output_type": "execute_result"
    }
   ],
   "source": [
    "m2 == m1"
   ]
  },
  {
   "cell_type": "code",
   "execution_count": 160,
   "id": "extra-funds",
   "metadata": {},
   "outputs": [
    {
     "ename": "ModMismatch",
     "evalue": "Modulus of the objects must be equal for comparision",
     "output_type": "error",
     "traceback": [
      "\u001b[1;31m---------------------------------------------------------------------------\u001b[0m",
      "\u001b[1;31mModMismatch\u001b[0m                               Traceback (most recent call last)",
      "\u001b[1;32m<ipython-input-160-efb12560c840>\u001b[0m in \u001b[0;36m<module>\u001b[1;34m\u001b[0m\n\u001b[1;32m----> 1\u001b[1;33m \u001b[0mm1\u001b[0m \u001b[1;33m==\u001b[0m \u001b[0mm4\u001b[0m\u001b[1;33m\u001b[0m\u001b[1;33m\u001b[0m\u001b[0m\n\u001b[0m",
      "\u001b[1;32m<ipython-input-156-c8e5c8ef2863>\u001b[0m in \u001b[0;36m__eq__\u001b[1;34m(self, other)\u001b[0m\n\u001b[0;32m     34\u001b[0m \u001b[1;33m\u001b[0m\u001b[0m\n\u001b[0;32m     35\u001b[0m     \u001b[1;32mdef\u001b[0m \u001b[0m__eq__\u001b[0m\u001b[1;33m(\u001b[0m\u001b[0mself\u001b[0m\u001b[1;33m,\u001b[0m \u001b[0mother\u001b[0m\u001b[1;33m)\u001b[0m\u001b[1;33m:\u001b[0m\u001b[1;33m\u001b[0m\u001b[1;33m\u001b[0m\u001b[0m\n\u001b[1;32m---> 36\u001b[1;33m         \u001b[0mother\u001b[0m \u001b[1;33m=\u001b[0m \u001b[0mself\u001b[0m\u001b[1;33m.\u001b[0m\u001b[0mvalidate\u001b[0m\u001b[1;33m(\u001b[0m\u001b[0mother\u001b[0m\u001b[1;33m)\u001b[0m\u001b[1;33m\u001b[0m\u001b[1;33m\u001b[0m\u001b[0m\n\u001b[0m\u001b[0;32m     37\u001b[0m         \u001b[1;32mif\u001b[0m \u001b[0mother\u001b[0m\u001b[1;33m:\u001b[0m\u001b[1;33m\u001b[0m\u001b[1;33m\u001b[0m\u001b[0m\n\u001b[0;32m     38\u001b[0m             \u001b[1;32mreturn\u001b[0m \u001b[0mself\u001b[0m\u001b[1;33m.\u001b[0m\u001b[0mvalue\u001b[0m \u001b[1;33m==\u001b[0m \u001b[0mother\u001b[0m\u001b[1;33m.\u001b[0m\u001b[0mvalue\u001b[0m\u001b[1;33m\u001b[0m\u001b[1;33m\u001b[0m\u001b[0m\n",
      "\u001b[1;32m<ipython-input-156-c8e5c8ef2863>\u001b[0m in \u001b[0;36mvalidate\u001b[1;34m(self, other)\u001b[0m\n\u001b[0;32m     23\u001b[0m         \u001b[1;32mif\u001b[0m \u001b[0misinstance\u001b[0m\u001b[1;33m(\u001b[0m\u001b[0mother\u001b[0m\u001b[1;33m,\u001b[0m \u001b[0mMod\u001b[0m\u001b[1;33m)\u001b[0m\u001b[1;33m:\u001b[0m\u001b[1;33m\u001b[0m\u001b[1;33m\u001b[0m\u001b[0m\n\u001b[0;32m     24\u001b[0m             \u001b[1;32mif\u001b[0m \u001b[1;32mnot\u001b[0m\u001b[1;33m(\u001b[0m\u001b[0mself\u001b[0m\u001b[1;33m.\u001b[0m\u001b[0mmodulus\u001b[0m \u001b[1;33m==\u001b[0m \u001b[0mother\u001b[0m\u001b[1;33m.\u001b[0m\u001b[0mmodulus\u001b[0m\u001b[1;33m)\u001b[0m\u001b[1;33m:\u001b[0m\u001b[1;33m\u001b[0m\u001b[1;33m\u001b[0m\u001b[0m\n\u001b[1;32m---> 25\u001b[1;33m                 \u001b[1;32mraise\u001b[0m \u001b[0mModMismatch\u001b[0m\u001b[1;33m(\u001b[0m\u001b[1;34m'Modulus of the objects must be equal for comparision'\u001b[0m\u001b[1;33m)\u001b[0m\u001b[1;33m\u001b[0m\u001b[1;33m\u001b[0m\u001b[0m\n\u001b[0m\u001b[0;32m     26\u001b[0m             \u001b[1;32mreturn\u001b[0m \u001b[0mother\u001b[0m\u001b[1;33m\u001b[0m\u001b[1;33m\u001b[0m\u001b[0m\n\u001b[0;32m     27\u001b[0m         \u001b[1;32melif\u001b[0m \u001b[0misinstance\u001b[0m\u001b[1;33m(\u001b[0m\u001b[0mother\u001b[0m\u001b[1;33m,\u001b[0m \u001b[0mint\u001b[0m\u001b[1;33m)\u001b[0m\u001b[1;33m:\u001b[0m\u001b[1;33m\u001b[0m\u001b[1;33m\u001b[0m\u001b[0m\n",
      "\u001b[1;31mModMismatch\u001b[0m: Modulus of the objects must be equal for comparision"
     ]
    }
   ],
   "source": [
    "m1 == m4"
   ]
  },
  {
   "cell_type": "code",
   "execution_count": 161,
   "id": "animated-rwanda",
   "metadata": {},
   "outputs": [
    {
     "data": {
      "text/plain": [
       "False"
      ]
     },
     "execution_count": 161,
     "metadata": {},
     "output_type": "execute_result"
    }
   ],
   "source": [
    "m1 != m3"
   ]
  },
  {
   "cell_type": "code",
   "execution_count": 162,
   "id": "painful-society",
   "metadata": {},
   "outputs": [
    {
     "ename": "ModMismatch",
     "evalue": "Modulus of the objects must be equal for comparision",
     "output_type": "error",
     "traceback": [
      "\u001b[1;31m---------------------------------------------------------------------------\u001b[0m",
      "\u001b[1;31mModMismatch\u001b[0m                               Traceback (most recent call last)",
      "\u001b[1;32m<ipython-input-162-c2aed28ebf7a>\u001b[0m in \u001b[0;36m<module>\u001b[1;34m\u001b[0m\n\u001b[1;32m----> 1\u001b[1;33m \u001b[0mm1\u001b[0m \u001b[1;33m!=\u001b[0m \u001b[0mm4\u001b[0m\u001b[1;33m\u001b[0m\u001b[1;33m\u001b[0m\u001b[0m\n\u001b[0m",
      "\u001b[1;32m<ipython-input-156-c8e5c8ef2863>\u001b[0m in \u001b[0;36m__ne__\u001b[1;34m(self, other)\u001b[0m\n\u001b[0;32m     61\u001b[0m \u001b[1;33m\u001b[0m\u001b[0m\n\u001b[0;32m     62\u001b[0m     \u001b[1;32mdef\u001b[0m \u001b[0m__ne__\u001b[0m\u001b[1;33m(\u001b[0m\u001b[0mself\u001b[0m\u001b[1;33m,\u001b[0m \u001b[0mother\u001b[0m\u001b[1;33m)\u001b[0m\u001b[1;33m:\u001b[0m\u001b[1;33m\u001b[0m\u001b[1;33m\u001b[0m\u001b[0m\n\u001b[1;32m---> 63\u001b[1;33m         \u001b[1;32mreturn\u001b[0m \u001b[1;32mnot\u001b[0m\u001b[1;33m(\u001b[0m\u001b[0mself\u001b[0m \u001b[1;33m==\u001b[0m \u001b[0mother\u001b[0m\u001b[1;33m)\u001b[0m\u001b[1;33m\u001b[0m\u001b[1;33m\u001b[0m\u001b[0m\n\u001b[0m\u001b[0;32m     64\u001b[0m \u001b[1;33m\u001b[0m\u001b[0m\n\u001b[0;32m     65\u001b[0m     \u001b[1;32mdef\u001b[0m \u001b[0m__add__\u001b[0m\u001b[1;33m(\u001b[0m\u001b[0mself\u001b[0m\u001b[1;33m,\u001b[0m \u001b[0mother\u001b[0m\u001b[1;33m)\u001b[0m\u001b[1;33m:\u001b[0m\u001b[1;33m\u001b[0m\u001b[1;33m\u001b[0m\u001b[0m\n",
      "\u001b[1;32m<ipython-input-156-c8e5c8ef2863>\u001b[0m in \u001b[0;36m__eq__\u001b[1;34m(self, other)\u001b[0m\n\u001b[0;32m     34\u001b[0m \u001b[1;33m\u001b[0m\u001b[0m\n\u001b[0;32m     35\u001b[0m     \u001b[1;32mdef\u001b[0m \u001b[0m__eq__\u001b[0m\u001b[1;33m(\u001b[0m\u001b[0mself\u001b[0m\u001b[1;33m,\u001b[0m \u001b[0mother\u001b[0m\u001b[1;33m)\u001b[0m\u001b[1;33m:\u001b[0m\u001b[1;33m\u001b[0m\u001b[1;33m\u001b[0m\u001b[0m\n\u001b[1;32m---> 36\u001b[1;33m         \u001b[0mother\u001b[0m \u001b[1;33m=\u001b[0m \u001b[0mself\u001b[0m\u001b[1;33m.\u001b[0m\u001b[0mvalidate\u001b[0m\u001b[1;33m(\u001b[0m\u001b[0mother\u001b[0m\u001b[1;33m)\u001b[0m\u001b[1;33m\u001b[0m\u001b[1;33m\u001b[0m\u001b[0m\n\u001b[0m\u001b[0;32m     37\u001b[0m         \u001b[1;32mif\u001b[0m \u001b[0mother\u001b[0m\u001b[1;33m:\u001b[0m\u001b[1;33m\u001b[0m\u001b[1;33m\u001b[0m\u001b[0m\n\u001b[0;32m     38\u001b[0m             \u001b[1;32mreturn\u001b[0m \u001b[0mself\u001b[0m\u001b[1;33m.\u001b[0m\u001b[0mvalue\u001b[0m \u001b[1;33m==\u001b[0m \u001b[0mother\u001b[0m\u001b[1;33m.\u001b[0m\u001b[0mvalue\u001b[0m\u001b[1;33m\u001b[0m\u001b[1;33m\u001b[0m\u001b[0m\n",
      "\u001b[1;32m<ipython-input-156-c8e5c8ef2863>\u001b[0m in \u001b[0;36mvalidate\u001b[1;34m(self, other)\u001b[0m\n\u001b[0;32m     23\u001b[0m         \u001b[1;32mif\u001b[0m \u001b[0misinstance\u001b[0m\u001b[1;33m(\u001b[0m\u001b[0mother\u001b[0m\u001b[1;33m,\u001b[0m \u001b[0mMod\u001b[0m\u001b[1;33m)\u001b[0m\u001b[1;33m:\u001b[0m\u001b[1;33m\u001b[0m\u001b[1;33m\u001b[0m\u001b[0m\n\u001b[0;32m     24\u001b[0m             \u001b[1;32mif\u001b[0m \u001b[1;32mnot\u001b[0m\u001b[1;33m(\u001b[0m\u001b[0mself\u001b[0m\u001b[1;33m.\u001b[0m\u001b[0mmodulus\u001b[0m \u001b[1;33m==\u001b[0m \u001b[0mother\u001b[0m\u001b[1;33m.\u001b[0m\u001b[0mmodulus\u001b[0m\u001b[1;33m)\u001b[0m\u001b[1;33m:\u001b[0m\u001b[1;33m\u001b[0m\u001b[1;33m\u001b[0m\u001b[0m\n\u001b[1;32m---> 25\u001b[1;33m                 \u001b[1;32mraise\u001b[0m \u001b[0mModMismatch\u001b[0m\u001b[1;33m(\u001b[0m\u001b[1;34m'Modulus of the objects must be equal for comparision'\u001b[0m\u001b[1;33m)\u001b[0m\u001b[1;33m\u001b[0m\u001b[1;33m\u001b[0m\u001b[0m\n\u001b[0m\u001b[0;32m     26\u001b[0m             \u001b[1;32mreturn\u001b[0m \u001b[0mother\u001b[0m\u001b[1;33m\u001b[0m\u001b[1;33m\u001b[0m\u001b[0m\n\u001b[0;32m     27\u001b[0m         \u001b[1;32melif\u001b[0m \u001b[0misinstance\u001b[0m\u001b[1;33m(\u001b[0m\u001b[0mother\u001b[0m\u001b[1;33m,\u001b[0m \u001b[0mint\u001b[0m\u001b[1;33m)\u001b[0m\u001b[1;33m:\u001b[0m\u001b[1;33m\u001b[0m\u001b[1;33m\u001b[0m\u001b[0m\n",
      "\u001b[1;31mModMismatch\u001b[0m: Modulus of the objects must be equal for comparision"
     ]
    }
   ],
   "source": [
    "m1 != m4"
   ]
  },
  {
   "cell_type": "code",
   "execution_count": 163,
   "id": "fixed-anxiety",
   "metadata": {},
   "outputs": [
    {
     "data": {
      "text/plain": [
       "True"
      ]
     },
     "execution_count": 163,
     "metadata": {},
     "output_type": "execute_result"
    }
   ],
   "source": [
    "m1 < m2"
   ]
  },
  {
   "cell_type": "code",
   "execution_count": 164,
   "id": "detailed-piano",
   "metadata": {},
   "outputs": [
    {
     "data": {
      "text/plain": [
       "False"
      ]
     },
     "execution_count": 164,
     "metadata": {},
     "output_type": "execute_result"
    }
   ],
   "source": [
    "m1 > m2"
   ]
  },
  {
   "cell_type": "code",
   "execution_count": 165,
   "id": "laughing-utilization",
   "metadata": {},
   "outputs": [
    {
     "data": {
      "text/plain": [
       "True"
      ]
     },
     "execution_count": 165,
     "metadata": {},
     "output_type": "execute_result"
    }
   ],
   "source": [
    "m2 > m1"
   ]
  },
  {
   "cell_type": "code",
   "execution_count": 166,
   "id": "joint-second",
   "metadata": {},
   "outputs": [
    {
     "data": {
      "text/plain": [
       "True"
      ]
     },
     "execution_count": 166,
     "metadata": {},
     "output_type": "execute_result"
    }
   ],
   "source": [
    "m1 <= m2"
   ]
  },
  {
   "cell_type": "code",
   "execution_count": 167,
   "id": "compact-mason",
   "metadata": {},
   "outputs": [
    {
     "data": {
      "text/plain": [
       "False"
      ]
     },
     "execution_count": 167,
     "metadata": {},
     "output_type": "execute_result"
    }
   ],
   "source": [
    "m1 < m3"
   ]
  },
  {
   "cell_type": "code",
   "execution_count": 168,
   "id": "interim-present",
   "metadata": {},
   "outputs": [
    {
     "data": {
      "text/plain": [
       "True"
      ]
     },
     "execution_count": 168,
     "metadata": {},
     "output_type": "execute_result"
    }
   ],
   "source": [
    "m1 <= m3"
   ]
  },
  {
   "cell_type": "code",
   "execution_count": 169,
   "id": "numerical-national",
   "metadata": {},
   "outputs": [
    {
     "data": {
      "text/plain": [
       "False"
      ]
     },
     "execution_count": 169,
     "metadata": {},
     "output_type": "execute_result"
    }
   ],
   "source": [
    "m3 > m1"
   ]
  },
  {
   "cell_type": "code",
   "execution_count": 170,
   "id": "substantial-subscription",
   "metadata": {},
   "outputs": [
    {
     "data": {
      "text/plain": [
       "False"
      ]
     },
     "execution_count": 170,
     "metadata": {},
     "output_type": "execute_result"
    }
   ],
   "source": [
    "m3 >= m2"
   ]
  },
  {
   "cell_type": "code",
   "execution_count": 171,
   "id": "composed-directive",
   "metadata": {},
   "outputs": [
    {
     "data": {
      "text/plain": [
       "True"
      ]
     },
     "execution_count": 171,
     "metadata": {},
     "output_type": "execute_result"
    }
   ],
   "source": [
    "m2 >= m1"
   ]
  },
  {
   "cell_type": "code",
   "execution_count": null,
   "id": "romantic-suffering",
   "metadata": {},
   "outputs": [],
   "source": []
  }
 ],
 "metadata": {
  "kernelspec": {
   "display_name": "Python 3",
   "language": "python",
   "name": "python3"
  },
  "language_info": {
   "codemirror_mode": {
    "name": "ipython",
    "version": 3
   },
   "file_extension": ".py",
   "mimetype": "text/x-python",
   "name": "python",
   "nbconvert_exporter": "python",
   "pygments_lexer": "ipython3",
   "version": "3.9.1"
  }
 },
 "nbformat": 4,
 "nbformat_minor": 5
}
