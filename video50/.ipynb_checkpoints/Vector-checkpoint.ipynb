{
 "cells": [
  {
   "cell_type": "code",
   "execution_count": 1,
   "id": "fabulous-enlargement",
   "metadata": {},
   "outputs": [],
   "source": [
    "from numbers import Real"
   ]
  },
  {
   "cell_type": "code",
   "execution_count": 2,
   "id": "dressed-examination",
   "metadata": {},
   "outputs": [],
   "source": [
    "class Vector:\n",
    "    def __init__(self, *components):\n",
    "        if len(components) < 1:\n",
    "            raise ValueError('Cannot create an empty Vector')\n",
    "        for component in components:\n",
    "            if not isinstance(component, Real):\n",
    "                raise ValueError('All the components must be real numbers')\n",
    "        self._components = tuple(components)\n",
    "        \n",
    "    @property\n",
    "    def components(self):\n",
    "        return self._components\n",
    "    \n",
    "    def __len__(self):\n",
    "        return len(self._components)\n",
    "    \n",
    "    def __repr__(self):\n",
    "        return f'Vector{self._components}'"
   ]
  },
  {
   "cell_type": "code",
   "execution_count": 3,
   "id": "swedish-grove",
   "metadata": {},
   "outputs": [],
   "source": [
    "v1 = Vector(1, 2)"
   ]
  },
  {
   "cell_type": "code",
   "execution_count": 4,
   "id": "israeli-contribution",
   "metadata": {},
   "outputs": [
    {
     "data": {
      "text/plain": [
       "(1, 2)"
      ]
     },
     "execution_count": 4,
     "metadata": {},
     "output_type": "execute_result"
    }
   ],
   "source": [
    "v1.components"
   ]
  },
  {
   "cell_type": "code",
   "execution_count": 5,
   "id": "published-gilbert",
   "metadata": {},
   "outputs": [
    {
     "data": {
      "text/plain": [
       "2"
      ]
     },
     "execution_count": 5,
     "metadata": {},
     "output_type": "execute_result"
    }
   ],
   "source": [
    "len(v1)"
   ]
  },
  {
   "cell_type": "code",
   "execution_count": 6,
   "id": "worth-diabetes",
   "metadata": {},
   "outputs": [
    {
     "data": {
      "text/plain": [
       "Vector(1, 2)"
      ]
     },
     "execution_count": 6,
     "metadata": {},
     "output_type": "execute_result"
    }
   ],
   "source": [
    "v1"
   ]
  },
  {
   "cell_type": "code",
   "execution_count": 7,
   "id": "measured-webster",
   "metadata": {},
   "outputs": [
    {
     "ename": "ValueError",
     "evalue": "All the components must be real numbers",
     "output_type": "error",
     "traceback": [
      "\u001b[1;31m---------------------------------------------------------------------------\u001b[0m",
      "\u001b[1;31mValueError\u001b[0m                                Traceback (most recent call last)",
      "\u001b[1;32m<ipython-input-7-87ef1ce82419>\u001b[0m in \u001b[0;36m<module>\u001b[1;34m\u001b[0m\n\u001b[1;32m----> 1\u001b[1;33m \u001b[0mv1\u001b[0m \u001b[1;33m=\u001b[0m \u001b[0mVector\u001b[0m\u001b[1;33m(\u001b[0m\u001b[1;33m-\u001b[0m\u001b[1;36m10\u001b[0m\u001b[1;33m+\u001b[0m\u001b[1;36m3j\u001b[0m\u001b[1;33m,\u001b[0m \u001b[1;36m2\u001b[0m\u001b[1;33m)\u001b[0m\u001b[1;33m\u001b[0m\u001b[1;33m\u001b[0m\u001b[0m\n\u001b[0m",
      "\u001b[1;32m<ipython-input-2-5c53f9898f11>\u001b[0m in \u001b[0;36m__init__\u001b[1;34m(self, *components)\u001b[0m\n\u001b[0;32m      5\u001b[0m         \u001b[1;32mfor\u001b[0m \u001b[0mcomponent\u001b[0m \u001b[1;32min\u001b[0m \u001b[0mcomponents\u001b[0m\u001b[1;33m:\u001b[0m\u001b[1;33m\u001b[0m\u001b[1;33m\u001b[0m\u001b[0m\n\u001b[0;32m      6\u001b[0m             \u001b[1;32mif\u001b[0m \u001b[1;32mnot\u001b[0m \u001b[0misinstance\u001b[0m\u001b[1;33m(\u001b[0m\u001b[0mcomponent\u001b[0m\u001b[1;33m,\u001b[0m \u001b[0mReal\u001b[0m\u001b[1;33m)\u001b[0m\u001b[1;33m:\u001b[0m\u001b[1;33m\u001b[0m\u001b[1;33m\u001b[0m\u001b[0m\n\u001b[1;32m----> 7\u001b[1;33m                 \u001b[1;32mraise\u001b[0m \u001b[0mValueError\u001b[0m\u001b[1;33m(\u001b[0m\u001b[1;34m'All the components must be real numbers'\u001b[0m\u001b[1;33m)\u001b[0m\u001b[1;33m\u001b[0m\u001b[1;33m\u001b[0m\u001b[0m\n\u001b[0m\u001b[0;32m      8\u001b[0m         \u001b[0mself\u001b[0m\u001b[1;33m.\u001b[0m\u001b[0m_components\u001b[0m \u001b[1;33m=\u001b[0m \u001b[0mtuple\u001b[0m\u001b[1;33m(\u001b[0m\u001b[0mcomponents\u001b[0m\u001b[1;33m)\u001b[0m\u001b[1;33m\u001b[0m\u001b[1;33m\u001b[0m\u001b[0m\n\u001b[0;32m      9\u001b[0m \u001b[1;33m\u001b[0m\u001b[0m\n",
      "\u001b[1;31mValueError\u001b[0m: All the components must be real numbers"
     ]
    }
   ],
   "source": [
    "v1 = Vector(-10+3j, 2)"
   ]
  },
  {
   "cell_type": "code",
   "execution_count": 8,
   "id": "adequate-refund",
   "metadata": {},
   "outputs": [
    {
     "ename": "ValueError",
     "evalue": "Cannot create an empty Vector",
     "output_type": "error",
     "traceback": [
      "\u001b[1;31m---------------------------------------------------------------------------\u001b[0m",
      "\u001b[1;31mValueError\u001b[0m                                Traceback (most recent call last)",
      "\u001b[1;32m<ipython-input-8-def8719aff64>\u001b[0m in \u001b[0;36m<module>\u001b[1;34m\u001b[0m\n\u001b[1;32m----> 1\u001b[1;33m \u001b[0mv1\u001b[0m \u001b[1;33m=\u001b[0m \u001b[0mVector\u001b[0m\u001b[1;33m(\u001b[0m\u001b[1;33m)\u001b[0m\u001b[1;33m\u001b[0m\u001b[1;33m\u001b[0m\u001b[0m\n\u001b[0m",
      "\u001b[1;32m<ipython-input-2-5c53f9898f11>\u001b[0m in \u001b[0;36m__init__\u001b[1;34m(self, *components)\u001b[0m\n\u001b[0;32m      2\u001b[0m     \u001b[1;32mdef\u001b[0m \u001b[0m__init__\u001b[0m\u001b[1;33m(\u001b[0m\u001b[0mself\u001b[0m\u001b[1;33m,\u001b[0m \u001b[1;33m*\u001b[0m\u001b[0mcomponents\u001b[0m\u001b[1;33m)\u001b[0m\u001b[1;33m:\u001b[0m\u001b[1;33m\u001b[0m\u001b[1;33m\u001b[0m\u001b[0m\n\u001b[0;32m      3\u001b[0m         \u001b[1;32mif\u001b[0m \u001b[0mlen\u001b[0m\u001b[1;33m(\u001b[0m\u001b[0mcomponents\u001b[0m\u001b[1;33m)\u001b[0m \u001b[1;33m<\u001b[0m \u001b[1;36m1\u001b[0m\u001b[1;33m:\u001b[0m\u001b[1;33m\u001b[0m\u001b[1;33m\u001b[0m\u001b[0m\n\u001b[1;32m----> 4\u001b[1;33m             \u001b[1;32mraise\u001b[0m \u001b[0mValueError\u001b[0m\u001b[1;33m(\u001b[0m\u001b[1;34m'Cannot create an empty Vector'\u001b[0m\u001b[1;33m)\u001b[0m\u001b[1;33m\u001b[0m\u001b[1;33m\u001b[0m\u001b[0m\n\u001b[0m\u001b[0;32m      5\u001b[0m         \u001b[1;32mfor\u001b[0m \u001b[0mcomponent\u001b[0m \u001b[1;32min\u001b[0m \u001b[0mcomponents\u001b[0m\u001b[1;33m:\u001b[0m\u001b[1;33m\u001b[0m\u001b[1;33m\u001b[0m\u001b[0m\n\u001b[0;32m      6\u001b[0m             \u001b[1;32mif\u001b[0m \u001b[1;32mnot\u001b[0m \u001b[0misinstance\u001b[0m\u001b[1;33m(\u001b[0m\u001b[0mcomponent\u001b[0m\u001b[1;33m,\u001b[0m \u001b[0mReal\u001b[0m\u001b[1;33m)\u001b[0m\u001b[1;33m:\u001b[0m\u001b[1;33m\u001b[0m\u001b[1;33m\u001b[0m\u001b[0m\n",
      "\u001b[1;31mValueError\u001b[0m: Cannot create an empty Vector"
     ]
    }
   ],
   "source": [
    "v1 = Vector()"
   ]
  },
  {
   "cell_type": "code",
   "execution_count": 24,
   "id": "meaningful-collect",
   "metadata": {},
   "outputs": [],
   "source": [
    "\n",
    "class VectorMismatch(Exception):\n",
    "    pass\n",
    "\n",
    "\n",
    "class Vector:\n",
    "    def __init__(self, *components):\n",
    "        if len(components) < 1:\n",
    "            raise ValueError('Cannot create an empty Vector')\n",
    "        for component in components:\n",
    "            if not isinstance(component, Real):\n",
    "                raise ValueError('All the components must be real numbers')\n",
    "        self._components = tuple(components)\n",
    "        \n",
    "    @property\n",
    "    def components(self):\n",
    "        return self._components\n",
    "    \n",
    "    def validate(self, other):\n",
    "        if not isinstance(other, Vector):\n",
    "            return False\n",
    "        elif len(self) != len(other):\n",
    "            raise VectorMismatch('Vectors must be of same length')\n",
    "        else:\n",
    "            return True\n",
    "    \n",
    "    def __add__(self, other):\n",
    "        if not self.validate(other):\n",
    "            return NotImplemented\n",
    "        return Vector(*(x + y \n",
    "                        for x, y in zip(self.components, other.components)))\n",
    "    \n",
    "    def __sub__(self, other):\n",
    "        if not self.validate(other):\n",
    "            return NotImplemented\n",
    "        return Vector(*(x - y \n",
    "                        for x, y in zip(self.components, other.components)))\n",
    "    \n",
    "    \n",
    "    def __len__(self):\n",
    "        return len(self._components)\n",
    "    \n",
    "    def __repr__(self):\n",
    "        return f'Vector{self._components}'"
   ]
  },
  {
   "cell_type": "code",
   "execution_count": 25,
   "id": "assumed-necessity",
   "metadata": {},
   "outputs": [],
   "source": [
    "v1 = Vector(1, 2, 3)\n",
    "v2 = Vector(4, 5, 6)\n",
    "v3 = Vector(7, 8)"
   ]
  },
  {
   "cell_type": "code",
   "execution_count": 26,
   "id": "virtual-memorabilia",
   "metadata": {},
   "outputs": [
    {
     "data": {
      "text/plain": [
       "Vector(5, 7, 9)"
      ]
     },
     "execution_count": 26,
     "metadata": {},
     "output_type": "execute_result"
    }
   ],
   "source": [
    "v1 + v2"
   ]
  },
  {
   "cell_type": "code",
   "execution_count": 27,
   "id": "incident-chambers",
   "metadata": {},
   "outputs": [
    {
     "ename": "VectorMismatch",
     "evalue": "Vectors must be of same length",
     "output_type": "error",
     "traceback": [
      "\u001b[1;31m---------------------------------------------------------------------------\u001b[0m",
      "\u001b[1;31mVectorMismatch\u001b[0m                            Traceback (most recent call last)",
      "\u001b[1;32m<ipython-input-27-2c30cb702075>\u001b[0m in \u001b[0;36m<module>\u001b[1;34m\u001b[0m\n\u001b[1;32m----> 1\u001b[1;33m \u001b[0mv1\u001b[0m \u001b[1;33m+\u001b[0m \u001b[0mv3\u001b[0m\u001b[1;33m\u001b[0m\u001b[1;33m\u001b[0m\u001b[0m\n\u001b[0m",
      "\u001b[1;32m<ipython-input-24-8247f55f7e70>\u001b[0m in \u001b[0;36m__add__\u001b[1;34m(self, other)\u001b[0m\n\u001b[0;32m     25\u001b[0m \u001b[1;33m\u001b[0m\u001b[0m\n\u001b[0;32m     26\u001b[0m     \u001b[1;32mdef\u001b[0m \u001b[0m__add__\u001b[0m\u001b[1;33m(\u001b[0m\u001b[0mself\u001b[0m\u001b[1;33m,\u001b[0m \u001b[0mother\u001b[0m\u001b[1;33m)\u001b[0m\u001b[1;33m:\u001b[0m\u001b[1;33m\u001b[0m\u001b[1;33m\u001b[0m\u001b[0m\n\u001b[1;32m---> 27\u001b[1;33m         \u001b[1;32mif\u001b[0m \u001b[1;32mnot\u001b[0m \u001b[0mself\u001b[0m\u001b[1;33m.\u001b[0m\u001b[0mvalidate\u001b[0m\u001b[1;33m(\u001b[0m\u001b[0mother\u001b[0m\u001b[1;33m)\u001b[0m\u001b[1;33m:\u001b[0m\u001b[1;33m\u001b[0m\u001b[1;33m\u001b[0m\u001b[0m\n\u001b[0m\u001b[0;32m     28\u001b[0m             \u001b[1;32mreturn\u001b[0m \u001b[0mNotImplemented\u001b[0m\u001b[1;33m\u001b[0m\u001b[1;33m\u001b[0m\u001b[0m\n\u001b[0;32m     29\u001b[0m         return Vector(*(x + y \n",
      "\u001b[1;32m<ipython-input-24-8247f55f7e70>\u001b[0m in \u001b[0;36mvalidate\u001b[1;34m(self, other)\u001b[0m\n\u001b[0;32m     20\u001b[0m             \u001b[1;32mreturn\u001b[0m \u001b[1;32mFalse\u001b[0m\u001b[1;33m\u001b[0m\u001b[1;33m\u001b[0m\u001b[0m\n\u001b[0;32m     21\u001b[0m         \u001b[1;32melif\u001b[0m \u001b[0mlen\u001b[0m\u001b[1;33m(\u001b[0m\u001b[0mself\u001b[0m\u001b[1;33m)\u001b[0m \u001b[1;33m!=\u001b[0m \u001b[0mlen\u001b[0m\u001b[1;33m(\u001b[0m\u001b[0mother\u001b[0m\u001b[1;33m)\u001b[0m\u001b[1;33m:\u001b[0m\u001b[1;33m\u001b[0m\u001b[1;33m\u001b[0m\u001b[0m\n\u001b[1;32m---> 22\u001b[1;33m             \u001b[1;32mraise\u001b[0m \u001b[0mVectorMismatch\u001b[0m\u001b[1;33m(\u001b[0m\u001b[1;34m'Vectors must be of same length'\u001b[0m\u001b[1;33m)\u001b[0m\u001b[1;33m\u001b[0m\u001b[1;33m\u001b[0m\u001b[0m\n\u001b[0m\u001b[0;32m     23\u001b[0m         \u001b[1;32melse\u001b[0m\u001b[1;33m:\u001b[0m\u001b[1;33m\u001b[0m\u001b[1;33m\u001b[0m\u001b[0m\n\u001b[0;32m     24\u001b[0m             \u001b[1;32mreturn\u001b[0m \u001b[1;32mTrue\u001b[0m\u001b[1;33m\u001b[0m\u001b[1;33m\u001b[0m\u001b[0m\n",
      "\u001b[1;31mVectorMismatch\u001b[0m: Vectors must be of same length"
     ]
    }
   ],
   "source": [
    "v1 + v3"
   ]
  },
  {
   "cell_type": "code",
   "execution_count": 28,
   "id": "outstanding-perfume",
   "metadata": {},
   "outputs": [
    {
     "ename": "TypeError",
     "evalue": "unsupported operand type(s) for +: 'Vector' and 'int'",
     "output_type": "error",
     "traceback": [
      "\u001b[1;31m---------------------------------------------------------------------------\u001b[0m",
      "\u001b[1;31mTypeError\u001b[0m                                 Traceback (most recent call last)",
      "\u001b[1;32m<ipython-input-28-e25c380180b9>\u001b[0m in \u001b[0;36m<module>\u001b[1;34m\u001b[0m\n\u001b[1;32m----> 1\u001b[1;33m \u001b[0mv1\u001b[0m \u001b[1;33m+\u001b[0m \u001b[1;36m100\u001b[0m\u001b[1;33m\u001b[0m\u001b[1;33m\u001b[0m\u001b[0m\n\u001b[0m",
      "\u001b[1;31mTypeError\u001b[0m: unsupported operand type(s) for +: 'Vector' and 'int'"
     ]
    }
   ],
   "source": [
    "v1 + 100"
   ]
  },
  {
   "cell_type": "code",
   "execution_count": 29,
   "id": "executive-movie",
   "metadata": {},
   "outputs": [
    {
     "ename": "TypeError",
     "evalue": "unsupported operand type(s) for +: 'int' and 'Vector'",
     "output_type": "error",
     "traceback": [
      "\u001b[1;31m---------------------------------------------------------------------------\u001b[0m",
      "\u001b[1;31mTypeError\u001b[0m                                 Traceback (most recent call last)",
      "\u001b[1;32m<ipython-input-29-b2501e37e940>\u001b[0m in \u001b[0;36m<module>\u001b[1;34m\u001b[0m\n\u001b[1;32m----> 1\u001b[1;33m \u001b[1;36m100\u001b[0m \u001b[1;33m+\u001b[0m \u001b[0mv1\u001b[0m\u001b[1;33m\u001b[0m\u001b[1;33m\u001b[0m\u001b[0m\n\u001b[0m",
      "\u001b[1;31mTypeError\u001b[0m: unsupported operand type(s) for +: 'int' and 'Vector'"
     ]
    }
   ],
   "source": [
    "100 + v1"
   ]
  },
  {
   "cell_type": "code",
   "execution_count": 30,
   "id": "derived-paint",
   "metadata": {},
   "outputs": [
    {
     "data": {
      "text/plain": [
       "Vector(-3, -3, -3)"
      ]
     },
     "execution_count": 30,
     "metadata": {},
     "output_type": "execute_result"
    }
   ],
   "source": [
    "v1 - v2"
   ]
  },
  {
   "cell_type": "code",
   "execution_count": 31,
   "id": "mental-southeast",
   "metadata": {},
   "outputs": [
    {
     "ename": "VectorMismatch",
     "evalue": "Vectors must be of same length",
     "output_type": "error",
     "traceback": [
      "\u001b[1;31m---------------------------------------------------------------------------\u001b[0m",
      "\u001b[1;31mVectorMismatch\u001b[0m                            Traceback (most recent call last)",
      "\u001b[1;32m<ipython-input-31-538586ad264b>\u001b[0m in \u001b[0;36m<module>\u001b[1;34m\u001b[0m\n\u001b[1;32m----> 1\u001b[1;33m \u001b[0mv3\u001b[0m \u001b[1;33m-\u001b[0m \u001b[0mv1\u001b[0m\u001b[1;33m\u001b[0m\u001b[1;33m\u001b[0m\u001b[0m\n\u001b[0m",
      "\u001b[1;32m<ipython-input-24-8247f55f7e70>\u001b[0m in \u001b[0;36m__sub__\u001b[1;34m(self, other)\u001b[0m\n\u001b[0;32m     31\u001b[0m \u001b[1;33m\u001b[0m\u001b[0m\n\u001b[0;32m     32\u001b[0m     \u001b[1;32mdef\u001b[0m \u001b[0m__sub__\u001b[0m\u001b[1;33m(\u001b[0m\u001b[0mself\u001b[0m\u001b[1;33m,\u001b[0m \u001b[0mother\u001b[0m\u001b[1;33m)\u001b[0m\u001b[1;33m:\u001b[0m\u001b[1;33m\u001b[0m\u001b[1;33m\u001b[0m\u001b[0m\n\u001b[1;32m---> 33\u001b[1;33m         \u001b[1;32mif\u001b[0m \u001b[1;32mnot\u001b[0m \u001b[0mself\u001b[0m\u001b[1;33m.\u001b[0m\u001b[0mvalidate\u001b[0m\u001b[1;33m(\u001b[0m\u001b[0mother\u001b[0m\u001b[1;33m)\u001b[0m\u001b[1;33m:\u001b[0m\u001b[1;33m\u001b[0m\u001b[1;33m\u001b[0m\u001b[0m\n\u001b[0m\u001b[0;32m     34\u001b[0m             \u001b[1;32mreturn\u001b[0m \u001b[0mNotImplemented\u001b[0m\u001b[1;33m\u001b[0m\u001b[1;33m\u001b[0m\u001b[0m\n\u001b[0;32m     35\u001b[0m         return Vector(*(x - y \n",
      "\u001b[1;32m<ipython-input-24-8247f55f7e70>\u001b[0m in \u001b[0;36mvalidate\u001b[1;34m(self, other)\u001b[0m\n\u001b[0;32m     20\u001b[0m             \u001b[1;32mreturn\u001b[0m \u001b[1;32mFalse\u001b[0m\u001b[1;33m\u001b[0m\u001b[1;33m\u001b[0m\u001b[0m\n\u001b[0;32m     21\u001b[0m         \u001b[1;32melif\u001b[0m \u001b[0mlen\u001b[0m\u001b[1;33m(\u001b[0m\u001b[0mself\u001b[0m\u001b[1;33m)\u001b[0m \u001b[1;33m!=\u001b[0m \u001b[0mlen\u001b[0m\u001b[1;33m(\u001b[0m\u001b[0mother\u001b[0m\u001b[1;33m)\u001b[0m\u001b[1;33m:\u001b[0m\u001b[1;33m\u001b[0m\u001b[1;33m\u001b[0m\u001b[0m\n\u001b[1;32m---> 22\u001b[1;33m             \u001b[1;32mraise\u001b[0m \u001b[0mVectorMismatch\u001b[0m\u001b[1;33m(\u001b[0m\u001b[1;34m'Vectors must be of same length'\u001b[0m\u001b[1;33m)\u001b[0m\u001b[1;33m\u001b[0m\u001b[1;33m\u001b[0m\u001b[0m\n\u001b[0m\u001b[0;32m     23\u001b[0m         \u001b[1;32melse\u001b[0m\u001b[1;33m:\u001b[0m\u001b[1;33m\u001b[0m\u001b[1;33m\u001b[0m\u001b[0m\n\u001b[0;32m     24\u001b[0m             \u001b[1;32mreturn\u001b[0m \u001b[1;32mTrue\u001b[0m\u001b[1;33m\u001b[0m\u001b[1;33m\u001b[0m\u001b[0m\n",
      "\u001b[1;31mVectorMismatch\u001b[0m: Vectors must be of same length"
     ]
    }
   ],
   "source": [
    "v3 - v1"
   ]
  },
  {
   "cell_type": "code",
   "execution_count": 32,
   "id": "forty-dispute",
   "metadata": {},
   "outputs": [
    {
     "data": {
      "text/plain": [
       "Vector(3, 3, 3)"
      ]
     },
     "execution_count": 32,
     "metadata": {},
     "output_type": "execute_result"
    }
   ],
   "source": [
    "v2 - v1"
   ]
  },
  {
   "cell_type": "code",
   "execution_count": 36,
   "id": "significant-budapest",
   "metadata": {},
   "outputs": [],
   "source": [
    "\n",
    "class VectorMismatch(Exception):\n",
    "    pass\n",
    "\n",
    "\n",
    "class Vector:\n",
    "    def __init__(self, *components):\n",
    "        if len(components) < 1:\n",
    "            raise ValueError('Cannot create an empty Vector')\n",
    "        for component in components:\n",
    "            if not isinstance(component, Real):\n",
    "                raise ValueError('All the components must be real numbers')\n",
    "        self._components = tuple(components)\n",
    "        \n",
    "    @property\n",
    "    def components(self):\n",
    "        return self._components\n",
    "    \n",
    "    def validate(self, other):\n",
    "        if not isinstance(other, Vector):\n",
    "            return False\n",
    "        elif len(self) != len(other):\n",
    "            raise VectorMismatch('Vectors must be of same length')\n",
    "        else:\n",
    "            return True\n",
    "    \n",
    "    def __add__(self, other):\n",
    "        if not self.validate(other):\n",
    "            return NotImplemented\n",
    "        return Vector(*(x + y \n",
    "                        for x, y in zip(self.components, other.components)))\n",
    "    \n",
    "    def __sub__(self, other):\n",
    "        if not self.validate(other):\n",
    "            return NotImplemented\n",
    "        return Vector(*(x - y \n",
    "                        for x, y in zip(self.components, other.components)))\n",
    "    \n",
    "    def __mul__(self, other):\n",
    "        if isinstance(other, Real):\n",
    "            return Vector(*(other * component for component in self.components))\n",
    "        if not self.validate(other):\n",
    "            return NotImplemented\n",
    "        return sum(x * y for x, y in zip(self.components, other.components))\n",
    "    \n",
    "    \n",
    "    def __len__(self):\n",
    "        return len(self._components)\n",
    "    \n",
    "    def __repr__(self):\n",
    "        return f'Vector{self._components}'"
   ]
  },
  {
   "cell_type": "code",
   "execution_count": 37,
   "id": "rocky-qualification",
   "metadata": {},
   "outputs": [],
   "source": [
    "v1 = Vector(1, 2, 3)\n",
    "v2 = Vector(4, 5, 6)\n",
    "v3 = Vector(7, 8)"
   ]
  },
  {
   "cell_type": "code",
   "execution_count": 38,
   "id": "regulated-criticism",
   "metadata": {},
   "outputs": [
    {
     "data": {
      "text/plain": [
       "Vector(10, 20, 30)"
      ]
     },
     "execution_count": 38,
     "metadata": {},
     "output_type": "execute_result"
    }
   ],
   "source": [
    "v1 * 10"
   ]
  },
  {
   "cell_type": "code",
   "execution_count": 39,
   "id": "accredited-layout",
   "metadata": {},
   "outputs": [
    {
     "data": {
      "text/plain": [
       "Vector(700, 800)"
      ]
     },
     "execution_count": 39,
     "metadata": {},
     "output_type": "execute_result"
    }
   ],
   "source": [
    "v3 * 100"
   ]
  },
  {
   "cell_type": "code",
   "execution_count": 40,
   "id": "suited-portland",
   "metadata": {},
   "outputs": [
    {
     "ename": "VectorMismatch",
     "evalue": "Vectors must be of same length",
     "output_type": "error",
     "traceback": [
      "\u001b[1;31m---------------------------------------------------------------------------\u001b[0m",
      "\u001b[1;31mVectorMismatch\u001b[0m                            Traceback (most recent call last)",
      "\u001b[1;32m<ipython-input-40-f1e32fb1d6e4>\u001b[0m in \u001b[0;36m<module>\u001b[1;34m\u001b[0m\n\u001b[1;32m----> 1\u001b[1;33m \u001b[0mv1\u001b[0m \u001b[1;33m*\u001b[0m \u001b[0mv3\u001b[0m\u001b[1;33m\u001b[0m\u001b[1;33m\u001b[0m\u001b[0m\n\u001b[0m",
      "\u001b[1;32m<ipython-input-36-27c5a1b824ed>\u001b[0m in \u001b[0;36m__mul__\u001b[1;34m(self, other)\u001b[0m\n\u001b[0;32m     39\u001b[0m         \u001b[1;32mif\u001b[0m \u001b[0misinstance\u001b[0m\u001b[1;33m(\u001b[0m\u001b[0mother\u001b[0m\u001b[1;33m,\u001b[0m \u001b[0mReal\u001b[0m\u001b[1;33m)\u001b[0m\u001b[1;33m:\u001b[0m\u001b[1;33m\u001b[0m\u001b[1;33m\u001b[0m\u001b[0m\n\u001b[0;32m     40\u001b[0m             \u001b[1;32mreturn\u001b[0m \u001b[0mVector\u001b[0m\u001b[1;33m(\u001b[0m\u001b[1;33m*\u001b[0m\u001b[1;33m(\u001b[0m\u001b[0mother\u001b[0m \u001b[1;33m*\u001b[0m \u001b[0mcomponent\u001b[0m \u001b[1;32mfor\u001b[0m \u001b[0mcomponent\u001b[0m \u001b[1;32min\u001b[0m \u001b[0mself\u001b[0m\u001b[1;33m.\u001b[0m\u001b[0mcomponents\u001b[0m\u001b[1;33m)\u001b[0m\u001b[1;33m)\u001b[0m\u001b[1;33m\u001b[0m\u001b[1;33m\u001b[0m\u001b[0m\n\u001b[1;32m---> 41\u001b[1;33m         \u001b[1;32mif\u001b[0m \u001b[1;32mnot\u001b[0m \u001b[0mself\u001b[0m\u001b[1;33m.\u001b[0m\u001b[0mvalidate\u001b[0m\u001b[1;33m(\u001b[0m\u001b[0mother\u001b[0m\u001b[1;33m)\u001b[0m\u001b[1;33m:\u001b[0m\u001b[1;33m\u001b[0m\u001b[1;33m\u001b[0m\u001b[0m\n\u001b[0m\u001b[0;32m     42\u001b[0m             \u001b[1;32mreturn\u001b[0m \u001b[0mNotImplemented\u001b[0m\u001b[1;33m\u001b[0m\u001b[1;33m\u001b[0m\u001b[0m\n\u001b[0;32m     43\u001b[0m         \u001b[1;32mreturn\u001b[0m \u001b[0msum\u001b[0m\u001b[1;33m(\u001b[0m\u001b[0mx\u001b[0m \u001b[1;33m*\u001b[0m \u001b[0my\u001b[0m \u001b[1;32mfor\u001b[0m \u001b[0mx\u001b[0m\u001b[1;33m,\u001b[0m \u001b[0my\u001b[0m \u001b[1;32min\u001b[0m \u001b[0mzip\u001b[0m\u001b[1;33m(\u001b[0m\u001b[0mself\u001b[0m\u001b[1;33m.\u001b[0m\u001b[0mcomponents\u001b[0m\u001b[1;33m,\u001b[0m \u001b[0mother\u001b[0m\u001b[1;33m.\u001b[0m\u001b[0mcomponents\u001b[0m\u001b[1;33m)\u001b[0m\u001b[1;33m)\u001b[0m\u001b[1;33m\u001b[0m\u001b[1;33m\u001b[0m\u001b[0m\n",
      "\u001b[1;32m<ipython-input-36-27c5a1b824ed>\u001b[0m in \u001b[0;36mvalidate\u001b[1;34m(self, other)\u001b[0m\n\u001b[0;32m     20\u001b[0m             \u001b[1;32mreturn\u001b[0m \u001b[1;32mFalse\u001b[0m\u001b[1;33m\u001b[0m\u001b[1;33m\u001b[0m\u001b[0m\n\u001b[0;32m     21\u001b[0m         \u001b[1;32melif\u001b[0m \u001b[0mlen\u001b[0m\u001b[1;33m(\u001b[0m\u001b[0mself\u001b[0m\u001b[1;33m)\u001b[0m \u001b[1;33m!=\u001b[0m \u001b[0mlen\u001b[0m\u001b[1;33m(\u001b[0m\u001b[0mother\u001b[0m\u001b[1;33m)\u001b[0m\u001b[1;33m:\u001b[0m\u001b[1;33m\u001b[0m\u001b[1;33m\u001b[0m\u001b[0m\n\u001b[1;32m---> 22\u001b[1;33m             \u001b[1;32mraise\u001b[0m \u001b[0mVectorMismatch\u001b[0m\u001b[1;33m(\u001b[0m\u001b[1;34m'Vectors must be of same length'\u001b[0m\u001b[1;33m)\u001b[0m\u001b[1;33m\u001b[0m\u001b[1;33m\u001b[0m\u001b[0m\n\u001b[0m\u001b[0;32m     23\u001b[0m         \u001b[1;32melse\u001b[0m\u001b[1;33m:\u001b[0m\u001b[1;33m\u001b[0m\u001b[1;33m\u001b[0m\u001b[0m\n\u001b[0;32m     24\u001b[0m             \u001b[1;32mreturn\u001b[0m \u001b[1;32mTrue\u001b[0m\u001b[1;33m\u001b[0m\u001b[1;33m\u001b[0m\u001b[0m\n",
      "\u001b[1;31mVectorMismatch\u001b[0m: Vectors must be of same length"
     ]
    }
   ],
   "source": [
    "v1 * v3"
   ]
  },
  {
   "cell_type": "code",
   "execution_count": 41,
   "id": "interested-reservation",
   "metadata": {},
   "outputs": [
    {
     "ename": "TypeError",
     "evalue": "can't multiply sequence by non-int of type 'Vector'",
     "output_type": "error",
     "traceback": [
      "\u001b[1;31m---------------------------------------------------------------------------\u001b[0m",
      "\u001b[1;31mTypeError\u001b[0m                                 Traceback (most recent call last)",
      "\u001b[1;32m<ipython-input-41-04f78493cd52>\u001b[0m in \u001b[0;36m<module>\u001b[1;34m\u001b[0m\n\u001b[1;32m----> 1\u001b[1;33m \u001b[0mv1\u001b[0m \u001b[1;33m*\u001b[0m \u001b[1;34m'hello'\u001b[0m\u001b[1;33m\u001b[0m\u001b[1;33m\u001b[0m\u001b[0m\n\u001b[0m",
      "\u001b[1;31mTypeError\u001b[0m: can't multiply sequence by non-int of type 'Vector'"
     ]
    }
   ],
   "source": [
    "v1 * 'hello'"
   ]
  },
  {
   "cell_type": "code",
   "execution_count": 42,
   "id": "imperial-improvement",
   "metadata": {},
   "outputs": [
    {
     "ename": "TypeError",
     "evalue": "can't multiply sequence by non-int of type 'Vector'",
     "output_type": "error",
     "traceback": [
      "\u001b[1;31m---------------------------------------------------------------------------\u001b[0m",
      "\u001b[1;31mTypeError\u001b[0m                                 Traceback (most recent call last)",
      "\u001b[1;32m<ipython-input-42-95a1c6632728>\u001b[0m in \u001b[0;36m<module>\u001b[1;34m\u001b[0m\n\u001b[1;32m----> 1\u001b[1;33m \u001b[0mv1\u001b[0m \u001b[1;33m*\u001b[0m \u001b[1;33m[\u001b[0m\u001b[1;36m1\u001b[0m\u001b[1;33m,\u001b[0m \u001b[1;36m2\u001b[0m\u001b[1;33m,\u001b[0m \u001b[1;36m4\u001b[0m\u001b[1;33m]\u001b[0m\u001b[1;33m\u001b[0m\u001b[1;33m\u001b[0m\u001b[0m\n\u001b[0m",
      "\u001b[1;31mTypeError\u001b[0m: can't multiply sequence by non-int of type 'Vector'"
     ]
    }
   ],
   "source": [
    "v1 * [1, 2, 4]"
   ]
  },
  {
   "cell_type": "code",
   "execution_count": 43,
   "id": "middle-appendix",
   "metadata": {},
   "outputs": [
    {
     "data": {
      "text/plain": [
       "32"
      ]
     },
     "execution_count": 43,
     "metadata": {},
     "output_type": "execute_result"
    }
   ],
   "source": [
    "v1 * v2"
   ]
  },
  {
   "cell_type": "code",
   "execution_count": 44,
   "id": "democratic-strengthening",
   "metadata": {},
   "outputs": [
    {
     "ename": "TypeError",
     "evalue": "unsupported operand type(s) for *: 'int' and 'Vector'",
     "output_type": "error",
     "traceback": [
      "\u001b[1;31m---------------------------------------------------------------------------\u001b[0m",
      "\u001b[1;31mTypeError\u001b[0m                                 Traceback (most recent call last)",
      "\u001b[1;32m<ipython-input-44-b781e1558df3>\u001b[0m in \u001b[0;36m<module>\u001b[1;34m\u001b[0m\n\u001b[1;32m----> 1\u001b[1;33m \u001b[1;36m100\u001b[0m \u001b[1;33m*\u001b[0m \u001b[0mv2\u001b[0m\u001b[1;33m\u001b[0m\u001b[1;33m\u001b[0m\u001b[0m\n\u001b[0m",
      "\u001b[1;31mTypeError\u001b[0m: unsupported operand type(s) for *: 'int' and 'Vector'"
     ]
    }
   ],
   "source": [
    "100 * v2"
   ]
  },
  {
   "cell_type": "code",
   "execution_count": 45,
   "id": "needed-commonwealth",
   "metadata": {},
   "outputs": [],
   "source": [
    "\n",
    "class VectorMismatch(Exception):\n",
    "    pass\n",
    "\n",
    "\n",
    "class Vector:\n",
    "    def __init__(self, *components):\n",
    "        if len(components) < 1:\n",
    "            raise ValueError('Cannot create an empty Vector')\n",
    "        for component in components:\n",
    "            if not isinstance(component, Real):\n",
    "                raise ValueError('All the components must be real numbers')\n",
    "        self._components = tuple(components)\n",
    "        \n",
    "    @property\n",
    "    def components(self):\n",
    "        return self._components\n",
    "    \n",
    "    def validate(self, other):\n",
    "        if not isinstance(other, Vector):\n",
    "            return False\n",
    "        elif len(self) != len(other):\n",
    "            raise VectorMismatch('Vectors must be of same length')\n",
    "        else:\n",
    "            return True\n",
    "    \n",
    "    def __add__(self, other):\n",
    "        if not self.validate(other):\n",
    "            return NotImplemented\n",
    "        return Vector(*(x + y \n",
    "                        for x, y in zip(self.components, other.components)))\n",
    "    \n",
    "    def __sub__(self, other):\n",
    "        if not self.validate(other):\n",
    "            return NotImplemented\n",
    "        return Vector(*(x - y \n",
    "                        for x, y in zip(self.components, other.components)))\n",
    "    \n",
    "    def __mul__(self, other):\n",
    "        if isinstance(other, Real):\n",
    "            return Vector(*(other * component for component in self.components))\n",
    "        if not self.validate(other):\n",
    "            return NotImplemented\n",
    "        return sum(x * y for x, y in zip(self.components, other.components))\n",
    "    \n",
    "    def __rmul__(self, other):\n",
    "        return self*other\n",
    "    \n",
    "    def __len__(self):\n",
    "        return len(self._components)\n",
    "    \n",
    "    def __repr__(self):\n",
    "        return f'Vector{self._components}'"
   ]
  },
  {
   "cell_type": "code",
   "execution_count": 46,
   "id": "satisfactory-joining",
   "metadata": {},
   "outputs": [],
   "source": [
    "v1 = Vector(1, 2, 3)\n",
    "v2 = Vector(4, 5, 6)\n",
    "v3 = Vector(7, 8)"
   ]
  },
  {
   "cell_type": "code",
   "execution_count": 47,
   "id": "weekly-motor",
   "metadata": {},
   "outputs": [
    {
     "data": {
      "text/plain": [
       "Vector(400, 500, 600)"
      ]
     },
     "execution_count": 47,
     "metadata": {},
     "output_type": "execute_result"
    }
   ],
   "source": [
    "100 * v2"
   ]
  },
  {
   "cell_type": "code",
   "execution_count": 52,
   "id": "satisfied-produce",
   "metadata": {},
   "outputs": [],
   "source": [
    "\n",
    "class VectorMismatch(Exception):\n",
    "    pass\n",
    "\n",
    "\n",
    "class Vector:\n",
    "    def __init__(self, *components):\n",
    "        if len(components) < 1:\n",
    "            raise ValueError('Cannot create an empty Vector')\n",
    "        for component in components:\n",
    "            if not isinstance(component, Real):\n",
    "                raise ValueError('All the components must be real numbers')\n",
    "        self._components = tuple(components)\n",
    "        \n",
    "    @property\n",
    "    def components(self):\n",
    "        return self._components\n",
    "    \n",
    "    def validate(self, other):\n",
    "        if not isinstance(other, Vector):\n",
    "            return False\n",
    "        elif len(self) != len(other):\n",
    "            raise VectorMismatch('Vectors must be of same length')\n",
    "        else:\n",
    "            return True\n",
    "    \n",
    "    def __add__(self, other):\n",
    "        if not self.validate(other):\n",
    "            return NotImplemented\n",
    "        return Vector(*(x + y \n",
    "                        for x, y in zip(self.components, other.components)))\n",
    "    \n",
    "    def __sub__(self, other):\n",
    "        if not self.validate(other):\n",
    "            return NotImplemented\n",
    "        return Vector(*(x - y \n",
    "                        for x, y in zip(self.components, other.components)))\n",
    "    \n",
    "    def __iadd__(self, other):\n",
    "        if not self.validate(other):\n",
    "            return NotImplemented\n",
    "        self._components = tuple(x + y for x, y in zip(self.components, other.components))\n",
    "        return self\n",
    "    \n",
    "    def __isub__(self, other):\n",
    "        if not self.validate(other):\n",
    "            return NotImplemented\n",
    "        self._components = tuple(x - y for x, y in zip(self.components, other.components))\n",
    "        return self\n",
    "    \n",
    "    def __mul__(self, other):\n",
    "        if isinstance(other, Real):\n",
    "            return Vector(*(other * component for component in self.components))\n",
    "        if not self.validate(other):\n",
    "            return NotImplemented\n",
    "        return sum(x * y for x, y in zip(self.components, other.components))\n",
    "    \n",
    "    def __rmul__(self, other):\n",
    "        return self*other\n",
    "    \n",
    "    \n",
    "    def __len__(self):\n",
    "        return len(self._components)\n",
    "    \n",
    "    def __repr__(self):\n",
    "        return f'Vector{self._components}'"
   ]
  },
  {
   "cell_type": "code",
   "execution_count": 53,
   "id": "excess-retail",
   "metadata": {},
   "outputs": [
    {
     "name": "stdout",
     "output_type": "stream",
     "text": [
      "2198161396928\n",
      "Vector(1, 1, 1)\n",
      "2198161396928\n"
     ]
    }
   ],
   "source": [
    "v1 = Vector(0, 0, 0)\n",
    "v2 = Vector(1, 1, 1)\n",
    "print(id(v1))\n",
    "v1 += v2\n",
    "print(v1)\n",
    "print(id(v1))"
   ]
  },
  {
   "cell_type": "code",
   "execution_count": 54,
   "id": "lonely-latter",
   "metadata": {},
   "outputs": [
    {
     "name": "stdout",
     "output_type": "stream",
     "text": [
      "2198182906752\n",
      "Vector(-1, -1, -1)\n",
      "2198182906752\n"
     ]
    }
   ],
   "source": [
    "v1 = Vector(0, 0, 0)\n",
    "v2 = Vector(1, 1, 1)\n",
    "print(id(v1))\n",
    "v1 -= v2\n",
    "print(v1)\n",
    "print(id(v1))"
   ]
  },
  {
   "cell_type": "code",
   "execution_count": 55,
   "id": "delayed-phrase",
   "metadata": {},
   "outputs": [],
   "source": [
    "\n",
    "class VectorMismatch(Exception):\n",
    "    pass\n",
    "\n",
    "\n",
    "class Vector:\n",
    "    def __init__(self, *components):\n",
    "        if len(components) < 1:\n",
    "            raise ValueError('Cannot create an empty Vector')\n",
    "        for component in components:\n",
    "            if not isinstance(component, Real):\n",
    "                raise ValueError('All the components must be real numbers')\n",
    "        self._components = tuple(components)\n",
    "        \n",
    "    @property\n",
    "    def components(self):\n",
    "        return self._components\n",
    "    \n",
    "    def validate(self, other):\n",
    "        if not isinstance(other, Vector):\n",
    "            return False\n",
    "        elif len(self) != len(other):\n",
    "            raise VectorMismatch('Vectors must be of same length')\n",
    "        else:\n",
    "            return True\n",
    "    \n",
    "    def __add__(self, other):\n",
    "        if not self.validate(other):\n",
    "            return NotImplemented\n",
    "        return Vector(*(x + y \n",
    "                        for x, y in zip(self.components, other.components)))\n",
    "    \n",
    "    def __sub__(self, other):\n",
    "        if not self.validate(other):\n",
    "            return NotImplemented\n",
    "        return Vector(*(x - y \n",
    "                        for x, y in zip(self.components, other.components)))\n",
    "    \n",
    "    def __iadd__(self, other):\n",
    "        if not self.validate(other):\n",
    "            return NotImplemented\n",
    "        self._components = tuple(x + y for x, y in zip(self.components, other.components))\n",
    "        return self\n",
    "    \n",
    "    def __isub__(self, other):\n",
    "        if not self.validate(other):\n",
    "            return NotImplemented\n",
    "        self._components = tuple(x - y for x, y in zip(self.components, other.components))\n",
    "        return self\n",
    "    \n",
    "    def __mul__(self, other):\n",
    "        if isinstance(other, Real):\n",
    "            return Vector(*(other * component for component in self.components))\n",
    "        if not self.validate(other):\n",
    "            return NotImplemented\n",
    "        return sum(x * y for x, y in zip(self.components, other.components))\n",
    "    \n",
    "    def __rmul__(self, other):\n",
    "        return self*other\n",
    "    \n",
    "    def __neg__(self):\n",
    "        return Vector(*(-component for component in self.components))\n",
    "        \n",
    "    def __len__(self):\n",
    "        return len(self._components)\n",
    "    \n",
    "    def __repr__(self):\n",
    "        return f'Vector{self._components}'"
   ]
  },
  {
   "cell_type": "code",
   "execution_count": 56,
   "id": "round-condition",
   "metadata": {},
   "outputs": [],
   "source": [
    "v1 = Vector(100, 100, 12)"
   ]
  },
  {
   "cell_type": "code",
   "execution_count": 57,
   "id": "interpreted-december",
   "metadata": {},
   "outputs": [
    {
     "data": {
      "text/plain": [
       "Vector(-100, -100, -12)"
      ]
     },
     "execution_count": 57,
     "metadata": {},
     "output_type": "execute_result"
    }
   ],
   "source": [
    "-v1"
   ]
  },
  {
   "cell_type": "code",
   "execution_count": 58,
   "id": "chubby-ordering",
   "metadata": {},
   "outputs": [],
   "source": [
    "v1 = Vector(0, 0, 1)"
   ]
  },
  {
   "cell_type": "code",
   "execution_count": 59,
   "id": "printable-accused",
   "metadata": {},
   "outputs": [
    {
     "data": {
      "text/plain": [
       "Vector(0, 0, -1)"
      ]
     },
     "execution_count": 59,
     "metadata": {},
     "output_type": "execute_result"
    }
   ],
   "source": [
    "-v1"
   ]
  },
  {
   "cell_type": "code",
   "execution_count": 60,
   "id": "portable-receiver",
   "metadata": {},
   "outputs": [],
   "source": [
    "from math import sqrt"
   ]
  },
  {
   "cell_type": "code",
   "execution_count": 61,
   "id": "usual-subject",
   "metadata": {},
   "outputs": [],
   "source": [
    "\n",
    "class VectorMismatch(Exception):\n",
    "    pass\n",
    "\n",
    "\n",
    "class Vector:\n",
    "    def __init__(self, *components):\n",
    "        if len(components) < 1:\n",
    "            raise ValueError('Cannot create an empty Vector')\n",
    "        for component in components:\n",
    "            if not isinstance(component, Real):\n",
    "                raise ValueError('All the components must be real numbers')\n",
    "        self._components = tuple(components)\n",
    "        \n",
    "    @property\n",
    "    def components(self):\n",
    "        return self._components\n",
    "    \n",
    "    def validate(self, other):\n",
    "        if not isinstance(other, Vector):\n",
    "            return False\n",
    "        elif len(self) != len(other):\n",
    "            raise VectorMismatch('Vectors must be of same length')\n",
    "        else:\n",
    "            return True\n",
    "    \n",
    "    def __add__(self, other):\n",
    "        if not self.validate(other):\n",
    "            return NotImplemented\n",
    "        return Vector(*(x + y \n",
    "                        for x, y in zip(self.components, other.components)))\n",
    "    \n",
    "    def __sub__(self, other):\n",
    "        if not self.validate(other):\n",
    "            return NotImplemented\n",
    "        return Vector(*(x - y \n",
    "                        for x, y in zip(self.components, other.components)))\n",
    "    \n",
    "    def __iadd__(self, other):\n",
    "        if not self.validate(other):\n",
    "            return NotImplemented\n",
    "        self._components = tuple(x + y for x, y in zip(self.components, other.components))\n",
    "        return self\n",
    "    \n",
    "    def __isub__(self, other):\n",
    "        if not self.validate(other):\n",
    "            return NotImplemented\n",
    "        self._components = tuple(x - y for x, y in zip(self.components, other.components))\n",
    "        return self\n",
    "    \n",
    "    def __mul__(self, other):\n",
    "        if isinstance(other, Real):\n",
    "            return Vector(*(other * component for component in self.components))\n",
    "        if not self.validate(other):\n",
    "            return NotImplemented\n",
    "        return sum(x * y for x, y in zip(self.components, other.components))\n",
    "    \n",
    "    def __rmul__(self, other):\n",
    "        return self*other\n",
    "    \n",
    "    def __neg__(self):\n",
    "        return Vector(*(-component for component in self.components))\n",
    "    \n",
    "    def __abs__(self):\n",
    "        return sqrt(sum(component**2 for component in self.components))\n",
    "        \n",
    "    def __len__(self):\n",
    "        return len(self._components)\n",
    "    \n",
    "    def __repr__(self):\n",
    "        return f'Vector{self._components}'"
   ]
  },
  {
   "cell_type": "code",
   "execution_count": 62,
   "id": "involved-marijuana",
   "metadata": {},
   "outputs": [],
   "source": [
    "v1 = Vector(10)"
   ]
  },
  {
   "cell_type": "code",
   "execution_count": 63,
   "id": "organized-substitute",
   "metadata": {},
   "outputs": [
    {
     "data": {
      "text/plain": [
       "10.0"
      ]
     },
     "execution_count": 63,
     "metadata": {},
     "output_type": "execute_result"
    }
   ],
   "source": [
    "abs(v1)"
   ]
  },
  {
   "cell_type": "code",
   "execution_count": null,
   "id": "framed-violence",
   "metadata": {},
   "outputs": [],
   "source": []
  }
 ],
 "metadata": {
  "kernelspec": {
   "display_name": "Python 3",
   "language": "python",
   "name": "python3"
  },
  "language_info": {
   "codemirror_mode": {
    "name": "ipython",
    "version": 3
   },
   "file_extension": ".py",
   "mimetype": "text/x-python",
   "name": "python",
   "nbconvert_exporter": "python",
   "pygments_lexer": "ipython3",
   "version": "3.9.1"
  }
 },
 "nbformat": 4,
 "nbformat_minor": 5
}
